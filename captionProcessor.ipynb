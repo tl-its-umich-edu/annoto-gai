{
 "cells": [
  {
   "cell_type": "markdown",
   "metadata": {},
   "source": [
    "## Initialize libraries, setup Config file and retrieve transcripts"
   ]
  },
  {
   "cell_type": "code",
   "execution_count": 1,
   "metadata": {},
   "outputs": [],
   "source": [
    "from helper import *\n",
    "\n",
    "config = Config()\n",
    "config.setFromEnv()\n",
    "\n",
    "videoNames = [\n",
    "    \"New Quizzes Video\",\n",
    "    \"Rearrange Playlist video\",\n",
    "    \"IMSE 514 Presentation\",\n",
    "    \"New Google Assignments in Canvas\",\n",
    "    \"Piazza Introduction Workshop\",\n",
    "]\n",
    "combinedTranscripts = getCombinedTranscripts(\n",
    "    captionsFolder=\"Captions\", videoNames=videoNames\n",
    ")\n",
    "\n",
    "videoToUse = \"Piazza Introduction Workshop\"\n",
    "transcriptToUse = combinedTranscripts[videoToUse]"
   ]
  },
  {
   "cell_type": "markdown",
   "metadata": {},
   "source": [
    "## Run BERTTopic to get Topics over Time\n",
    "3 choices of  Represnatation Models that can be used:\n",
    "\n",
    "    'simple': Uses BERTopic alone, takes -40 seconds to run\n",
    "    'openai': Uses BERTopic and OpenAI to generate interpretable topic titles, takes ~6 minutes to run\n",
    "    'langchain': Uses BERTopic and LangChain to generate interpretable topic titles, takes ~3 minutes to run\n",
    "\n",
    "\n",
    "I recommend using 'langchain', as it is faster and seems to perform better regarding the titles generated. \n",
    "\n",
    "It also has an easier to modify prompt if you want some flexibility there."
   ]
  },
  {
   "cell_type": "code",
   "execution_count": 2,
   "metadata": {},
   "outputs": [],
   "source": [
    "topicsOverTime, topicModel = retrieveTopics(videoToUse, transcriptToUse, config=config)"
   ]
  },
  {
   "cell_type": "markdown",
   "metadata": {},
   "source": [
    "## Find appropiate Topic timestamps and associated transcript text"
   ]
  },
  {
   "cell_type": "code",
   "execution_count": 3,
   "metadata": {},
   "outputs": [],
   "source": [
    "maxTopics = getMaxTopics(topicsOverTime, transcriptToUse)\n",
    "topicTexts = getRelevantText(maxTopics, transcriptToUse)"
   ]
  },
  {
   "cell_type": "markdown",
   "metadata": {},
   "source": [
    "## Generate Questions from Extracted Topic & Timestamp data\n",
    "Takes ~2 minutes to run"
   ]
  },
  {
   "cell_type": "code",
   "execution_count": 4,
   "metadata": {},
   "outputs": [
    {
     "name": "stdout",
     "output_type": "stream",
     "text": [
      "{'Keywords: Course Folder Management': {'Topic': 1, 'Words': 'Course Folder Management, , , , ', 'Frequency': 2, 'Name': 'Keywords: Course Folder Management, , , , ', 'Start': Timestamp('1900-01-01 00:00:00.530000'), 'End': Timestamp('1900-01-01 00:33:55.117045454'), 'Relevant Text': 'comfortable speaking up in class, allowing them to post anonymously. Another fundamental role of Piazza is also to help reduce redundancy. Instead of getting multiple emails throughout the semester about the same questions, one student can post it on Piazza, other students can find it and they\\'ll help reduce any duplicate emails that might fill up your inbox over time. Piazza also is a very flexible and customizable platform, so no matter how you teach or your teaching style, there\\'s a lot of configuration involved in Piazza so you can always tailor it to the way that you want to teach. We\\'re going to start with the homepage of Piazza. If you were to log in and open up your class here, this is the page you\\'d see, and you can see this is the Q&A page, so this is the main page for your class. The first thing you\\'ll look at up here is the class at a glance. This is pretty much a dashboard of your class and status. You can see if you have any unread posts, you can see if you have any unanswered questions, and you can see if you have any unresolved follow-ups. You can actually click into any of these and it\\'ll filter your feed over here so you can see what those call-outs are for. Looking at the feed on the left side, this is where all of your post will live. This will populate in real time, so if you\\'re working on something and a student posts, you\\'ll see it pop up here at the top. This will always be changing and always keeping up to date with the class. I also have a couple of different sections here on your feed. The first section is your Pinned section and this is pretty easy to do. Say you want a post, you want pin it, you discovered the Action drop-down and hit \"Pin\" and that\\'ll move it up to this section. This is for the whole class, if you have any important announcements, you can leave them up here. Under that, you\\'ll have favorites, which obviously is your favorited post. If you want something that is more for you, you just want to be able post keep it at the top, you can do that as well. Then below that, everything else goes in chronological order and you can see they are broken down by weeks, so you can collapse or open these if you need it and this lets you see all the history of your posts in Piazza. If you look at the top here, we have our blue bar and this is our main navigation section. You have a class drop down where you can go into different classes, you have the Q&A, which is where we are, you\\'ve the resources stats and your managed class. Right below that we have our folder bar. The folder bar is this gray section right here and this lets you go through all the different folders in your class. Posts on Piazza, they actually require you to tag them into a folder. Every post has a home and they don\\'t get lost. If you want to look specifically, maybe at Project 1, you can go in here, click on Project 1 and then you\\'ll see here it filters V on the left side to show all of your posts tagged with the Project 1. Folders on Piazza are very customizable, you can manage them however you\\'d like, so this is just how this particular class was set up and you can manage these and we\\'ll show you how to do that later. Let\\'s take a look at the different post on Piazza because this is the real meat of the class. If you take a look at our first poll type, we have a poll, and a poll just really helps you get a post of your class. You can do a couple of different things with them. You can use them to, let\\'s say you want to know what hours are best for office hours, so you can set up a poll. You can see who\\'s voting. You can actually click Show voters if you\\'d like and there\\'s a lot of different options with poles which we\\'ll go into as well. Let\\'s take a look at the Poll Options. As you can see, you can easily add a poll choice just by typing in here. Let\\'s say you want to do 5:00 to 6:00 PM. [NOISE] 6:00 PM we add and I will just show up here and you can click and drag to reorder them. Now, you can also choose to add a poll explanation. You can choose if you want multiple choice or one choice for office hours, you might want to do multiple choice so people can choose different preferences because they might have more than one. You can choose when the poll should close. You can show if you want to show the results to students, so you have a couple of different options here. You can allow or disallow revotes, and you can also choose your poll anonymous settings. This is important if you don\\'t want students to see who\\'s voting for what, you can change that here as well. Let\\'s get out of here. That\\'s our first poll type. Then you also have the option to download pole stats if needed, so this will give you as the instructor the ability to analyze the data and get into if you would like to. Now, the next poll type would be a note. You can use it two ways, you can use as a general announcement because notes themselves don\\'t require answers, they\\'re just announcement. But you can also use notes for more open-ended questions. Say if you have a humanities course or maybe a philosophy course and there\\'s not really one right answer. You can open this up for discussion and let anyone answer how did which. You can also see a couple of features here. We have our tech equations, which we\\'ll go into as well, and you can also see the code syntax and formatting that we have here, which is all built in to Piazza\\'s text editor. You also have the ability, if you have a Computer Science course, to enable running code snippets. This code actually probably will not work, and you can run it here and you can see the results in line, and so if you just have a little practice or a question that you want students to answer, they can go ahead and do that here. I am missing a bunch of syntax and [LAUGHTER] getting a lot of errors for that one. Now, let\\'s take a look at a question. [NOISE] Questions are the core of Piazza and there are structured in a very meaningful way. At the top you\\'ll see the question box, which is where students can post the question, but any student can also edit the question. If they have maybe some context or some other viewpoints that weren\\'t added by the first student, they can go ahead and do that as well. Then, below that will be the answer boxes. You always have the students answer box and the instructors answer box right below that question box, and so this is really great because in a more traditional threaded discussion, the first post will be the question, but that then things and answers can get lost as you go down a couple of pages and you have to scroll a lot and it\\'s difficult for a student to find that one answer that we\\'re looking for. What\\'s great about Piazza is these answer boxes always sit right below the question box, so you can always see where it is. These sections are also editable, so it\\'s a very collaborative workspace. All the instructors can work on one single answer here and the instructors answer box and students can actually add up the students answer as well and work on that. Now, you can see here there\\'s also this green text here that says, an instructor endorsed this answer. Let me undo this one. As an instructor, if you see that this question pretty much hits the points, it\\'s good to go. They can hit \"Good answer\" and it will endorse that, so other students can see that this answer has been endorsed. This is probably good to go and they can trust that answer. This is helpful from two points. The instructor, they can just click one button and then let the class know, hey, this is a great answer. The students will also see and they can trust the instructor has reviewed this and this is the one to go with. Now, if you look below the answer boxes, we have the follow-up discussion. Follow-up discussions are pretty much for everything else that you can think of. As you\\'d imagine, if you were to ask a question in class, I\\'m in a classroom and a student raises their hand to get their answer, that\\'s probably not going to be the end of the discussion. You\\'ll have other students chime in or sharing their viewpoints of their questions and this is where all of that can live. The same thing with endorsements, you can do these for follow-up as well and just hit this little good comment button, I\\'ll endorse my own [LAUGHTER] and you can see that, that same green text appears. Now, let\\'s take a look at that. With collaborative editing, it really fosters this ability for all students to work together and encourages students to collaborate rather than just having separate one on one between one student and one instructor, which you can still do, but this helps facilitate community in the class. >> Let\\'s take a look at how an anonymous post would work. Say I\\'m a student, I want to reply to this. Let me go into the student\\'s view actually. This is the same post just on the student site. Say I\\'m a student and I have a question, but I don\\'t really feel comfortable with people knowing about who I am and I just want it to be seen anonymously. There\\'s this option here where you can do post as. You can click here, choose anonymous to classmates and say, I don\\'t really know if this actual thing is for but what about limits? If I hit post as anonymous to classmates, you\\'ll see here that we actually get this anonymous poet. I guess the second part here will always be random. You can\\'t really track it\\'s posting, but everyone else will see it on as poet, they won\\'t be able to see who it is that was actually posting. As the instructor, you\\'ll see that it\\'s anonymous poet to classmates, but you\\'re still able to see the name. That\\'s because of that setting I chose to only be anonymous to classmates. Depending how you want to set this up, you can enable or disable this feature but having it on will allow instructors to still see which students are posting anonymously. Now that we have a background of the posts, we have polls, we have notes and we have questions. You can look here in the feed, polls are denoted by this little graph icon, notes are these little notebooks and questions are the standard, so they don\\'t have that little icon here. But what you can\\'t see are these green and orange boxes and some of them have checkmarks. A green box with that little s means that there\\'s a student answer and then I means that there is an instructor\\'s answer. The checkmark just means it\\'s endorsed. It\\'s really easy to look through your feed, see what\\'s pending. You can also see here we have this helper text. We have the endorsement green text that we saw before. You can also see that there is an unresolved follow-up for this post. If you go ahead and look down, this is the question that we just posted as a student and say the instructor responds here. What about limits? No limits. You go ahead and post that. Now this goes two ways. The student can mark this as resolved and now as the instructor, you know that this is good for them, they\\'re good to go. That little red text goes away and you don\\'t have to worry about it. You know where your posts are at and what needs attention, what does not. Let\\'s go ahead and take a look at making a post. Making a post on Piazza, you have the same three posts types here. You have your poll, I bet you\\'ve been into a little bit earlier with all those different options. Then we have our note. Our note is pretty standard, you can choose whether you want to post it to the entire class, class group or individual students and instructors. Then here is where you would select which folders you want it to be in. It doesn\\'t only have to be one folder, say if you have Quiz 6 but the maybe it\\'s also a logistical question you can tag it from multiple folders and it\\'ll show up under both. Then you\\'d put in your summary here and then you enter your text here. Let\\'s take a look at a question and take a look at the features of the text editor that we have on Piazza. [inaudible] a question. You can see here as you type a summary, it actually pulls from the class and shows similar questions. Say a student is going to ask about a final submission. You can click on that and student will see, oh, there\\'s already been a question asked about this. They pull it up, they can see the answer, and then they don\\'t add to the feed here. This is really great because it encourages students to look before they post. Any similar questions or the same questions will be shown to them and they can look at look at that post for help. Let\\'s go ahead and look at the actual editor here. Our text editor on Piazza is very rich. There\\'s a lot of different features, you can insert any type of file, media, image, links, anything like that. There\\'s a lot of different formatting options as well as a spot for tables. You can think of this as a mini word processor. You can manage it how you wish and you can do a lot with it. One of the first things that we can do here is let me pull. There we go. One of the things you can do with our editors actually LaTex which is something that I mentioned earlier. Say you are already familiar with the LaTeX syntax, you can go ahead and type that in and you can see that it renders here and live and you can see it in your preview. But of course, if you\\'re not familiar with LaTeX syntax, you can also go ahead and use our LaTeX equation editor. This does the same thing just for someone who\\'s not as familiar with LaTeX. They\\'ll go ahead and click that, it\\'ll give them the syntax to look in and you can see it repeating down here. You hit \"Insert\" and it will show up here as well. That\\'s really helpful if you or your students aren\\'t as familiar with the syntax this so lets them utilize this feature of the Piazza editor. The same thing goes for any code, which is something that we looked at earlier. You can see here, when adding code you can choose which language you want Piazza to understand and it\\'ll highlight, format the code as needed. Let\\'s go ahead and take a look here at a couple of other different posting options. Actually we also have some more options for the text editor. This is the standard word processors view. We also have plaintext if you are familiar with HTML. You also have the Markdown editor if you\\'re familiar with Markdown. These actually came from professor requests, some professors prefer working in HTML format, some people prefer working in Markdown. We go ahead and added these for them and it lets you distribute content the way that you\\'re comfortable with. Now we have a couple of different posting options here. With posting options, we have the ability to make this an announcement which will appear on the course page and resources which I will go over in a bit and we also have the email and the option to send email notifications immediately. What this does is actually pretty helpful, no matter what email notification setting the student has, maybe they turned email notifications off, this will actually bypass that and push this email to their inbox. If there\\'s something really important say, class is canceled, exam location has been moved, you can use this option and it\\'ll immediately notify all of the students. You also have the option to add this post to a students reading list. What this does is when a student opens Piazza and they log into their class, at the top they\\'ll actually see if any items are in the reading list. What that means is they have to go through those items before they can post and use Piazza. If you had a reading assignment or a really important assignment instruction, you can post it to the reading list and you\\'ll know whether or not they choose to take action on it, they\\'ll see it and they will be aware of it. Once you choose your options you just hit \"Post\" and your new post will show up in your feed on the left here. That\\'s the basic review of Piazza, of our Q&A are different post types as well as our feed. At this point, I can hand it over to Ryan to go over resources and the rest of the Piazza, including the [inaudible] integration. >> Let me go ahead and stop my screen share. Great. Thank you. Let\\'s begin. Morning everyone. My name is Ryan. Thanks, Daniel. What we\\'re going to do now is we\\'ve looked at our Q&A tab. We\\'re going to now look at the resources tab, statistics tab and manage class tab. Just a brief overview of what these are. Your resources tab is essentially a filing system for your course or a document hub. I will say that if you\\'re using Piazza within your learning management system, for instance, Canvas, this is not always the most needed as it can be redundant if you have already resources uploaded to your Canvas course. Regardless, some students and instructors really like having their resources everywhere, whether in Canvas or on Piazza. That\\'s essentially what your resources tab is. The Statistics tab is a learning analytics tab where you can measure and track student participation in your course. There are two views. There\\'s a view statistics and export. View statistics is exactly what it means, you get to look at and view the contribution data from your students in your course. The export tool is a new tool for us, a real fan favorite among instructors as it allows you to download or export the contribution data of your students and really glean insight into where your students are doing while they\\'re viewing posts and engaging in your course. The last tab here is managed class. This is your control center. This is where you get that deep level of customization for your Piazza class, where you as the instructor gets to decide which features to enable, which features to disable, what works best for your class. That\\'s really what happens under Manage Class. With that little brief overview, let\\'s look at resources tab. I click on \"Resources\", we\\'re given the course Information tab here. This is my course description, general information, and as Daniel mentioned, when you post a specific announcements on Piazza, this is where they can live in your resources tab. The next tab over here is staff. These are my teaching staff here in my course. You\\'ll see here this office hour section. As we moved online, you\\'ll see oftentimes this is a Zoom link for office hours. The last tab here, well, really of resources besides groups is the resource tab, and this is the real meat of the resources. Function here. This is where you\\'re uploading all of these files for your course. I\\'ll say first of all that these are all just sections that I am uploading as a test instance. These are all customizable. These can be whatever you need. I have links, homework solutions, lecture notes. These can be final exam solutions, Zoom lectures, whatever you need to support your classroom or a document perspective, this is where they could live. There\\'s a couple of features here of customization that I really enjoy here on Piazza as they\\'re tiny features but they allow it to be flexible the way you need. If I don\\'t like any of these section titles, I can change all of them by clicking here on \"Edit Resources\" section. I can then begin this level of customization. I can edit these, I can add a due date for them if they\\'re like maybe homework problems here or workbooks, I can also move them around and I can delete them. If I grab this little hamburger icon and move this to the top and click \"Save Changes\", you\\'ll see them, lecture notes gets moved to the top. Small feature, but really allows you to keep editing your course as it continues through the duration, but also just to make sure that you can keep customizing how you\\'d like. The last tab here is groups, and this is where you can see all the groups that you\\'ve been enrolled in. This is where also you as an instructor could drop a group. That\\'s our resources tab. Let\\'s look at statistics. I\\'m going to go first to \"View statistics\". Great. The first thing you\\'ll see when you click \"View statistics\" is that you\\'re going to see this usage trends graph for your course. There are two views to toggle between. Unique users per day and there\\'s posts per day. If I select that, you\\'ll see the graph changes accordingly and they\\'ll let you know the posts per day on that day. But when I keep scrolling down, this is where things get exciting. We have our top student contributors here, their number of contributions on their days on line. But here\\'s where we break that down. First we have top student askers. Those students have asked the most questions. Then here we have those students who have asked the most questions and have also received an instructor and endorsement of a good question. Next, we have top student answers. Those students who have answered the most questions, but then similarly, those students who have answered the most questions with an instructor endorsement up here. Top student endorse, answer, answerers. Next we have my favorite section here which is top student listeners. Those students who might not feel ready yet to jump into a discussion and post an answer or a question, they\\'re still counted as being participatory with a number of questions and notes that they have viewed. As a real life use case here we have a lots of instructors who have maybe say poached or recruited TAs for their course as under listeners, as these are the most active online students in your course. These are the, you can look at them as lurkers are also look at the students who are engaging in a more passive learning style. This is our top student listeners. The last section here are essentially report cards. >> I\\'m missing one side here [inaudible]. >> Sorry about that. The last section here is essentially report cards. We have an instructor participation report and a student participation report. That\\'ll give you the name, email, days online, post viewed, contributions and the same for your students. Their name and email, days online, post viewed, total contributions. That\\'s mu statistics. Let\\'s look at export statistics. As Daniel was saying, we have a lot of features here on Piazza that are a direct result of instructor and student feedback. The Export Statistics tool is a perfect example of that. When we moved to a more online space last March, instructors were looking for a better way to track and view participation of their students. What are they doing online? Not only to look at the maybe star actor students, but also instructors have mentioned that this helps them track their \"lost sheep\", those students who really are not engaging in the way they would be most useful for them. In order to glean that insight, we built this tool. What you can do here is you can download again, export the activity breakdown or contributions in your course. When I click here to edit, I can export contributions and specific ones that I want to give credit to. Posts, edits to those posts, answers, after answers, follow-ups, replies to follow-ups. I can look at instructor endorsements, I can look at participation as in post views, poll votes. I can also specify a date range. Again, looking at the use case, we have a lot of instructors who loved to see the participation information and contribution data before an exam. Bar exams are coming up. We\\'re going to go the week before and see who was really online reviewing and looking at the exam FAQ that I posted. You can also look at specific post views. Essentially who is the most active online? You\\'re just looking at the most posts in their views, and you can specify a date range for that as well. You can also export data by a folder, so bio homework. Again, even within that folder, you can specify the type of contributions that you\\'d like to see. Participation by threads. I can export by a post ID or by a keyword like this says homework exactly or project or Chapter four. We also have poll statistics that you can export, there\\'s also live Q&A participation. >> That\\'s our resources Statistics tab and lastly, Managed Class. First I\\'ll say that Piazza is a feature-rich product and that allows for lots of different use cases, a creative use cases, a wide variety of flexibility of how you can implement this tool in your course. Consequently, the Manage Class tab is a bit of a behemoth. I\\'m not going to give you everything here, but I do want to share our supports center quickly here too. This is a resource here for instructors or students. If I just type in here instructors we have a whole section here for instructors. We have a similar section for students and let me just throw this in our chat, our whole Support Center here for instructors. We have a how-to video guide, and we have a whole center for students. We have a mobile section for our free mobile apps for Android and iOS. Let me just throw this in our chat here. Again, this is not meant to replace any in-person support. This is only meant to be a resource for you and your students and also all of managed class and its features are in that Support Center. That said, here\\'s managed class. The first section of managed class is your basics: Your course number of a name, the term, the sign-up link. There\\'s one feature here that I love to share here, and this is your scheduled block date and time. Again, new feature for us and a direct result of instructor feedback. It\\'s March 2020, instructors are looking for a better way to facilitate testing environments on Piazza. We built this class locking functionality for them. What you can do is you can lock your class or shut it down from any activity from a specific time. If you have an exam this coming Friday, I can set my class to inactive and then the exam that let\\'s say it\\'s at 10:00 A.M ends. Great. I can set this class to inactive. What that means is that students can\\'t interact with post, they can\\'t create new posts, they can\\'t create a follow-up discussion, they can\\'t really engage with any post on Piazza. Really the conversations in your course shut down during this lock time. There are two more nuanced little features here with in-class locking that really allow for a real testing environment. The first one is that you can hide all of the content of the posts in your course during this period of inactivity or this lockdown. Homework solutions, exam solutions, answers really could live in your Piazza discussions. By clicking that\\'ll hide all of the content from your students. Additionally, just like in an in-person learning, if you have a question during an exam, you raise your hand, you go to the front, you ask your professor the question. This is what this feature attempts to mimic is that when this class is inactive, you can still allow private post to instructors so that in the event your student has a question they can still ask you during this period of inactivity or when your class is locked. Let\\'s move on to our next section, which is Q&A settings. The first two big ones are anonymity and private posts. Anonymity again allows your students to post anonymously in your Piazza class. If you enable this, that means students can show up as both anonymous to classmates, and to you, the instructors. If you disable anonymity, that means that students can only show up as anonymous to their classmates, but never to you, the instructor. Then you would know who\\'s posting. Private post here create this private channel conversation between you and your students. Students could never post one-on-one to each other. They can only post to you the instructor and if you\\'d like to enable that feature in your Piazza class, this is where you would do so. With Syntax Highlighting and Runnable Code Snippets for STEM courses this is where you get to select your program language. This is also where you get to enable the syntax highlighting feature here. Let\\'s move on to class folders. This is your folders control center. First of all, if you don\\'t like that feature, no problem, you can just disable that for your course. However, if you would like to use and really utilize folders within your course, this is where you get to customize this. This is where you can create new folders. This is where you can delete selected folders. Here is where you can also create sub folders. You can move the folder name, you can change the folder name. Let\\'s say for instance that in my course, now we\\'re moving on to homework Week 10. I can actually move using little hamburger guy. I can move this to the top and what that does, and it\\'s part of my scrolling here. I\\'m going to go back to my Q&A tab. Now homework Week 10 is the very first folder in my course. If that is the most relevant folder for my students and we\\'re on Week 10 in my course, I can move it to the top of the folder bar. Then it corresponds with where we are at the class. Again, it\\'s a small feature of customization, but it allows your class to be much more adaptable and really the usability just increases for both you and your students. Going back to folders. Next section here is our enrollments. If you\\'re using Piazza within your Canvas, those enrollments are really managed automatically by Canvas. This isn\\'t that relevant for you all. However, let\\'s just go over regardless. If you\\'re using Piazza as a standalone product outside of the integration, outside of your canvas. This is where you can copy and paste professor and TA emails to add to your class and your teaching staff. Click \"Add instructors\" and there\\'ll be enrolled. This is also the enrollment center for your students. So there\\'s two things you can do here. You can either copy and paste email addresses and we\\'ll parse them out for you. Or you can upload a file. It could be a roster, and then that will send all of those students welcome emails and enroll them in your course. The last section here is groups, and this is group-based discussion on Piazza. Groups on Piazza are a great way in terms of scalability for really large lecture series and also some more small project-based learning classes. If you have a really large lecture series on Piazza, you can create those groups: section 1, section 2, section 3, within your Piazza class and that means that only those students and instructors enrolled in that group will see that post. Really what that means is you get to create these intimate subsets of students within Piazza that get to have conversations without bothering the rest of the course. You can mimic that same enrollment for your large lecture series. You can create series 1, series 2, series 3 or section 2, 3, 4 and then post specifically to those sections. Also works really well for small project-based learning because then you can create lots of homework groups or lots of group projects that you\\'re doing in your course, and then you can enroll your students in those groups. Then again, only those students', 'Question Text': 'For the topic: Keywords: Course Folder Management, generate a multiple choice type question based on the following transcribed text: comfortable speaking up in class, allowing them to post anonymously. Another fundamental role of Piazza is also to help reduce redundancy. Instead of getting multiple emails throughout the semester about the same questions, one student can post it on Piazza, other students can find it and they\\'ll help reduce any duplicate emails that might fill up your inbox over time. Piazza also is a very flexible and customizable platform, so no matter how you teach or your teaching style, there\\'s a lot of configuration involved in Piazza so you can always tailor it to the way that you want to teach. We\\'re going to start with the homepage of Piazza. If you were to log in and open up your class here, this is the page you\\'d see, and you can see this is the Q&A page, so this is the main page for your class. The first thing you\\'ll look at up here is the class at a glance. This is pretty much a dashboard of your class and status. You can see if you have any unread posts, you can see if you have any unanswered questions, and you can see if you have any unresolved follow-ups. You can actually click into any of these and it\\'ll filter your feed over here so you can see what those call-outs are for. Looking at the feed on the left side, this is where all of your post will live. This will populate in real time, so if you\\'re working on something and a student posts, you\\'ll see it pop up here at the top. This will always be changing and always keeping up to date with the class. I also have a couple of different sections here on your feed. The first section is your Pinned section and this is pretty easy to do. Say you want a post, you want pin it, you discovered the Action drop-down and hit \"Pin\" and that\\'ll move it up to this section. This is for the whole class, if you have any important announcements, you can leave them up here. Under that, you\\'ll have favorites, which obviously is your favorited post. If you want something that is more for you, you just want to be able post keep it at the top, you can do that as well. Then below that, everything else goes in chronological order and you can see they are broken down by weeks, so you can collapse or open these if you need it and this lets you see all the history of your posts in Piazza. If you look at the top here, we have our blue bar and this is our main navigation section. You have a class drop down where you can go into different classes, you have the Q&A, which is where we are, you\\'ve the resources stats and your managed class. Right below that we have our folder bar. The folder bar is this gray section right here and this lets you go through all the different folders in your class. Posts on Piazza, they actually require you to tag them into a folder. Every post has a home and they don\\'t get lost. If you want to look specifically, maybe at Project 1, you can go in here, click on Project 1 and then you\\'ll see here it filters V on the left side to show all of your posts tagged with the Project 1. Folders on Piazza are very customizable, you can manage them however you\\'d like, so this is just how this particular class was set up and you can manage these and we\\'ll show you how to do that later. Let\\'s take a look at the different post on Piazza because this is the real meat of the class. If you take a look at our first poll type, we have a poll, and a poll just really helps you get a post of your class. You can do a couple of different things with them. You can use them to, let\\'s say you want to know what hours are best for office hours, so you can set up a poll. You can see who\\'s voting. You can actually click Show voters if you\\'d like and there\\'s a lot of different options with poles which we\\'ll go into as well. Let\\'s take a look at the Poll Options. As you can see, you can easily add a poll choice just by typing in here. Let\\'s say you want to do 5:00 to 6:00 PM. [NOISE] 6:00 PM we add and I will just show up here and you can click and drag to reorder them. Now, you can also choose to add a poll explanation. You can choose if you want multiple choice or one choice for office hours, you might want to do multiple choice so people can choose different preferences because they might have more than one. You can choose when the poll should close. You can show if you want to show the results to students, so you have a couple of different options here. You can allow or disallow revotes, and you can also choose your poll anonymous settings. This is important if you don\\'t want students to see who\\'s voting for what, you can change that here as well. Let\\'s get out of here. That\\'s our first poll type. Then you also have the option to download pole stats if needed, so this will give you as the instructor the ability to analyze the data and get into if you would like to. Now, the next poll type would be a note. You can use it two ways, you can use as a general announcement because notes themselves don\\'t require answers, they\\'re just announcement. But you can also use notes for more open-ended questions. Say if you have a humanities course or maybe a philosophy course and there\\'s not really one right answer. You can open this up for discussion and let anyone answer how did which. You can also see a couple of features here. We have our tech equations, which we\\'ll go into as well, and you can also see the code syntax and formatting that we have here, which is all built in to Piazza\\'s text editor. You also have the ability, if you have a Computer Science course, to enable running code snippets. This code actually probably will not work, and you can run it here and you can see the results in line, and so if you just have a little practice or a question that you want students to answer, they can go ahead and do that here. I am missing a bunch of syntax and [LAUGHTER] getting a lot of errors for that one. Now, let\\'s take a look at a question. [NOISE] Questions are the core of Piazza and there are structured in a very meaningful way. At the top you\\'ll see the question box, which is where students can post the question, but any student can also edit the question. If they have maybe some context or some other viewpoints that weren\\'t added by the first student, they can go ahead and do that as well. Then, below that will be the answer boxes. You always have the students answer box and the instructors answer box right below that question box, and so this is really great because in a more traditional threaded discussion, the first post will be the question, but that then things and answers can get lost as you go down a couple of pages and you have to scroll a lot and it\\'s difficult for a student to find that one answer that we\\'re looking for. What\\'s great about Piazza is these answer boxes always sit right below the question box, so you can always see where it is. These sections are also editable, so it\\'s a very collaborative workspace. All the instructors can work on one single answer here and the instructors answer box and students can actually add up the students answer as well and work on that. Now, you can see here there\\'s also this green text here that says, an instructor endorsed this answer. Let me undo this one. As an instructor, if you see that this question pretty much hits the points, it\\'s good to go. They can hit \"Good answer\" and it will endorse that, so other students can see that this answer has been endorsed. This is probably good to go and they can trust that answer. This is helpful from two points. The instructor, they can just click one button and then let the class know, hey, this is a great answer. The students will also see and they can trust the instructor has reviewed this and this is the one to go with. Now, if you look below the answer boxes, we have the follow-up discussion. Follow-up discussions are pretty much for everything else that you can think of. As you\\'d imagine, if you were to ask a question in class, I\\'m in a classroom and a student raises their hand to get their answer, that\\'s probably not going to be the end of the discussion. You\\'ll have other students chime in or sharing their viewpoints of their questions and this is where all of that can live. The same thing with endorsements, you can do these for follow-up as well and just hit this little good comment button, I\\'ll endorse my own [LAUGHTER] and you can see that, that same green text appears. Now, let\\'s take a look at that. With collaborative editing, it really fosters this ability for all students to work together and encourages students to collaborate rather than just having separate one on one between one student and one instructor, which you can still do, but this helps facilitate community in the class. >> Let\\'s take a look at how an anonymous post would work. Say I\\'m a student, I want to reply to this. Let me go into the student\\'s view actually. This is the same post just on the student site. Say I\\'m a student and I have a question, but I don\\'t really feel comfortable with people knowing about who I am and I just want it to be seen anonymously. There\\'s this option here where you can do post as. You can click here, choose anonymous to classmates and say, I don\\'t really know if this actual thing is for but what about limits? If I hit post as anonymous to classmates, you\\'ll see here that we actually get this anonymous poet. I guess the second part here will always be random. You can\\'t really track it\\'s posting, but everyone else will see it on as poet, they won\\'t be able to see who it is that was actually posting. As the instructor, you\\'ll see that it\\'s anonymous poet to classmates, but you\\'re still able to see the name. That\\'s because of that setting I chose to only be anonymous to classmates. Depending how you want to set this up, you can enable or disable this feature but having it on will allow instructors to still see which students are posting anonymously. Now that we have a background of the posts, we have polls, we have notes and we have questions. You can look here in the feed, polls are denoted by this little graph icon, notes are these little notebooks and questions are the standard, so they don\\'t have that little icon here. But what you can\\'t see are these green and orange boxes and some of them have checkmarks. A green box with that little s means that there\\'s a student answer and then I means that there is an instructor\\'s answer. The checkmark just means it\\'s endorsed. It\\'s really easy to look through your feed, see what\\'s pending. You can also see here we have this helper text. We have the endorsement green text that we saw before. You can also see that there is an unresolved follow-up for this post. If you go ahead and look down, this is the question that we just posted as a student and say the instructor responds here. What about limits? No limits. You go ahead and post that. Now this goes two ways. The student can mark this as resolved and now as the instructor, you know that this is good for them, they\\'re good to go. That little red text goes away and you don\\'t have to worry about it. You know where your posts are at and what needs attention, what does not. Let\\'s go ahead and take a look at making a post. Making a post on Piazza, you have the same three posts types here. You have your poll, I bet you\\'ve been into a little bit earlier with all those different options. Then we have our note. Our note is pretty standard, you can choose whether you want to post it to the entire class, class group or individual students and instructors. Then here is where you would select which folders you want it to be in. It doesn\\'t only have to be one folder, say if you have Quiz 6 but the maybe it\\'s also a logistical question you can tag it from multiple folders and it\\'ll show up under both. Then you\\'d put in your summary here and then you enter your text here. Let\\'s take a look at a question and take a look at the features of the text editor that we have on Piazza. [inaudible] a question. You can see here as you type a summary, it actually pulls from the class and shows similar questions. Say a student is going to ask about a final submission. You can click on that and student will see, oh, there\\'s already been a question asked about this. They pull it up, they can see the answer, and then they don\\'t add to the feed here. This is really great because it encourages students to look before they post. Any similar questions or the same questions will be shown to them and they can look at look at that post for help. Let\\'s go ahead and look at the actual editor here. Our text editor on Piazza is very rich. There\\'s a lot of different features, you can insert any type of file, media, image, links, anything like that. There\\'s a lot of different formatting options as well as a spot for tables. You can think of this as a mini word processor. You can manage it how you wish and you can do a lot with it. One of the first things that we can do here is let me pull. There we go. One of the things you can do with our editors actually LaTex which is something that I mentioned earlier. Say you are already familiar with the LaTeX syntax, you can go ahead and type that in and you can see that it renders here and live and you can see it in your preview. But of course, if you\\'re not familiar with LaTeX syntax, you can also go ahead and use our LaTeX equation editor. This does the same thing just for someone who\\'s not as familiar with LaTeX. They\\'ll go ahead and click that, it\\'ll give them the syntax to look in and you can see it repeating down here. You hit \"Insert\" and it will show up here as well. That\\'s really helpful if you or your students aren\\'t as familiar with the syntax this so lets them utilize this feature of the Piazza editor. The same thing goes for any code, which is something that we looked at earlier. You can see here, when adding code you can choose which language you want Piazza to understand and it\\'ll highlight, format the code as needed. Let\\'s go ahead and take a look here at a couple of other different posting options. Actually we also have some more options for the text editor. This is the standard word processors view. We also have plaintext if you are familiar with HTML. You also have the Markdown editor if you\\'re familiar with Markdown. These actually came from professor requests, some professors prefer working in HTML format, some people prefer working in Markdown. We go ahead and added these for them and it lets you distribute content the way that you\\'re comfortable with. Now we have a couple of different posting options here. With posting options, we have the ability to make this an announcement which will appear on the course page and resources which I will go over in a bit and we also have the email and the option to send email notifications immediately. What this does is actually pretty helpful, no matter what email notification setting the student has, maybe they turned email notifications off, this will actually bypass that and push this email to their inbox. If there\\'s something really important say, class is canceled, exam location has been moved, you can use this option and it\\'ll immediately notify all of the students. You also have the option to add this post to a students reading list. What this does is when a student opens Piazza and they log into their class, at the top they\\'ll actually see if any items are in the reading list. What that means is they have to go through those items before they can post and use Piazza. If you had a reading assignment or a really important assignment instruction, you can post it to the reading list and you\\'ll know whether or not they choose to take action on it, they\\'ll see it and they will be aware of it. Once you choose your options you just hit \"Post\" and your new post will show up in your feed on the left here. That\\'s the basic review of Piazza, of our Q&A are different post types as well as our feed. At this point, I can hand it over to Ryan to go over resources and the rest of the Piazza, including the [inaudible] integration. >> Let me go ahead and stop my screen share. Great. Thank you. Let\\'s begin. Morning everyone. My name is Ryan. Thanks, Daniel. What we\\'re going to do now is we\\'ve looked at our Q&A tab. We\\'re going to now look at the resources tab, statistics tab and manage class tab. Just a brief overview of what these are. Your resources tab is essentially a filing system for your course or a document hub. I will say that if you\\'re using Piazza within your learning management system, for instance, Canvas, this is not always the most needed as it can be redundant if you have already resources uploaded to your Canvas course. Regardless, some students and instructors really like having their resources everywhere, whether in Canvas or on Piazza. That\\'s essentially what your resources tab is. The Statistics tab is a learning analytics tab where you can measure and track student participation in your course. There are two views. There\\'s a view statistics and export. View statistics is exactly what it means, you get to look at and view the contribution data from your students in your course. The export tool is a new tool for us, a real fan favorite among instructors as it allows you to download or export the contribution data of your students and really glean insight into where your students are doing while they\\'re viewing posts and engaging in your course. The last tab here is managed class. This is your control center. This is where you get that deep level of customization for your Piazza class, where you as the instructor gets to decide which features to enable, which features to disable, what works best for your class. That\\'s really what happens under Manage Class. With that little brief overview, let\\'s look at resources tab. I click on \"Resources\", we\\'re given the course Information tab here. This is my course description, general information, and as Daniel mentioned, when you post a specific announcements on Piazza, this is where they can live in your resources tab. The next tab over here is staff. These are my teaching staff here in my course. You\\'ll see here this office hour section. As we moved online, you\\'ll see oftentimes this is a Zoom link for office hours. The last tab here, well, really of resources besides groups is the resource tab, and this is the real meat of the resources. Function here. This is where you\\'re uploading all of these files for your course. I\\'ll say first of all that these are all just sections that I am uploading as a test instance. These are all customizable. These can be whatever you need. I have links, homework solutions, lecture notes. These can be final exam solutions, Zoom lectures, whatever you need to support your classroom or a document perspective, this is where they could live. There\\'s a couple of features here of customization that I really enjoy here on Piazza as they\\'re tiny features but they allow it to be flexible the way you need. If I don\\'t like any of these section titles, I can change all of them by clicking here on \"Edit Resources\" section. I can then begin this level of customization. I can edit these, I can add a due date for them if they\\'re like maybe homework problems here or workbooks, I can also move them around and I can delete them. If I grab this little hamburger icon and move this to the top and click \"Save Changes\", you\\'ll see them, lecture notes gets moved to the top. Small feature, but really allows you to keep editing your course as it continues through the duration, but also just to make sure that you can keep customizing how you\\'d like. The last tab here is groups, and this is where you can see all the groups that you\\'ve been enrolled in. This is where also you as an instructor could drop a group. That\\'s our resources tab. Let\\'s look at statistics. I\\'m going to go first to \"View statistics\". Great. The first thing you\\'ll see when you click \"View statistics\" is that you\\'re going to see this usage trends graph for your course. There are two views to toggle between. Unique users per day and there\\'s posts per day. If I select that, you\\'ll see the graph changes accordingly and they\\'ll let you know the posts per day on that day. But when I keep scrolling down, this is where things get exciting. We have our top student contributors here, their number of contributions on their days on line. But here\\'s where we break that down. First we have top student askers. Those students have asked the most questions. Then here we have those students who have asked the most questions and have also received an instructor and endorsement of a good question. Next, we have top student answers. Those students who have answered the most questions, but then similarly, those students who have answered the most questions with an instructor endorsement up here. Top student endorse, answer, answerers. Next we have my favorite section here which is top student listeners. Those students who might not feel ready yet to jump into a discussion and post an answer or a question, they\\'re still counted as being participatory with a number of questions and notes that they have viewed. As a real life use case here we have a lots of instructors who have maybe say poached or recruited TAs for their course as under listeners, as these are the most active online students in your course. These are the, you can look at them as lurkers are also look at the students who are engaging in a more passive learning style. This is our top student listeners. The last section here are essentially report cards. >> I\\'m missing one side here [inaudible]. >> Sorry about that. The last section here is essentially report cards. We have an instructor participation report and a student participation report. That\\'ll give you the name, email, days online, post viewed, contributions and the same for your students. Their name and email, days online, post viewed, total contributions. That\\'s mu statistics. Let\\'s look at export statistics. As Daniel was saying, we have a lot of features here on Piazza that are a direct result of instructor and student feedback. The Export Statistics tool is a perfect example of that. When we moved to a more online space last March, instructors were looking for a better way to track and view participation of their students. What are they doing online? Not only to look at the maybe star actor students, but also instructors have mentioned that this helps them track their \"lost sheep\", those students who really are not engaging in the way they would be most useful for them. In order to glean that insight, we built this tool. What you can do here is you can download again, export the activity breakdown or contributions in your course. When I click here to edit, I can export contributions and specific ones that I want to give credit to. Posts, edits to those posts, answers, after answers, follow-ups, replies to follow-ups. I can look at instructor endorsements, I can look at participation as in post views, poll votes. I can also specify a date range. Again, looking at the use case, we have a lot of instructors who loved to see the participation information and contribution data before an exam. Bar exams are coming up. We\\'re going to go the week before and see who was really online reviewing and looking at the exam FAQ that I posted. You can also look at specific post views. Essentially who is the most active online? You\\'re just looking at the most posts in their views, and you can specify a date range for that as well. You can also export data by a folder, so bio homework. Again, even within that folder, you can specify the type of contributions that you\\'d like to see. Participation by threads. I can export by a post ID or by a keyword like this says homework exactly or project or Chapter four. We also have poll statistics that you can export, there\\'s also live Q&A participation. >> That\\'s our resources Statistics tab and lastly, Managed Class. First I\\'ll say that Piazza is a feature-rich product and that allows for lots of different use cases, a creative use cases, a wide variety of flexibility of how you can implement this tool in your course. Consequently, the Manage Class tab is a bit of a behemoth. I\\'m not going to give you everything here, but I do want to share our supports center quickly here too. This is a resource here for instructors or students. If I just type in here instructors we have a whole section here for instructors. We have a similar section for students and let me just throw this in our chat, our whole Support Center here for instructors. We have a how-to video guide, and we have a whole center for students. We have a mobile section for our free mobile apps for Android and iOS. Let me just throw this in our chat here. Again, this is not meant to replace any in-person support. This is only meant to be a resource for you and your students and also all of managed class and its features are in that Support Center. That said, here\\'s managed class. The first section of managed class is your basics: Your course number of a name, the term, the sign-up link. There\\'s one feature here that I love to share here, and this is your scheduled block date and time. Again, new feature for us and a direct result of instructor feedback. It\\'s March 2020, instructors are looking for a better way to facilitate testing environments on Piazza. We built this class locking functionality for them. What you can do is you can lock your class or shut it down from any activity from a specific time. If you have an exam this coming Friday, I can set my class to inactive and then the exam that let\\'s say it\\'s at 10:00 A.M ends. Great. I can set this class to inactive. What that means is that students can\\'t interact with post, they can\\'t create new posts, they can\\'t create a follow-up discussion, they can\\'t really engage with any post on Piazza. Really the conversations in your course shut down during this lock time. There are two more nuanced little features here with in-class locking that really allow for a real testing environment. The first one is that you can hide all of the content of the posts in your course during this period of inactivity or this lockdown. Homework solutions, exam solutions, answers really could live in your Piazza discussions. By clicking that\\'ll hide all of the content from your students. Additionally, just like in an in-person learning, if you have a question during an exam, you raise your hand, you go to the front, you ask your professor the question. This is what this feature attempts to mimic is that when this class is inactive, you can still allow private post to instructors so that in the event your student has a question they can still ask you during this period of inactivity or when your class is locked. Let\\'s move on to our next section, which is Q&A settings. The first two big ones are anonymity and private posts. Anonymity again allows your students to post anonymously in your Piazza class. If you enable this, that means students can show up as both anonymous to classmates, and to you, the instructors. If you disable anonymity, that means that students can only show up as anonymous to their classmates, but never to you, the instructor. Then you would know who\\'s posting. Private post here create this private channel conversation between you and your students. Students could never post one-on-one to each other. They can only post to you the instructor and if you\\'d like to enable that feature in your Piazza class, this is where you would do so. With Syntax Highlighting and Runnable Code Snippets for STEM courses this is where you get to select your program language. This is also where you get to enable the syntax highlighting feature here. Let\\'s move on to class folders. This is your folders control center. First of all, if you don\\'t like that feature, no problem, you can just disable that for your course. However, if you would like to use and really utilize folders within your course, this is where you get to customize this. This is where you can create new folders. This is where you can delete selected folders. Here is where you can also create sub folders. You can move the folder name, you can change the folder name. Let\\'s say for instance that in my course, now we\\'re moving on to homework Week 10. I can actually move using little hamburger guy. I can move this to the top and what that does, and it\\'s part of my scrolling here. I\\'m going to go back to my Q&A tab. Now homework Week 10 is the very first folder in my course. If that is the most relevant folder for my students and we\\'re on Week 10 in my course, I can move it to the top of the folder bar. Then it corresponds with where we are at the class. Again, it\\'s a small feature of customization, but it allows your class to be much more adaptable and really the usability just increases for both you and your students. Going back to folders. Next section here is our enrollments. If you\\'re using Piazza within your Canvas, those enrollments are really managed automatically by Canvas. This isn\\'t that relevant for you all. However, let\\'s just go over regardless. If you\\'re using Piazza as a standalone product outside of the integration, outside of your canvas. This is where you can copy and paste professor and TA emails to add to your class and your teaching staff. Click \"Add instructors\" and there\\'ll be enrolled. This is also the enrollment center for your students. So there\\'s two things you can do here. You can either copy and paste email addresses and we\\'ll parse them out for you. Or you can upload a file. It could be a roster, and then that will send all of those students welcome emails and enroll them in your course. The last section here is groups, and this is group-based discussion on Piazza. Groups on Piazza are a great way in terms of scalability for really large lecture series and also some more small project-based learning classes. If you have a really large lecture series on Piazza, you can create those groups: section 1, section 2, section 3, within your Piazza class and that means that only those students and instructors enrolled in that group will see that post. Really what that means is you get to create these intimate subsets of students within Piazza that get to have conversations without bothering the rest of the course. You can mimic that same enrollment for your large lecture series. You can create series 1, series 2, series 3 or section 2, 3, 4 and then post specifically to those sections. Also works really well for small project-based learning because then you can create lots of homework groups or lots of group projects that you\\'re doing in your course, and then you can enroll your students in those groups. Then again, only those students\\nThere should be four possible answers, with one being the correct answers. Also Provide a short reason to why each answer is correct or incorrect.\\nReturn the data in the following JSON format as an example: {\"question\": \"What is the capital of France?\", \"answers\": [\"Paris\", \"London\", \"Berlin\", \"Madrid\"], \"correct\": \"Paris\", \"reason\": \"Paris is the capital of France\"}', 'JSON': '```json\\n{\\n  \"question\": \"What feature of Piazza helps reduce redundancy by allowing students to post questions that can be found by others, thus avoiding multiple emails about the same topic?\",\\n  \"answers\": [\\n    \"Anonymous Posting\",\\n    \"Pinned Posts\",\\n    \"Class Locking Functionality\",\\n    \"Q&A Feed\"\\n  ],\\n  \"correct\": \"Q&A Feed\",\\n  \"reason\": \"The Q&A Feed is where students can post questions that are visible to others, reducing the need for multiple emails about the same questions. Anonymous Posting allows students to post without revealing their identity, but doesn\\'t directly reduce redundancy. Pinned Posts are for important announcements and do not necessarily reduce question redundancy. Class Locking Functionality is used to lock the class during specific times, such as exams, and is unrelated to question redundancy.\"\\n}\\n```'}, 'Keywords: Canvas and Piazza Integration Guide': {'Topic': 0, 'Words': 'Canvas and Piazza Integration Guide, , , , ', 'Frequency': 6, 'Name': 'Keywords: Canvas and Piazza Integration Guide, , , , ', 'Start': Timestamp('1900-01-01 00:33:55.117045454'), 'End': Timestamp('1900-01-01 00:44:05.200000'), 'Relevant Text': 'Then yes, allow students to join groups. That\\'s really managed class. I\\'m going to pause here for any questions and then from there we can move on to Canvas integration. >> I think we\\'re okay so far. Let\\'s look at Canvas. Here we are in Canvas. I\\'m in my course dashboard, and I\\'ve chosen to name my course Aptly Piazza. I\\'m going to click on my course. The key thing here is that, and just like Michigan, so Piazza has already been added or enabled in your Canvas. What I\\'ve done is I\\'ve added Piazza to my course navigation. You can see here I\\'ve moved it to the left-hand panel here as my course navigation. I went to settings, added the app, and then I moved it to my course navigation settings. Once Piazza is integrated and added into your course, here\\'s a list set it up. You click the Piazza link and here\\'s what happens. You get the setup page. There are two sections here that you should really pay attention to. It\\'s either create your class on Piazza or link an existing class on Piazza. So creating your class on Piazza. If you don\\'t have a Piazza class yet created for this Canvas course, here\\'s where you can do it all through within your Canvas course. You create the class name, the class number. This isn\\'t that important. It\\'s mainly used for you to gauge what you\\'re expecting your course to be and then you select your term. [NOISE] Wow. That\\'s a decent class. Then you sort your terms. Let\\'s say fall 2021 and then you\\'ll could create your Piazza class and then that would walk you through the course creation all within your Canvas. I do want to point out that the course number and the term are quite particular and very important on Piazza as they need to be unique. You won\\'t be able to have a course on Piazza that has the same course number and term, that can be duplicates. That really plays into here when you already have an existing class. Let\\'s say for this example, I\\'ve already created my Piazza class and I just want to link it to my Canvas course. I\\'m going to move to this section, already have a class, and here\\'s what we\\'re going to do. My course number is, again, Aptly Piazza, and then the term for my course this fall 2021. So this is important that number is correct and the term is correct so then it pulls that data. I\\'ll search for this class. Great. If these don\\'t match correctly, then it won\\'t pull the correct data. That was fall 2021. I don\\'t know what I did with it. Well, let\\'s find a different one. [NOISE] In fact, one sec here, because I want to walk you through what it really looks like to hold that. I\\'m going to find a class that we can link here, so you can see what it looks to actually link a class on Piazza. Let\\'s pull this one. [NOISE] I don\\'t want to waste your time. We\\'ll just build a new one. So here\\'s my class name, my class enrollment. Let\\'s go with our big number, and let\\'s make this course spring. Here we\\'re creating a new class on Piazza. Actually, this is great. This sometimes happens if you don\\'t have cookies enabled in your browser and what you need to do is go to Safari, go to Preferences, and then refresh, and you should be good to go. Now that you see that you have Piazza within your Canvas course, here is the first thing you\\'re going to see this setup page. Now again, this is just a helpful flow and a guide for instructors. Yes. Do they need to still individually enroll or for us to enroll them? When you\\'re using Piazza within your Canvas, the great thing about this integration is that the enrollments are handled automatically through your LMS. All your students need to do is there\\'ll be able to go, this is what will happen. They\\'ll click on their course. Let\\'s go back here. They\\'ll click the course, then they\\'ll click the Piazza tool. Then by clicking the Piazza tool, that\\'ll automatically enroll them in the course. You don\\'t need to manually enroll any students in your course when you\\'re using Piazza with this Canvas integration. This setup page is really just meant to help you confirm basic information about your course, the start date and some features here, anonymity, private posts, folders to really walk you through setting this up. But if you also don\\'t want to do this, it\\'s totally fine. You can scroll to the end. I\\'ll do this later and continue to class Q&A, and here you go. Again, all of these features that we walked through on our web product exist within your Canvas. The functionalities are completely the same. It\\'s just that now your course exists within your Canvas as a one-stop shop. I\\'ll pause here for any questions. Feel free to either unmute yourself or use the chat. Happy to help you. I\\'m going to stop the share. I do want to say that this demo is for y\\'all. This is definitely a space to, as you get comfortable with the majority , please ask questions. I know there\\'s a lot of information came at you. Here is our email, team@piazza.com. Really, as you explore Piazza more and get more comfortable using it with you and your students. Students are welcome to contact us for issues. You yourself as professors are more than welcome to contact us and we\\'re there to help. So team@piazza.com. I also wanted to share since there\\'s some questions about the roster sync. Within University of Michigan, they do have the option for automatic roster sync. In your Piazza class, you\\'ll see in managed class you actually have this option here, Automatic Roster Sync. With your university, you actually have the option to enable or disable this feature. If it\\'s disabled, you\\'ll have to enroll them manually through the manage enrollment tab. But when it\\'s enabled, let me do that, and \"Save Changes\", you\\'ll actually see that this section is blanked out. It\\'ll say enrollment only allowed through LTI when this is enabled. Basically, you don\\'t have to worry about enrolling. Whenever a change is made on the Canvas side of things, Piazza can find that change and it\\'ll sync it with your Piazza class. That happens automatically on a daily basis. But you can also hit \"Sync Now\" if you have maybe a drop or an add and you want to get them in the same day, you can hit \"Sync Now\", and that will pull that enrollment from your LMS from Canvas and it\\'ll sync that with Piazza. So this option does live here for we when you need to make those changes and you need to happen at that moment. >> Hi, Daniel, I have a question actually. This is Catherine. You\\'re talking about drop and adds and to re-sync it. Would you advise instructors to sync their course every day until the air drop time passes? >> The automatic roster sync does happen automatically every day. But really I think that sync now is for maybe a student just joined and the sync is either behind that actual time when the student joined and you want them in the class. At that moment, you can hit sync now, it\\'ll pull that. But again, that\\'s all based off of the Canvas roster.', 'Question Text': 'For the topic: Keywords: Canvas and Piazza Integration Guide, generate a multiple choice type question based on the following transcribed text: Then yes, allow students to join groups. That\\'s really managed class. I\\'m going to pause here for any questions and then from there we can move on to Canvas integration. >> I think we\\'re okay so far. Let\\'s look at Canvas. Here we are in Canvas. I\\'m in my course dashboard, and I\\'ve chosen to name my course Aptly Piazza. I\\'m going to click on my course. The key thing here is that, and just like Michigan, so Piazza has already been added or enabled in your Canvas. What I\\'ve done is I\\'ve added Piazza to my course navigation. You can see here I\\'ve moved it to the left-hand panel here as my course navigation. I went to settings, added the app, and then I moved it to my course navigation settings. Once Piazza is integrated and added into your course, here\\'s a list set it up. You click the Piazza link and here\\'s what happens. You get the setup page. There are two sections here that you should really pay attention to. It\\'s either create your class on Piazza or link an existing class on Piazza. So creating your class on Piazza. If you don\\'t have a Piazza class yet created for this Canvas course, here\\'s where you can do it all through within your Canvas course. You create the class name, the class number. This isn\\'t that important. It\\'s mainly used for you to gauge what you\\'re expecting your course to be and then you select your term. [NOISE] Wow. That\\'s a decent class. Then you sort your terms. Let\\'s say fall 2021 and then you\\'ll could create your Piazza class and then that would walk you through the course creation all within your Canvas. I do want to point out that the course number and the term are quite particular and very important on Piazza as they need to be unique. You won\\'t be able to have a course on Piazza that has the same course number and term, that can be duplicates. That really plays into here when you already have an existing class. Let\\'s say for this example, I\\'ve already created my Piazza class and I just want to link it to my Canvas course. I\\'m going to move to this section, already have a class, and here\\'s what we\\'re going to do. My course number is, again, Aptly Piazza, and then the term for my course this fall 2021. So this is important that number is correct and the term is correct so then it pulls that data. I\\'ll search for this class. Great. If these don\\'t match correctly, then it won\\'t pull the correct data. That was fall 2021. I don\\'t know what I did with it. Well, let\\'s find a different one. [NOISE] In fact, one sec here, because I want to walk you through what it really looks like to hold that. I\\'m going to find a class that we can link here, so you can see what it looks to actually link a class on Piazza. Let\\'s pull this one. [NOISE] I don\\'t want to waste your time. We\\'ll just build a new one. So here\\'s my class name, my class enrollment. Let\\'s go with our big number, and let\\'s make this course spring. Here we\\'re creating a new class on Piazza. Actually, this is great. This sometimes happens if you don\\'t have cookies enabled in your browser and what you need to do is go to Safari, go to Preferences, and then refresh, and you should be good to go. Now that you see that you have Piazza within your Canvas course, here is the first thing you\\'re going to see this setup page. Now again, this is just a helpful flow and a guide for instructors. Yes. Do they need to still individually enroll or for us to enroll them? When you\\'re using Piazza within your Canvas, the great thing about this integration is that the enrollments are handled automatically through your LMS. All your students need to do is there\\'ll be able to go, this is what will happen. They\\'ll click on their course. Let\\'s go back here. They\\'ll click the course, then they\\'ll click the Piazza tool. Then by clicking the Piazza tool, that\\'ll automatically enroll them in the course. You don\\'t need to manually enroll any students in your course when you\\'re using Piazza with this Canvas integration. This setup page is really just meant to help you confirm basic information about your course, the start date and some features here, anonymity, private posts, folders to really walk you through setting this up. But if you also don\\'t want to do this, it\\'s totally fine. You can scroll to the end. I\\'ll do this later and continue to class Q&A, and here you go. Again, all of these features that we walked through on our web product exist within your Canvas. The functionalities are completely the same. It\\'s just that now your course exists within your Canvas as a one-stop shop. I\\'ll pause here for any questions. Feel free to either unmute yourself or use the chat. Happy to help you. I\\'m going to stop the share. I do want to say that this demo is for y\\'all. This is definitely a space to, as you get comfortable with the majority , please ask questions. I know there\\'s a lot of information came at you. Here is our email, team@piazza.com. Really, as you explore Piazza more and get more comfortable using it with you and your students. Students are welcome to contact us for issues. You yourself as professors are more than welcome to contact us and we\\'re there to help. So team@piazza.com. I also wanted to share since there\\'s some questions about the roster sync. Within University of Michigan, they do have the option for automatic roster sync. In your Piazza class, you\\'ll see in managed class you actually have this option here, Automatic Roster Sync. With your university, you actually have the option to enable or disable this feature. If it\\'s disabled, you\\'ll have to enroll them manually through the manage enrollment tab. But when it\\'s enabled, let me do that, and \"Save Changes\", you\\'ll actually see that this section is blanked out. It\\'ll say enrollment only allowed through LTI when this is enabled. Basically, you don\\'t have to worry about enrolling. Whenever a change is made on the Canvas side of things, Piazza can find that change and it\\'ll sync it with your Piazza class. That happens automatically on a daily basis. But you can also hit \"Sync Now\" if you have maybe a drop or an add and you want to get them in the same day, you can hit \"Sync Now\", and that will pull that enrollment from your LMS from Canvas and it\\'ll sync that with Piazza. So this option does live here for we when you need to make those changes and you need to happen at that moment. >> Hi, Daniel, I have a question actually. This is Catherine. You\\'re talking about drop and adds and to re-sync it. Would you advise instructors to sync their course every day until the air drop time passes? >> The automatic roster sync does happen automatically every day. But really I think that sync now is for maybe a student just joined and the sync is either behind that actual time when the student joined and you want them in the class. At that moment, you can hit sync now, it\\'ll pull that. But again, that\\'s all based off of the Canvas roster.\\nThere should be four possible answers, with one being the correct answers. Also Provide a short reason to why each answer is correct or incorrect.\\nReturn the data in the following JSON format as an example: {\"question\": \"What is the capital of France?\", \"answers\": [\"Paris\", \"London\", \"Berlin\", \"Madrid\"], \"correct\": \"Paris\", \"reason\": \"Paris is the capital of France\"}', 'JSON': '{\\n  \"question\": \"What is the correct sequence of steps for integrating Piazza into a Canvas course?\",\\n  \"answers\": [\\n    \"Add Piazza to course navigation, create or link Piazza class, set up class details, and enable automatic roster sync.\",\\n    \"Enable automatic roster sync, link Piazza class, add Piazza to course navigation, and set up class details.\",\\n    \"Set up class details, add Piazza to course navigation, enable automatic roster sync, and create or link Piazza class.\",\\n    \"Create or link Piazza class, set up class details, enable automatic roster sync, and add Piazza to course navigation.\"\\n  ],\\n  \"correct\": \"Add Piazza to course navigation, create or link Piazza class, set up class details, and enable automatic roster sync.\",\\n  \"reason\": \"The correct sequence as described in the transcript is to first add Piazza to the course navigation in Canvas, then either create a new class on Piazza or link an existing one, followed by setting up class details such as the start date and features like anonymity and private posts. Finally, the instructor can enable automatic roster sync to manage enrollments.\"\\n}'}}\n"
     ]
    }
   ],
   "source": [
    "questionData = retrieveQuestionData(videoToUse, topicTexts, config)"
   ]
  },
  {
   "cell_type": "markdown",
   "metadata": {},
   "source": [
    "### Debug & Visualize Data"
   ]
  },
  {
   "cell_type": "code",
   "execution_count": 5,
   "metadata": {},
   "outputs": [
    {
     "data": {
      "application/vnd.plotly.v1+json": {
       "config": {
        "plotlyServerURL": "https://plot.ly"
       },
       "data": [
        {
         "hoverinfo": "text",
         "hovertext": [
          "<b>Topic 0</b><br>Words: Piazza Platform Introduction, , , , ",
          "<b>Topic 0</b><br>Words: Educational Tool Integration Guide, , , , ",
          "<b>Topic 0</b><br>Words: Canvas and Piazza Integration Guide, , , , ",
          "<b>Topic 0</b><br>Words: Piazza Course Integration Instructions, , , , ",
          "<b>Topic 0</b><br>Words: Piazza Integration with Canvas LMS, , , , ",
          "<b>Topic 0</b><br>Words: University of Michigan Piazza Roster Sync Options, , , , ",
          "<b>Topic 0</b><br>Words: LTI Integration for Class Enrollment, , , , "
         ],
         "marker": {
          "color": "#E69F00"
         },
         "mode": "lines",
         "name": "0_Piazza Integration with Canvas___",
         "type": "scatter",
         "x": [
          "1899-12-31T23:59:57.897005",
          "1900-01-01T00:29:55.753863",
          "1900-01-01T00:33:55.117045",
          "1900-01-01T00:35:54.798636",
          "1900-01-01T00:37:54.480227",
          "1900-01-01T00:39:54.161818",
          "1900-01-01T00:41:53.843409"
         ],
         "y": [
          2,
          1,
          3,
          2,
          3,
          1,
          1
         ]
        },
        {
         "hoverinfo": "text",
         "hovertext": [
          "<b>Topic 1</b><br>Words: Piazza Online Classroom Guide, , , , ",
          "<b>Topic 1</b><br>Words: Piazza Online Education Platform, , , , ",
          "<b>Topic 1</b><br>Words: Online Learning Platform Features, , , , ",
          "<b>Topic 1</b><br>Words: Course Materials/Resources, , , , ",
          "<b>Topic 1</b><br>Words: Educational Course Management, , , , ",
          "<b>Topic 1</b><br>Words: Online Participation Tracking Tools, , , , ",
          "<b>Topic 1</b><br>Words: Educational Contribution Tracking Tool, , , , ",
          "<b>Topic 1</b><br>Words: Educational Support Resources, , , , ",
          "<b>Topic 1</b><br>Words: Course Folder Management, , , , "
         ],
         "marker": {
          "color": "#56B4E9"
         },
         "mode": "lines",
         "name": "1_Online Course Management Features___",
         "type": "scatter",
         "x": [
          "1900-01-01T00:02:00.211590",
          "1900-01-01T00:11:58.619545",
          "1900-01-01T00:15:57.982727",
          "1900-01-01T00:17:57.664318",
          "1900-01-01T00:19:57.345909",
          "1900-01-01T00:21:57.027500",
          "1900-01-01T00:23:56.709090",
          "1900-01-01T00:25:56.390681",
          "1900-01-01T00:29:55.753863"
         ],
         "y": [
          1,
          1,
          1,
          1,
          1,
          2,
          1,
          1,
          2
         ]
        }
       ],
       "layout": {
        "height": 450,
        "hoverlabel": {
         "bgcolor": "white",
         "font": {
          "family": "Rockwell",
          "size": 16
         }
        },
        "legend": {
         "title": {
          "text": "<b>Global Topic Representation"
         }
        },
        "template": {
         "data": {
          "bar": [
           {
            "error_x": {
             "color": "rgb(36,36,36)"
            },
            "error_y": {
             "color": "rgb(36,36,36)"
            },
            "marker": {
             "line": {
              "color": "white",
              "width": 0.5
             },
             "pattern": {
              "fillmode": "overlay",
              "size": 10,
              "solidity": 0.2
             }
            },
            "type": "bar"
           }
          ],
          "barpolar": [
           {
            "marker": {
             "line": {
              "color": "white",
              "width": 0.5
             },
             "pattern": {
              "fillmode": "overlay",
              "size": 10,
              "solidity": 0.2
             }
            },
            "type": "barpolar"
           }
          ],
          "carpet": [
           {
            "aaxis": {
             "endlinecolor": "rgb(36,36,36)",
             "gridcolor": "white",
             "linecolor": "white",
             "minorgridcolor": "white",
             "startlinecolor": "rgb(36,36,36)"
            },
            "baxis": {
             "endlinecolor": "rgb(36,36,36)",
             "gridcolor": "white",
             "linecolor": "white",
             "minorgridcolor": "white",
             "startlinecolor": "rgb(36,36,36)"
            },
            "type": "carpet"
           }
          ],
          "choropleth": [
           {
            "colorbar": {
             "outlinewidth": 1,
             "tickcolor": "rgb(36,36,36)",
             "ticks": "outside"
            },
            "type": "choropleth"
           }
          ],
          "contour": [
           {
            "colorbar": {
             "outlinewidth": 1,
             "tickcolor": "rgb(36,36,36)",
             "ticks": "outside"
            },
            "colorscale": [
             [
              0,
              "#440154"
             ],
             [
              0.1111111111111111,
              "#482878"
             ],
             [
              0.2222222222222222,
              "#3e4989"
             ],
             [
              0.3333333333333333,
              "#31688e"
             ],
             [
              0.4444444444444444,
              "#26828e"
             ],
             [
              0.5555555555555556,
              "#1f9e89"
             ],
             [
              0.6666666666666666,
              "#35b779"
             ],
             [
              0.7777777777777778,
              "#6ece58"
             ],
             [
              0.8888888888888888,
              "#b5de2b"
             ],
             [
              1,
              "#fde725"
             ]
            ],
            "type": "contour"
           }
          ],
          "contourcarpet": [
           {
            "colorbar": {
             "outlinewidth": 1,
             "tickcolor": "rgb(36,36,36)",
             "ticks": "outside"
            },
            "type": "contourcarpet"
           }
          ],
          "heatmap": [
           {
            "colorbar": {
             "outlinewidth": 1,
             "tickcolor": "rgb(36,36,36)",
             "ticks": "outside"
            },
            "colorscale": [
             [
              0,
              "#440154"
             ],
             [
              0.1111111111111111,
              "#482878"
             ],
             [
              0.2222222222222222,
              "#3e4989"
             ],
             [
              0.3333333333333333,
              "#31688e"
             ],
             [
              0.4444444444444444,
              "#26828e"
             ],
             [
              0.5555555555555556,
              "#1f9e89"
             ],
             [
              0.6666666666666666,
              "#35b779"
             ],
             [
              0.7777777777777778,
              "#6ece58"
             ],
             [
              0.8888888888888888,
              "#b5de2b"
             ],
             [
              1,
              "#fde725"
             ]
            ],
            "type": "heatmap"
           }
          ],
          "heatmapgl": [
           {
            "colorbar": {
             "outlinewidth": 1,
             "tickcolor": "rgb(36,36,36)",
             "ticks": "outside"
            },
            "colorscale": [
             [
              0,
              "#440154"
             ],
             [
              0.1111111111111111,
              "#482878"
             ],
             [
              0.2222222222222222,
              "#3e4989"
             ],
             [
              0.3333333333333333,
              "#31688e"
             ],
             [
              0.4444444444444444,
              "#26828e"
             ],
             [
              0.5555555555555556,
              "#1f9e89"
             ],
             [
              0.6666666666666666,
              "#35b779"
             ],
             [
              0.7777777777777778,
              "#6ece58"
             ],
             [
              0.8888888888888888,
              "#b5de2b"
             ],
             [
              1,
              "#fde725"
             ]
            ],
            "type": "heatmapgl"
           }
          ],
          "histogram": [
           {
            "marker": {
             "line": {
              "color": "white",
              "width": 0.6
             }
            },
            "type": "histogram"
           }
          ],
          "histogram2d": [
           {
            "colorbar": {
             "outlinewidth": 1,
             "tickcolor": "rgb(36,36,36)",
             "ticks": "outside"
            },
            "colorscale": [
             [
              0,
              "#440154"
             ],
             [
              0.1111111111111111,
              "#482878"
             ],
             [
              0.2222222222222222,
              "#3e4989"
             ],
             [
              0.3333333333333333,
              "#31688e"
             ],
             [
              0.4444444444444444,
              "#26828e"
             ],
             [
              0.5555555555555556,
              "#1f9e89"
             ],
             [
              0.6666666666666666,
              "#35b779"
             ],
             [
              0.7777777777777778,
              "#6ece58"
             ],
             [
              0.8888888888888888,
              "#b5de2b"
             ],
             [
              1,
              "#fde725"
             ]
            ],
            "type": "histogram2d"
           }
          ],
          "histogram2dcontour": [
           {
            "colorbar": {
             "outlinewidth": 1,
             "tickcolor": "rgb(36,36,36)",
             "ticks": "outside"
            },
            "colorscale": [
             [
              0,
              "#440154"
             ],
             [
              0.1111111111111111,
              "#482878"
             ],
             [
              0.2222222222222222,
              "#3e4989"
             ],
             [
              0.3333333333333333,
              "#31688e"
             ],
             [
              0.4444444444444444,
              "#26828e"
             ],
             [
              0.5555555555555556,
              "#1f9e89"
             ],
             [
              0.6666666666666666,
              "#35b779"
             ],
             [
              0.7777777777777778,
              "#6ece58"
             ],
             [
              0.8888888888888888,
              "#b5de2b"
             ],
             [
              1,
              "#fde725"
             ]
            ],
            "type": "histogram2dcontour"
           }
          ],
          "mesh3d": [
           {
            "colorbar": {
             "outlinewidth": 1,
             "tickcolor": "rgb(36,36,36)",
             "ticks": "outside"
            },
            "type": "mesh3d"
           }
          ],
          "parcoords": [
           {
            "line": {
             "colorbar": {
              "outlinewidth": 1,
              "tickcolor": "rgb(36,36,36)",
              "ticks": "outside"
             }
            },
            "type": "parcoords"
           }
          ],
          "pie": [
           {
            "automargin": true,
            "type": "pie"
           }
          ],
          "scatter": [
           {
            "fillpattern": {
             "fillmode": "overlay",
             "size": 10,
             "solidity": 0.2
            },
            "type": "scatter"
           }
          ],
          "scatter3d": [
           {
            "line": {
             "colorbar": {
              "outlinewidth": 1,
              "tickcolor": "rgb(36,36,36)",
              "ticks": "outside"
             }
            },
            "marker": {
             "colorbar": {
              "outlinewidth": 1,
              "tickcolor": "rgb(36,36,36)",
              "ticks": "outside"
             }
            },
            "type": "scatter3d"
           }
          ],
          "scattercarpet": [
           {
            "marker": {
             "colorbar": {
              "outlinewidth": 1,
              "tickcolor": "rgb(36,36,36)",
              "ticks": "outside"
             }
            },
            "type": "scattercarpet"
           }
          ],
          "scattergeo": [
           {
            "marker": {
             "colorbar": {
              "outlinewidth": 1,
              "tickcolor": "rgb(36,36,36)",
              "ticks": "outside"
             }
            },
            "type": "scattergeo"
           }
          ],
          "scattergl": [
           {
            "marker": {
             "colorbar": {
              "outlinewidth": 1,
              "tickcolor": "rgb(36,36,36)",
              "ticks": "outside"
             }
            },
            "type": "scattergl"
           }
          ],
          "scattermapbox": [
           {
            "marker": {
             "colorbar": {
              "outlinewidth": 1,
              "tickcolor": "rgb(36,36,36)",
              "ticks": "outside"
             }
            },
            "type": "scattermapbox"
           }
          ],
          "scatterpolar": [
           {
            "marker": {
             "colorbar": {
              "outlinewidth": 1,
              "tickcolor": "rgb(36,36,36)",
              "ticks": "outside"
             }
            },
            "type": "scatterpolar"
           }
          ],
          "scatterpolargl": [
           {
            "marker": {
             "colorbar": {
              "outlinewidth": 1,
              "tickcolor": "rgb(36,36,36)",
              "ticks": "outside"
             }
            },
            "type": "scatterpolargl"
           }
          ],
          "scatterternary": [
           {
            "marker": {
             "colorbar": {
              "outlinewidth": 1,
              "tickcolor": "rgb(36,36,36)",
              "ticks": "outside"
             }
            },
            "type": "scatterternary"
           }
          ],
          "surface": [
           {
            "colorbar": {
             "outlinewidth": 1,
             "tickcolor": "rgb(36,36,36)",
             "ticks": "outside"
            },
            "colorscale": [
             [
              0,
              "#440154"
             ],
             [
              0.1111111111111111,
              "#482878"
             ],
             [
              0.2222222222222222,
              "#3e4989"
             ],
             [
              0.3333333333333333,
              "#31688e"
             ],
             [
              0.4444444444444444,
              "#26828e"
             ],
             [
              0.5555555555555556,
              "#1f9e89"
             ],
             [
              0.6666666666666666,
              "#35b779"
             ],
             [
              0.7777777777777778,
              "#6ece58"
             ],
             [
              0.8888888888888888,
              "#b5de2b"
             ],
             [
              1,
              "#fde725"
             ]
            ],
            "type": "surface"
           }
          ],
          "table": [
           {
            "cells": {
             "fill": {
              "color": "rgb(237,237,237)"
             },
             "line": {
              "color": "white"
             }
            },
            "header": {
             "fill": {
              "color": "rgb(217,217,217)"
             },
             "line": {
              "color": "white"
             }
            },
            "type": "table"
           }
          ]
         },
         "layout": {
          "annotationdefaults": {
           "arrowhead": 0,
           "arrowwidth": 1
          },
          "autotypenumbers": "strict",
          "coloraxis": {
           "colorbar": {
            "outlinewidth": 1,
            "tickcolor": "rgb(36,36,36)",
            "ticks": "outside"
           }
          },
          "colorscale": {
           "diverging": [
            [
             0,
             "rgb(103,0,31)"
            ],
            [
             0.1,
             "rgb(178,24,43)"
            ],
            [
             0.2,
             "rgb(214,96,77)"
            ],
            [
             0.3,
             "rgb(244,165,130)"
            ],
            [
             0.4,
             "rgb(253,219,199)"
            ],
            [
             0.5,
             "rgb(247,247,247)"
            ],
            [
             0.6,
             "rgb(209,229,240)"
            ],
            [
             0.7,
             "rgb(146,197,222)"
            ],
            [
             0.8,
             "rgb(67,147,195)"
            ],
            [
             0.9,
             "rgb(33,102,172)"
            ],
            [
             1,
             "rgb(5,48,97)"
            ]
           ],
           "sequential": [
            [
             0,
             "#440154"
            ],
            [
             0.1111111111111111,
             "#482878"
            ],
            [
             0.2222222222222222,
             "#3e4989"
            ],
            [
             0.3333333333333333,
             "#31688e"
            ],
            [
             0.4444444444444444,
             "#26828e"
            ],
            [
             0.5555555555555556,
             "#1f9e89"
            ],
            [
             0.6666666666666666,
             "#35b779"
            ],
            [
             0.7777777777777778,
             "#6ece58"
            ],
            [
             0.8888888888888888,
             "#b5de2b"
            ],
            [
             1,
             "#fde725"
            ]
           ],
           "sequentialminus": [
            [
             0,
             "#440154"
            ],
            [
             0.1111111111111111,
             "#482878"
            ],
            [
             0.2222222222222222,
             "#3e4989"
            ],
            [
             0.3333333333333333,
             "#31688e"
            ],
            [
             0.4444444444444444,
             "#26828e"
            ],
            [
             0.5555555555555556,
             "#1f9e89"
            ],
            [
             0.6666666666666666,
             "#35b779"
            ],
            [
             0.7777777777777778,
             "#6ece58"
            ],
            [
             0.8888888888888888,
             "#b5de2b"
            ],
            [
             1,
             "#fde725"
            ]
           ]
          },
          "colorway": [
           "#1F77B4",
           "#FF7F0E",
           "#2CA02C",
           "#D62728",
           "#9467BD",
           "#8C564B",
           "#E377C2",
           "#7F7F7F",
           "#BCBD22",
           "#17BECF"
          ],
          "font": {
           "color": "rgb(36,36,36)"
          },
          "geo": {
           "bgcolor": "white",
           "lakecolor": "white",
           "landcolor": "white",
           "showlakes": true,
           "showland": true,
           "subunitcolor": "white"
          },
          "hoverlabel": {
           "align": "left"
          },
          "hovermode": "closest",
          "mapbox": {
           "style": "light"
          },
          "paper_bgcolor": "white",
          "plot_bgcolor": "white",
          "polar": {
           "angularaxis": {
            "gridcolor": "rgb(232,232,232)",
            "linecolor": "rgb(36,36,36)",
            "showgrid": false,
            "showline": true,
            "ticks": "outside"
           },
           "bgcolor": "white",
           "radialaxis": {
            "gridcolor": "rgb(232,232,232)",
            "linecolor": "rgb(36,36,36)",
            "showgrid": false,
            "showline": true,
            "ticks": "outside"
           }
          },
          "scene": {
           "xaxis": {
            "backgroundcolor": "white",
            "gridcolor": "rgb(232,232,232)",
            "gridwidth": 2,
            "linecolor": "rgb(36,36,36)",
            "showbackground": true,
            "showgrid": false,
            "showline": true,
            "ticks": "outside",
            "zeroline": false,
            "zerolinecolor": "rgb(36,36,36)"
           },
           "yaxis": {
            "backgroundcolor": "white",
            "gridcolor": "rgb(232,232,232)",
            "gridwidth": 2,
            "linecolor": "rgb(36,36,36)",
            "showbackground": true,
            "showgrid": false,
            "showline": true,
            "ticks": "outside",
            "zeroline": false,
            "zerolinecolor": "rgb(36,36,36)"
           },
           "zaxis": {
            "backgroundcolor": "white",
            "gridcolor": "rgb(232,232,232)",
            "gridwidth": 2,
            "linecolor": "rgb(36,36,36)",
            "showbackground": true,
            "showgrid": false,
            "showline": true,
            "ticks": "outside",
            "zeroline": false,
            "zerolinecolor": "rgb(36,36,36)"
           }
          },
          "shapedefaults": {
           "fillcolor": "black",
           "line": {
            "width": 0
           },
           "opacity": 0.3
          },
          "ternary": {
           "aaxis": {
            "gridcolor": "rgb(232,232,232)",
            "linecolor": "rgb(36,36,36)",
            "showgrid": false,
            "showline": true,
            "ticks": "outside"
           },
           "baxis": {
            "gridcolor": "rgb(232,232,232)",
            "linecolor": "rgb(36,36,36)",
            "showgrid": false,
            "showline": true,
            "ticks": "outside"
           },
           "bgcolor": "white",
           "caxis": {
            "gridcolor": "rgb(232,232,232)",
            "linecolor": "rgb(36,36,36)",
            "showgrid": false,
            "showline": true,
            "ticks": "outside"
           }
          },
          "title": {
           "x": 0.05
          },
          "xaxis": {
           "automargin": true,
           "gridcolor": "rgb(232,232,232)",
           "linecolor": "rgb(36,36,36)",
           "showgrid": false,
           "showline": true,
           "ticks": "outside",
           "title": {
            "standoff": 15
           },
           "zeroline": false,
           "zerolinecolor": "rgb(36,36,36)"
          },
          "yaxis": {
           "automargin": true,
           "gridcolor": "rgb(232,232,232)",
           "linecolor": "rgb(36,36,36)",
           "showgrid": false,
           "showline": true,
           "ticks": "outside",
           "title": {
            "standoff": 15
           },
           "zeroline": false,
           "zerolinecolor": "rgb(36,36,36)"
          }
         }
        },
        "title": {
         "font": {
          "color": "Black",
          "size": 22
         },
         "text": "<b>Topics over Time</b>",
         "x": 0.4,
         "xanchor": "center",
         "y": 0.95,
         "yanchor": "top"
        },
        "width": 1250,
        "xaxis": {
         "showgrid": true
        },
        "yaxis": {
         "showgrid": true,
         "title": {
          "text": "Frequency"
         }
        }
       }
      }
     },
     "metadata": {},
     "output_type": "display_data"
    }
   ],
   "source": [
    "topicModel.visualize_topics_over_time(topicsOverTime)"
   ]
  },
  {
   "cell_type": "code",
   "execution_count": 6,
   "metadata": {},
   "outputs": [
    {
     "name": "stdout",
     "output_type": "stream",
     "text": [
      "Question Topic: Keywords: Course Folder Management\n",
      "Question Insertion Point: 00:33:55.117045\n",
      "Question Data:\n",
      "```json\n",
      "{\n",
      "  \"question\": \"What feature of Piazza helps reduce redundancy by allowing students to post questions that can be found by others, thus avoiding multiple emails about the same topic?\",\n",
      "  \"answers\": [\n",
      "    \"Anonymous Posting\",\n",
      "    \"Pinned Posts\",\n",
      "    \"Class Locking Functionality\",\n",
      "    \"Q&A Feed\"\n",
      "  ],\n",
      "  \"correct\": \"Q&A Feed\",\n",
      "  \"reason\": \"The Q&A Feed is where students can post questions that are visible to others, reducing the need for multiple emails about the same questions. Anonymous Posting allows students to post without revealing their identity, but doesn't directly reduce redundancy. Pinned Posts are for important announcements and do not necessarily reduce question redundancy. Class Locking Functionality is used to lock the class during specific times, such as exams, and is unrelated to question redundancy.\"\n",
      "}\n",
      "```\n",
      "\n",
      "\n",
      "\n",
      "Question Topic: Keywords: Canvas and Piazza Integration Guide\n",
      "Question Insertion Point: 00:44:05.200000\n",
      "Question Data:\n",
      "{\n",
      "  \"question\": \"What is the correct sequence of steps for integrating Piazza into a Canvas course?\",\n",
      "  \"answers\": [\n",
      "    \"Add Piazza to course navigation, create or link Piazza class, set up class details, and enable automatic roster sync.\",\n",
      "    \"Enable automatic roster sync, link Piazza class, add Piazza to course navigation, and set up class details.\",\n",
      "    \"Set up class details, add Piazza to course navigation, enable automatic roster sync, and create or link Piazza class.\",\n",
      "    \"Create or link Piazza class, set up class details, enable automatic roster sync, and add Piazza to course navigation.\"\n",
      "  ],\n",
      "  \"correct\": \"Add Piazza to course navigation, create or link Piazza class, set up class details, and enable automatic roster sync.\",\n",
      "  \"reason\": \"The correct sequence as described in the transcript is to first add Piazza to the course navigation in Canvas, then either create a new class on Piazza or link an existing one, followed by setting up class details such as the start date and features like anonymity and private posts. Finally, the instructor can enable automatic roster sync to manage enrollments.\"\n",
      "}\n",
      "\n",
      "\n",
      "\n"
     ]
    }
   ],
   "source": [
    "for topic in questionData:\n",
    "    print(f\"Question Topic: {topic}\")\n",
    "    print(f'Question Insertion Point: {maxTopics[topic][\"End\"].time()}')\n",
    "    print(\"Question Data:\")\n",
    "    print(questionData[topic][\"JSON\"])\n",
    "    print(\"\\n\\n\")"
   ]
  },
  {
   "cell_type": "markdown",
   "metadata": {},
   "source": [
    "# Potential code to use to allow for custom Topic Mapping. \n",
    "Needs more human observation and corrections.\n",
    "\n",
    "### Skip this cell block for now."
   ]
  },
  {
   "cell_type": "code",
   "execution_count": 7,
   "metadata": {
    "slideshow": {
     "slide_type": "skip"
    }
   },
   "outputs": [
    {
     "name": "stdout",
     "output_type": "stream",
     "text": [
      "Couldn't find program: 'skip'\n"
     ]
    }
   ],
   "source": [
    "%%script skip\n",
    "\n",
    "from transformers import pipeline\n",
    "classifier = pipeline(\"zero-shot-classification\", model=\"facebook/bart-large-mnli\")\n",
    "\n",
    "# Our set of potential topic labels\n",
    "candidateLabels = ['New Features', 'Editing and Customizing Quizzes', 'Student Accomodations']\n",
    "\n",
    "for topicIndex in topicModel.get_topics():\n",
    "    subTopic = \" \".join([word for word, _ in topic_model.get_topic(topicIndex)])\n",
    "    \n",
    "    result = classifier(subTopic, candidateLabels)\n",
    "    print(result)"
   ]
  },
  {
   "cell_type": "markdown",
   "metadata": {},
   "source": [
    "# Looking into a way to plot some of the charts myself a bit more easily."
   ]
  },
  {
   "cell_type": "code",
   "execution_count": 8,
   "metadata": {},
   "outputs": [
    {
     "name": "stdout",
     "output_type": "stream",
     "text": [
      "Couldn't find program: 'skip'\n"
     ]
    }
   ],
   "source": [
    "%%script skip\n",
    "\n",
    "import pandas as pd\n",
    "from typing import List, Union\n",
    "import plotly.graph_objects as go\n",
    "from sklearn.preprocessing import normalize\n",
    "\n",
    "\n",
    "def visualize_topics_over_time(\n",
    "    topic_model,\n",
    "    topics_over_time: pd.DataFrame,\n",
    "    top_n_topics: int = None,\n",
    "    topics: List[int] = None,\n",
    "    normalize_frequency: bool = False,\n",
    "    custom_labels: Union[bool, str] = False,\n",
    "    title: str = \"<b>Topics over Time</b>\",\n",
    "    width: int = 1250,\n",
    "    height: int = 450,\n",
    ") -> go.Figure:\n",
    "    \"\"\"Visualize topics over time\n",
    "\n",
    "    Arguments:\n",
    "        topic_model: A fitted BERTopic instance.\n",
    "        topics_over_time: The topics you would like to be visualized with the\n",
    "                          corresponding topic representation\n",
    "        top_n_topics: To visualize the most frequent topics instead of all\n",
    "        topics: Select which topics you would like to be visualized\n",
    "        normalize_frequency: Whether to normalize each topic's frequency individually\n",
    "        custom_labels: If bool, whether to use custom topic labels that were defined using\n",
    "                       `topic_model.set_topic_labels`.\n",
    "                       If `str`, it uses labels from other aspects, e.g., \"Aspect1\".\n",
    "        title: Title of the plot.\n",
    "        width: The width of the figure.\n",
    "        height: The height of the figure.\n",
    "\n",
    "    Returns:\n",
    "        A plotly.graph_objects.Figure including all traces\n",
    "\n",
    "    Examples:\n",
    "\n",
    "    To visualize the topics over time, simply run:\n",
    "\n",
    "    ```python\n",
    "    topics_over_time = topic_model.topics_over_time(docs, timestamps)\n",
    "    topic_model.visualize_topics_over_time(topics_over_time)\n",
    "    ```\n",
    "\n",
    "    Or if you want to save the resulting figure:\n",
    "\n",
    "    ```python\n",
    "    fig = topic_model.visualize_topics_over_time(topics_over_time)\n",
    "    fig.write_html(\"path/to/file.html\")\n",
    "    ```\n",
    "    <iframe src=\"../../getting_started/visualization/trump.html\"\n",
    "    style=\"width:1000px; height: 680px; border: 0px;\"\"></iframe>\n",
    "    \"\"\"\n",
    "    colors = [\n",
    "        \"#E69F00\",\n",
    "        \"#56B4E9\",\n",
    "        \"#009E73\",\n",
    "        \"#F0E442\",\n",
    "        \"#D55E00\",\n",
    "        \"#0072B2\",\n",
    "        \"#CC79A7\",\n",
    "    ]\n",
    "\n",
    "    # Select topics based on top_n and topics args\n",
    "    freq_df = topic_model.get_topic_freq()\n",
    "    freq_df = freq_df.loc[freq_df.Topic != -1, :]\n",
    "    if topics is not None:\n",
    "        selected_topics = list(topics)\n",
    "    elif top_n_topics is not None:\n",
    "        selected_topics = sorted(freq_df.Topic.to_list()[:top_n_topics])\n",
    "    else:\n",
    "        selected_topics = sorted(freq_df.Topic.to_list())\n",
    "\n",
    "    # Prepare data\n",
    "    if isinstance(custom_labels, str):\n",
    "        topic_names = [\n",
    "            [[str(topic), None]] + topic_model.topic_aspects_[custom_labels][topic]\n",
    "            for topic in topics\n",
    "        ]\n",
    "        topic_names = [\n",
    "            \"_\".join([label[0] for label in labels[:4]]) for labels in topic_names\n",
    "        ]\n",
    "        topic_names = [\n",
    "            label if len(label) < 30 else label[:27] + \"...\" for label in topic_names\n",
    "        ]\n",
    "        topic_names = {\n",
    "            key: topic_names[index]\n",
    "            for index, key in enumerate(topic_model.topic_labels_.keys())\n",
    "        }\n",
    "    elif topic_model.custom_labels_ is not None and custom_labels:\n",
    "        topic_names = {\n",
    "            key: topic_model.custom_labels_[key + topic_model._outliers]\n",
    "            for key, _ in topic_model.topic_labels_.items()\n",
    "        }\n",
    "    else:\n",
    "        topic_names = {\n",
    "            key: value[:40] + \"...\" if len(value) > 40 else value\n",
    "            for key, value in topic_model.topic_labels_.items()\n",
    "        }\n",
    "    topics_over_time[\"Name\"] = topics_over_time.Topic.map(topic_names)\n",
    "    data = topics_over_time.loc[\n",
    "        topics_over_time.Topic.isin(selected_topics), :\n",
    "    ].sort_values([\"Topic\", \"Timestamp\"])\n",
    "\n",
    "    # Add traces\n",
    "    fig = go.Figure()\n",
    "    for index, topic in enumerate(data.Topic.unique()):\n",
    "        trace_data = data.loc[data.Topic == topic, :]\n",
    "        topic_name = trace_data.Name.values[0]\n",
    "        words = trace_data.Words.values\n",
    "        if normalize_frequency:\n",
    "            y = normalize(trace_data.Frequency.values.reshape(1, -1))[0]\n",
    "        else:\n",
    "            y = trace_data.Frequency\n",
    "        fig.add_trace(\n",
    "            go.Scatter(\n",
    "                x=trace_data.Timestamp,\n",
    "                y=y,\n",
    "                mode=\"lines\",\n",
    "                marker_color=colors[index % 7],\n",
    "                hoverinfo=\"text\",\n",
    "                name=topic_name,\n",
    "                hovertext=[f\"<b>Topic {topic}</b><br>Words: {word}\" for word in words],\n",
    "            )\n",
    "        )\n",
    "\n",
    "    # Styling of the visualization\n",
    "    fig.update_xaxes(showgrid=True)\n",
    "    fig.update_yaxes(showgrid=True)\n",
    "    fig.update_layout(\n",
    "        yaxis_title=\"Normalized Frequency\" if normalize_frequency else \"Frequency\",\n",
    "        title={\n",
    "            \"text\": f\"{title}\",\n",
    "            \"y\": 0.95,\n",
    "            \"x\": 0.40,\n",
    "            \"xanchor\": \"center\",\n",
    "            \"yanchor\": \"top\",\n",
    "            \"font\": dict(size=22, color=\"Black\"),\n",
    "        },\n",
    "        template=\"simple_white\",\n",
    "        width=width,\n",
    "        height=height,\n",
    "        hoverlabel=dict(bgcolor=\"white\", font_size=16, font_family=\"Rockwell\"),\n",
    "        legend=dict(\n",
    "            title=\"<b>Global Topic Representation\",\n",
    "        ),\n",
    "    )\n",
    "    return fig\n",
    "\n",
    "\n",
    "visualize_topics_over_time(topicModel, topicsOverTime)"
   ]
  }
 ],
 "metadata": {
  "kernelspec": {
   "display_name": "base",
   "language": "python",
   "name": "python3"
  },
  "language_info": {
   "codemirror_mode": {
    "name": "ipython",
    "version": 3
   },
   "file_extension": ".py",
   "mimetype": "text/x-python",
   "name": "python",
   "nbconvert_exporter": "python",
   "pygments_lexer": "ipython3",
   "version": "3.12.3"
  }
 },
 "nbformat": 4,
 "nbformat_minor": 2
}
