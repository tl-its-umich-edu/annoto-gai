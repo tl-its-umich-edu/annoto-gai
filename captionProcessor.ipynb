{
 "cells": [
  {
   "cell_type": "markdown",
   "metadata": {},
   "source": [
    "## Initialize libraries, setup Config file and retrieve transcripts"
   ]
  },
  {
   "cell_type": "code",
   "execution_count": 3,
   "metadata": {},
   "outputs": [],
   "source": [
    "from helper import *\n",
    "\n",
    "config = Config()\n",
    "config.setFromEnv()\n",
    "\n",
    "videoNames = [\n",
    "    \"New Quizzes Video\",\n",
    "    \"Rearrange Playlist video\",\n",
    "    \"IMSE 514 Presentation\",\n",
    "    \"New Google Assignments in Canvas\",\n",
    "    \"Piazza Introduction Workshop\",\n",
    "]\n",
    "\n",
    "videoToUse = \"New Google Assignments in Canvas\"\n",
    "transcriptToUse = getCombinedTranscripts(\n",
    "    videoToUse,\n",
    "    captionsFolder=\"Captions\",\n",
    ")"
   ]
  },
  {
   "cell_type": "markdown",
   "metadata": {},
   "source": [
    "## Run BERTTopic to get Topics over Time\n",
    "3 choices of  Represnatation Models that can be used:\n",
    "\n",
    "    'simple': Uses BERTopic alone, takes -40 seconds to run\n",
    "    'openai': Uses BERTopic and OpenAI to generate interpretable topic titles, takes ~6 minutes to run\n",
    "    'langchain': Uses BERTopic and LangChain to generate interpretable topic titles, takes ~3 minutes to run\n",
    "\n",
    "\n",
    "I recommend using 'langchain', as it is faster and seems to perform better regarding the titles generated. \n",
    "\n",
    "It also has an easier to modify prompt if you want some flexibility there."
   ]
  },
  {
   "cell_type": "code",
   "execution_count": 4,
   "metadata": {},
   "outputs": [],
   "source": [
    "topicsOverTime, topicModel = retrieveTopics(videoToUse, transcriptToUse, config=config)"
   ]
  },
  {
   "cell_type": "markdown",
   "metadata": {},
   "source": [
    "## Find appropiate Topic timestamps and associated transcript text"
   ]
  },
  {
   "cell_type": "code",
   "execution_count": 5,
   "metadata": {},
   "outputs": [],
   "source": [
    "maxTopics = getMaxTopics(topicsOverTime, transcriptToUse)\n",
    "topicTexts = getRelevantText(maxTopics, transcriptToUse)"
   ]
  },
  {
   "cell_type": "markdown",
   "metadata": {},
   "source": [
    "## Generate Questions from Extracted Topic & Timestamp data\n",
    "Takes ~2 minutes to run"
   ]
  },
  {
   "cell_type": "code",
   "execution_count": 6,
   "metadata": {},
   "outputs": [],
   "source": [
    "questionData = retrieveQuestionData(videoToUse, topicTexts, config)"
   ]
  },
  {
   "cell_type": "markdown",
   "metadata": {},
   "source": [
    "### Debug & Visualize Data"
   ]
  },
  {
   "cell_type": "code",
   "execution_count": 7,
   "metadata": {},
   "outputs": [
    {
     "data": {
      "application/vnd.plotly.v1+json": {
       "config": {
        "plotlyServerURL": "https://plot.ly"
       },
       "data": [
        {
         "hoverinfo": "text",
         "hovertext": [
          "<b>Topic 0</b><br>Words: Educational Assignment Management, , , , ",
          "<b>Topic 0</b><br>Words: Google Assignments Integration, , , , ",
          "<b>Topic 0</b><br>Words: Educational Tool Integration, , , , ",
          "<b>Topic 0</b><br>Words: Google Assignments Tool Overview, , , , ",
          "<b>Topic 0</b><br>Words: Google Docs Educational Tool Update, , , , ",
          "<b>Topic 0</b><br>Words: Educational Tool Comparison, , , , ",
          "<b>Topic 0</b><br>Words: Google Assignments Integration, , , , ",
          "<b>Topic 0</b><br>Words: Google Assignments Pilot Instructions, , , , ",
          "<b>Topic 0</b><br>Words: Google Assignments Integration Instructions, , , , ",
          "<b>Topic 0</b><br>Words: Google Drive File Sharing, , , , ",
          "<b>Topic 0</b><br>Words: Educational Assignment Instructions, , , , ",
          "<b>Topic 0</b><br>Words: Educational Technology Tutorial, , , , ",
          "<b>Topic 0</b><br>Words: Google Assignments Integration Steps, , , , ",
          "<b>Topic 0</b><br>Words: Document Editing and Submission Process, , , , ",
          "<b>Topic 0</b><br>Words: \"Google Assignments Submission Process\", , , , ",
          "<b>Topic 0</b><br>Words: Google Assignments Tutorial, , , , ",
          "<b>Topic 0</b><br>Words: Team Project Collaboration Resources, , , , "
         ],
         "marker": {
          "color": "#E69F00"
         },
         "mode": "lines",
         "name": "0_Google Assignments Tool Overview___",
         "type": "scatter",
         "x": [
          "1900-01-01T00:00:01.605035",
          "1900-01-01T00:02:07.660735",
          "1900-01-01T00:04:09.571470",
          "1900-01-01T00:06:11.482205",
          "1900-01-01T00:08:13.392941",
          "1900-01-01T00:10:15.303676",
          "1900-01-01T00:14:19.125147",
          "1900-01-01T00:16:21.035882",
          "1900-01-01T00:26:30.589558",
          "1900-01-01T00:28:32.500294",
          "1900-01-01T00:30:34.411029",
          "1900-01-01T00:34:38.232500",
          "1900-01-01T00:36:40.143235",
          "1900-01-01T00:38:42.053970",
          "1900-01-01T00:40:43.964705",
          "1900-01-01T00:54:57.339852",
          "1900-01-01T01:05:06.893529"
         ],
         "y": [
          1,
          3,
          3,
          2,
          1,
          2,
          2,
          2,
          3,
          1,
          2,
          2,
          2,
          1,
          3,
          1,
          1
         ]
        },
        {
         "hoverinfo": "text",
         "hovertext": [
          "<b>Topic 1</b><br>Words: Educational Feedback Tools, , , , ",
          "<b>Topic 1</b><br>Words: Academic submission guidelines, , , , ",
          "<b>Topic 1</b><br>Words: Feedback Management Process, , , , ",
          "<b>Topic 1</b><br>Words: Assignment Submission Policies, , , , ",
          "<b>Topic 1</b><br>Words: Online Submission Process Instructions, , , , ",
          "<b>Topic 1</b><br>Words: Online Grading System Tutorial, , , , ",
          "<b>Topic 1</b><br>Words: Teacher's Feedback on Assignments, , , , ",
          "<b>Topic 1</b><br>Words: Educational Feedback Process, , , , ",
          "<b>Topic 1</b><br>Words: Educational Feedback Process, , , , ",
          "<b>Topic 1</b><br>Words: Online Feedback Exchange, , , , ",
          "<b>Topic 1</b><br>Words: Educational Feedback System, , , , "
         ],
         "marker": {
          "color": "#56B4E9"
         },
         "mode": "lines",
         "name": "1_Educational Platform Submission Guidel...",
         "type": "scatter",
         "x": [
          "1900-01-01T00:12:17.214411",
          "1900-01-01T00:22:26.768088",
          "1900-01-01T00:24:28.678823",
          "1900-01-01T00:38:42.053970",
          "1900-01-01T00:40:43.964705",
          "1900-01-01T00:42:45.875441",
          "1900-01-01T00:44:47.786176",
          "1900-01-01T00:46:49.696911",
          "1900-01-01T00:48:51.607647",
          "1900-01-01T00:50:53.518382",
          "1900-01-01T01:01:03.072058"
         ],
         "y": [
          1,
          1,
          2,
          2,
          1,
          3,
          2,
          3,
          2,
          2,
          1
         ]
        },
        {
         "hoverinfo": "text",
         "hovertext": [
          "<b>Topic 2</b><br>Words: Educational Assignment Tools, , , , ",
          "<b>Topic 2</b><br>Words: Teacher Rubric Training Activity, , , , ",
          "<b>Topic 2</b><br>Words: Rubric Creation Tool Overview, , , , ",
          "<b>Topic 2</b><br>Words: Document Review Process, , , , ",
          "<b>Topic 2</b><br>Words: Teacher's Assignment Management, , , , ",
          "<b>Topic 2</b><br>Words: Rubric Creation and Usage, , , , ",
          "<b>Topic 2</b><br>Words: Online Assignment Submission, , , , "
         ],
         "marker": {
          "color": "#009E73"
         },
         "mode": "lines",
         "name": "2_Educational Rubric Creation___",
         "type": "scatter",
         "x": [
          "1900-01-01T00:00:01.605035",
          "1900-01-01T00:30:34.411029",
          "1900-01-01T00:32:36.321764",
          "1900-01-01T00:34:38.232500",
          "1900-01-01T00:36:40.143235",
          "1900-01-01T00:52:55.429117",
          "1900-01-01T00:56:59.250588"
         ],
         "y": [
          1,
          2,
          2,
          1,
          1,
          2,
          2
         ]
        },
        {
         "hoverinfo": "text",
         "hovertext": [
          "<b>Topic 3</b><br>Words: Educational Grading Tools Comparison, , , , ",
          "<b>Topic 3</b><br>Words: Canvas and Google Assignments Integration, , , , ",
          "<b>Topic 3</b><br>Words: Google Assignments Grading Integration, , , , ",
          "<b>Topic 3</b><br>Words: Grading Integration Limitations, , , , ",
          "<b>Topic 3</b><br>Words: Canvas Gradebook Integration, , , , ",
          "<b>Topic 3</b><br>Words: Educational Tool Integration, , , , "
         ],
         "marker": {
          "color": "#F0E442"
         },
         "mode": "lines",
         "name": "3_Google Assignments Grading Integration...",
         "type": "scatter",
         "x": [
          "1900-01-01T00:06:11.482205",
          "1900-01-01T00:08:13.392941",
          "1900-01-01T00:18:22.946617",
          "1900-01-01T00:20:24.857352",
          "1900-01-01T00:52:55.429117",
          "1900-01-01T01:03:04.982794"
         ],
         "y": [
          1,
          1,
          3,
          2,
          1,
          2
         ]
        }
       ],
       "layout": {
        "height": 450,
        "hoverlabel": {
         "bgcolor": "white",
         "font": {
          "family": "Rockwell",
          "size": 16
         }
        },
        "legend": {
         "title": {
          "text": "<b>Global Topic Representation"
         }
        },
        "template": {
         "data": {
          "bar": [
           {
            "error_x": {
             "color": "rgb(36,36,36)"
            },
            "error_y": {
             "color": "rgb(36,36,36)"
            },
            "marker": {
             "line": {
              "color": "white",
              "width": 0.5
             },
             "pattern": {
              "fillmode": "overlay",
              "size": 10,
              "solidity": 0.2
             }
            },
            "type": "bar"
           }
          ],
          "barpolar": [
           {
            "marker": {
             "line": {
              "color": "white",
              "width": 0.5
             },
             "pattern": {
              "fillmode": "overlay",
              "size": 10,
              "solidity": 0.2
             }
            },
            "type": "barpolar"
           }
          ],
          "carpet": [
           {
            "aaxis": {
             "endlinecolor": "rgb(36,36,36)",
             "gridcolor": "white",
             "linecolor": "white",
             "minorgridcolor": "white",
             "startlinecolor": "rgb(36,36,36)"
            },
            "baxis": {
             "endlinecolor": "rgb(36,36,36)",
             "gridcolor": "white",
             "linecolor": "white",
             "minorgridcolor": "white",
             "startlinecolor": "rgb(36,36,36)"
            },
            "type": "carpet"
           }
          ],
          "choropleth": [
           {
            "colorbar": {
             "outlinewidth": 1,
             "tickcolor": "rgb(36,36,36)",
             "ticks": "outside"
            },
            "type": "choropleth"
           }
          ],
          "contour": [
           {
            "colorbar": {
             "outlinewidth": 1,
             "tickcolor": "rgb(36,36,36)",
             "ticks": "outside"
            },
            "colorscale": [
             [
              0,
              "#440154"
             ],
             [
              0.1111111111111111,
              "#482878"
             ],
             [
              0.2222222222222222,
              "#3e4989"
             ],
             [
              0.3333333333333333,
              "#31688e"
             ],
             [
              0.4444444444444444,
              "#26828e"
             ],
             [
              0.5555555555555556,
              "#1f9e89"
             ],
             [
              0.6666666666666666,
              "#35b779"
             ],
             [
              0.7777777777777778,
              "#6ece58"
             ],
             [
              0.8888888888888888,
              "#b5de2b"
             ],
             [
              1,
              "#fde725"
             ]
            ],
            "type": "contour"
           }
          ],
          "contourcarpet": [
           {
            "colorbar": {
             "outlinewidth": 1,
             "tickcolor": "rgb(36,36,36)",
             "ticks": "outside"
            },
            "type": "contourcarpet"
           }
          ],
          "heatmap": [
           {
            "colorbar": {
             "outlinewidth": 1,
             "tickcolor": "rgb(36,36,36)",
             "ticks": "outside"
            },
            "colorscale": [
             [
              0,
              "#440154"
             ],
             [
              0.1111111111111111,
              "#482878"
             ],
             [
              0.2222222222222222,
              "#3e4989"
             ],
             [
              0.3333333333333333,
              "#31688e"
             ],
             [
              0.4444444444444444,
              "#26828e"
             ],
             [
              0.5555555555555556,
              "#1f9e89"
             ],
             [
              0.6666666666666666,
              "#35b779"
             ],
             [
              0.7777777777777778,
              "#6ece58"
             ],
             [
              0.8888888888888888,
              "#b5de2b"
             ],
             [
              1,
              "#fde725"
             ]
            ],
            "type": "heatmap"
           }
          ],
          "heatmapgl": [
           {
            "colorbar": {
             "outlinewidth": 1,
             "tickcolor": "rgb(36,36,36)",
             "ticks": "outside"
            },
            "colorscale": [
             [
              0,
              "#440154"
             ],
             [
              0.1111111111111111,
              "#482878"
             ],
             [
              0.2222222222222222,
              "#3e4989"
             ],
             [
              0.3333333333333333,
              "#31688e"
             ],
             [
              0.4444444444444444,
              "#26828e"
             ],
             [
              0.5555555555555556,
              "#1f9e89"
             ],
             [
              0.6666666666666666,
              "#35b779"
             ],
             [
              0.7777777777777778,
              "#6ece58"
             ],
             [
              0.8888888888888888,
              "#b5de2b"
             ],
             [
              1,
              "#fde725"
             ]
            ],
            "type": "heatmapgl"
           }
          ],
          "histogram": [
           {
            "marker": {
             "line": {
              "color": "white",
              "width": 0.6
             }
            },
            "type": "histogram"
           }
          ],
          "histogram2d": [
           {
            "colorbar": {
             "outlinewidth": 1,
             "tickcolor": "rgb(36,36,36)",
             "ticks": "outside"
            },
            "colorscale": [
             [
              0,
              "#440154"
             ],
             [
              0.1111111111111111,
              "#482878"
             ],
             [
              0.2222222222222222,
              "#3e4989"
             ],
             [
              0.3333333333333333,
              "#31688e"
             ],
             [
              0.4444444444444444,
              "#26828e"
             ],
             [
              0.5555555555555556,
              "#1f9e89"
             ],
             [
              0.6666666666666666,
              "#35b779"
             ],
             [
              0.7777777777777778,
              "#6ece58"
             ],
             [
              0.8888888888888888,
              "#b5de2b"
             ],
             [
              1,
              "#fde725"
             ]
            ],
            "type": "histogram2d"
           }
          ],
          "histogram2dcontour": [
           {
            "colorbar": {
             "outlinewidth": 1,
             "tickcolor": "rgb(36,36,36)",
             "ticks": "outside"
            },
            "colorscale": [
             [
              0,
              "#440154"
             ],
             [
              0.1111111111111111,
              "#482878"
             ],
             [
              0.2222222222222222,
              "#3e4989"
             ],
             [
              0.3333333333333333,
              "#31688e"
             ],
             [
              0.4444444444444444,
              "#26828e"
             ],
             [
              0.5555555555555556,
              "#1f9e89"
             ],
             [
              0.6666666666666666,
              "#35b779"
             ],
             [
              0.7777777777777778,
              "#6ece58"
             ],
             [
              0.8888888888888888,
              "#b5de2b"
             ],
             [
              1,
              "#fde725"
             ]
            ],
            "type": "histogram2dcontour"
           }
          ],
          "mesh3d": [
           {
            "colorbar": {
             "outlinewidth": 1,
             "tickcolor": "rgb(36,36,36)",
             "ticks": "outside"
            },
            "type": "mesh3d"
           }
          ],
          "parcoords": [
           {
            "line": {
             "colorbar": {
              "outlinewidth": 1,
              "tickcolor": "rgb(36,36,36)",
              "ticks": "outside"
             }
            },
            "type": "parcoords"
           }
          ],
          "pie": [
           {
            "automargin": true,
            "type": "pie"
           }
          ],
          "scatter": [
           {
            "fillpattern": {
             "fillmode": "overlay",
             "size": 10,
             "solidity": 0.2
            },
            "type": "scatter"
           }
          ],
          "scatter3d": [
           {
            "line": {
             "colorbar": {
              "outlinewidth": 1,
              "tickcolor": "rgb(36,36,36)",
              "ticks": "outside"
             }
            },
            "marker": {
             "colorbar": {
              "outlinewidth": 1,
              "tickcolor": "rgb(36,36,36)",
              "ticks": "outside"
             }
            },
            "type": "scatter3d"
           }
          ],
          "scattercarpet": [
           {
            "marker": {
             "colorbar": {
              "outlinewidth": 1,
              "tickcolor": "rgb(36,36,36)",
              "ticks": "outside"
             }
            },
            "type": "scattercarpet"
           }
          ],
          "scattergeo": [
           {
            "marker": {
             "colorbar": {
              "outlinewidth": 1,
              "tickcolor": "rgb(36,36,36)",
              "ticks": "outside"
             }
            },
            "type": "scattergeo"
           }
          ],
          "scattergl": [
           {
            "marker": {
             "colorbar": {
              "outlinewidth": 1,
              "tickcolor": "rgb(36,36,36)",
              "ticks": "outside"
             }
            },
            "type": "scattergl"
           }
          ],
          "scattermapbox": [
           {
            "marker": {
             "colorbar": {
              "outlinewidth": 1,
              "tickcolor": "rgb(36,36,36)",
              "ticks": "outside"
             }
            },
            "type": "scattermapbox"
           }
          ],
          "scatterpolar": [
           {
            "marker": {
             "colorbar": {
              "outlinewidth": 1,
              "tickcolor": "rgb(36,36,36)",
              "ticks": "outside"
             }
            },
            "type": "scatterpolar"
           }
          ],
          "scatterpolargl": [
           {
            "marker": {
             "colorbar": {
              "outlinewidth": 1,
              "tickcolor": "rgb(36,36,36)",
              "ticks": "outside"
             }
            },
            "type": "scatterpolargl"
           }
          ],
          "scatterternary": [
           {
            "marker": {
             "colorbar": {
              "outlinewidth": 1,
              "tickcolor": "rgb(36,36,36)",
              "ticks": "outside"
             }
            },
            "type": "scatterternary"
           }
          ],
          "surface": [
           {
            "colorbar": {
             "outlinewidth": 1,
             "tickcolor": "rgb(36,36,36)",
             "ticks": "outside"
            },
            "colorscale": [
             [
              0,
              "#440154"
             ],
             [
              0.1111111111111111,
              "#482878"
             ],
             [
              0.2222222222222222,
              "#3e4989"
             ],
             [
              0.3333333333333333,
              "#31688e"
             ],
             [
              0.4444444444444444,
              "#26828e"
             ],
             [
              0.5555555555555556,
              "#1f9e89"
             ],
             [
              0.6666666666666666,
              "#35b779"
             ],
             [
              0.7777777777777778,
              "#6ece58"
             ],
             [
              0.8888888888888888,
              "#b5de2b"
             ],
             [
              1,
              "#fde725"
             ]
            ],
            "type": "surface"
           }
          ],
          "table": [
           {
            "cells": {
             "fill": {
              "color": "rgb(237,237,237)"
             },
             "line": {
              "color": "white"
             }
            },
            "header": {
             "fill": {
              "color": "rgb(217,217,217)"
             },
             "line": {
              "color": "white"
             }
            },
            "type": "table"
           }
          ]
         },
         "layout": {
          "annotationdefaults": {
           "arrowhead": 0,
           "arrowwidth": 1
          },
          "autotypenumbers": "strict",
          "coloraxis": {
           "colorbar": {
            "outlinewidth": 1,
            "tickcolor": "rgb(36,36,36)",
            "ticks": "outside"
           }
          },
          "colorscale": {
           "diverging": [
            [
             0,
             "rgb(103,0,31)"
            ],
            [
             0.1,
             "rgb(178,24,43)"
            ],
            [
             0.2,
             "rgb(214,96,77)"
            ],
            [
             0.3,
             "rgb(244,165,130)"
            ],
            [
             0.4,
             "rgb(253,219,199)"
            ],
            [
             0.5,
             "rgb(247,247,247)"
            ],
            [
             0.6,
             "rgb(209,229,240)"
            ],
            [
             0.7,
             "rgb(146,197,222)"
            ],
            [
             0.8,
             "rgb(67,147,195)"
            ],
            [
             0.9,
             "rgb(33,102,172)"
            ],
            [
             1,
             "rgb(5,48,97)"
            ]
           ],
           "sequential": [
            [
             0,
             "#440154"
            ],
            [
             0.1111111111111111,
             "#482878"
            ],
            [
             0.2222222222222222,
             "#3e4989"
            ],
            [
             0.3333333333333333,
             "#31688e"
            ],
            [
             0.4444444444444444,
             "#26828e"
            ],
            [
             0.5555555555555556,
             "#1f9e89"
            ],
            [
             0.6666666666666666,
             "#35b779"
            ],
            [
             0.7777777777777778,
             "#6ece58"
            ],
            [
             0.8888888888888888,
             "#b5de2b"
            ],
            [
             1,
             "#fde725"
            ]
           ],
           "sequentialminus": [
            [
             0,
             "#440154"
            ],
            [
             0.1111111111111111,
             "#482878"
            ],
            [
             0.2222222222222222,
             "#3e4989"
            ],
            [
             0.3333333333333333,
             "#31688e"
            ],
            [
             0.4444444444444444,
             "#26828e"
            ],
            [
             0.5555555555555556,
             "#1f9e89"
            ],
            [
             0.6666666666666666,
             "#35b779"
            ],
            [
             0.7777777777777778,
             "#6ece58"
            ],
            [
             0.8888888888888888,
             "#b5de2b"
            ],
            [
             1,
             "#fde725"
            ]
           ]
          },
          "colorway": [
           "#1F77B4",
           "#FF7F0E",
           "#2CA02C",
           "#D62728",
           "#9467BD",
           "#8C564B",
           "#E377C2",
           "#7F7F7F",
           "#BCBD22",
           "#17BECF"
          ],
          "font": {
           "color": "rgb(36,36,36)"
          },
          "geo": {
           "bgcolor": "white",
           "lakecolor": "white",
           "landcolor": "white",
           "showlakes": true,
           "showland": true,
           "subunitcolor": "white"
          },
          "hoverlabel": {
           "align": "left"
          },
          "hovermode": "closest",
          "mapbox": {
           "style": "light"
          },
          "paper_bgcolor": "white",
          "plot_bgcolor": "white",
          "polar": {
           "angularaxis": {
            "gridcolor": "rgb(232,232,232)",
            "linecolor": "rgb(36,36,36)",
            "showgrid": false,
            "showline": true,
            "ticks": "outside"
           },
           "bgcolor": "white",
           "radialaxis": {
            "gridcolor": "rgb(232,232,232)",
            "linecolor": "rgb(36,36,36)",
            "showgrid": false,
            "showline": true,
            "ticks": "outside"
           }
          },
          "scene": {
           "xaxis": {
            "backgroundcolor": "white",
            "gridcolor": "rgb(232,232,232)",
            "gridwidth": 2,
            "linecolor": "rgb(36,36,36)",
            "showbackground": true,
            "showgrid": false,
            "showline": true,
            "ticks": "outside",
            "zeroline": false,
            "zerolinecolor": "rgb(36,36,36)"
           },
           "yaxis": {
            "backgroundcolor": "white",
            "gridcolor": "rgb(232,232,232)",
            "gridwidth": 2,
            "linecolor": "rgb(36,36,36)",
            "showbackground": true,
            "showgrid": false,
            "showline": true,
            "ticks": "outside",
            "zeroline": false,
            "zerolinecolor": "rgb(36,36,36)"
           },
           "zaxis": {
            "backgroundcolor": "white",
            "gridcolor": "rgb(232,232,232)",
            "gridwidth": 2,
            "linecolor": "rgb(36,36,36)",
            "showbackground": true,
            "showgrid": false,
            "showline": true,
            "ticks": "outside",
            "zeroline": false,
            "zerolinecolor": "rgb(36,36,36)"
           }
          },
          "shapedefaults": {
           "fillcolor": "black",
           "line": {
            "width": 0
           },
           "opacity": 0.3
          },
          "ternary": {
           "aaxis": {
            "gridcolor": "rgb(232,232,232)",
            "linecolor": "rgb(36,36,36)",
            "showgrid": false,
            "showline": true,
            "ticks": "outside"
           },
           "baxis": {
            "gridcolor": "rgb(232,232,232)",
            "linecolor": "rgb(36,36,36)",
            "showgrid": false,
            "showline": true,
            "ticks": "outside"
           },
           "bgcolor": "white",
           "caxis": {
            "gridcolor": "rgb(232,232,232)",
            "linecolor": "rgb(36,36,36)",
            "showgrid": false,
            "showline": true,
            "ticks": "outside"
           }
          },
          "title": {
           "x": 0.05
          },
          "xaxis": {
           "automargin": true,
           "gridcolor": "rgb(232,232,232)",
           "linecolor": "rgb(36,36,36)",
           "showgrid": false,
           "showline": true,
           "ticks": "outside",
           "title": {
            "standoff": 15
           },
           "zeroline": false,
           "zerolinecolor": "rgb(36,36,36)"
          },
          "yaxis": {
           "automargin": true,
           "gridcolor": "rgb(232,232,232)",
           "linecolor": "rgb(36,36,36)",
           "showgrid": false,
           "showline": true,
           "ticks": "outside",
           "title": {
            "standoff": 15
           },
           "zeroline": false,
           "zerolinecolor": "rgb(36,36,36)"
          }
         }
        },
        "title": {
         "font": {
          "color": "Black",
          "size": 22
         },
         "text": "<b>Topics over Time</b>",
         "x": 0.4,
         "xanchor": "center",
         "y": 0.95,
         "yanchor": "top"
        },
        "width": 1250,
        "xaxis": {
         "showgrid": true
        },
        "yaxis": {
         "showgrid": true,
         "title": {
          "text": "Frequency"
         }
        }
       }
      }
     },
     "metadata": {},
     "output_type": "display_data"
    }
   ],
   "source": [
    "topicModel.visualize_topics_over_time(topicsOverTime)"
   ]
  },
  {
   "cell_type": "code",
   "execution_count": 8,
   "metadata": {},
   "outputs": [
    {
     "name": "stdout",
     "output_type": "stream",
     "text": [
      "Question Topic: Keywords: Google Assignments Integration\n",
      "Question Insertion Point: 00:18:22.946617\n",
      "Question Data:\n",
      "```json\n",
      "{\n",
      "  \"question\": \"What is a key feature of the new Google Assignments integration with LMS?\",\n",
      "  \"answers\": [\n",
      "    \"It allows educators to distribute physical textbooks to students.\",\n",
      "    \"It provides a platform for live video conferencing between teachers and students.\",\n",
      "    \"It enables educators to distribute, analyze, and grade student work using Google Drive and Box.\",\n",
      "    \"It automatically translates assignments into multiple languages.\"\n",
      "  ],\n",
      "  \"correct\": \"It enables educators to distribute, analyze, and grade student work using Google Drive and Box.\",\n",
      "  \"reason\": \"The correct answer is supported by the text which states that Google Assignments integrates directly into your LMS to give educators a faster, simpler way to distribute, analyze, and grade student work using the collaborative power of Google Drive and Box.\"\n",
      "}\n",
      "```\n",
      "\n",
      "\n",
      "\n",
      "Question Topic: Keywords: Google Assignments Grading Integration\n",
      "Question Insertion Point: 00:26:30.589558\n",
      "Question Data:\n",
      "```json\n",
      "{\n",
      "  \"question\": \"When grading Google Assignments, what limitation does using Canvas SpeedGrader have compared to grading directly in Google Assignments?\",\n",
      "  \"answers\": [\n",
      "    \"SpeedGrader allows for a back-and-forth exchange on the feedback component of the assignment.\",\n",
      "    \"Grades assigned in SpeedGrader are automatically updated in Google Assignments.\",\n",
      "    \"SpeedGrader does not allow for a reciprocal exchange of feedback with students.\",\n",
      "    \"SpeedGrader can modify grades in the Google Assignments platform.\"\n",
      "  ],\n",
      "  \"correct\": \"SpeedGrader does not allow for a reciprocal exchange of feedback with students.\",\n",
      "  \"reason\": \"The transcript specifies that if you opt to use Canvas SpeedGrader, you won't have the ability to have a back-and-forth exchange with the students, which means there is no reciprocal feedback mechanism available in SpeedGrader as there is in Google Assignments.\"\n",
      "}\n",
      "```\n",
      "\n",
      "\n",
      "\n",
      "Question Topic: Keywords: Online Grading System Tutorial\n",
      "Question Insertion Point: 00:52:55.429117\n",
      "Question Data:\n",
      "```json\n",
      "{\n",
      "  \"question\": \"In the online grading system tutorial, what feature allows the instructor to provide feedback directly on the student's submission?\",\n",
      "  \"answers\": [\n",
      "    \"Margin comments\",\n",
      "    \"Emoji reactions\",\n",
      "    \"Email notifications\",\n",
      "    \"Suggesting mode\"\n",
      "  ],\n",
      "  \"correct\": \"Margin comments\",\n",
      "  \"reason\": \"Margin comments are mentioned as a way for the instructor to select a part of the text and add a comment directly, which is a form of providing feedback on the student's submission. Emoji reactions are a creative way to respond but not a direct method of providing feedback. Email notifications are for alerts and not for feedback on the submission itself. Suggesting mode is a feature for making suggestions on the document, not for providing feedback in the form of comments.\"\n",
      "}\n",
      "```\n",
      "\n",
      "\n",
      "\n",
      "Question Topic: Keywords: Rubric Creation and Usage\n",
      "Question Insertion Point: 01:09:38.945000\n",
      "Question Data:\n",
      "{\"question\": \"In the context of using Google Assignments with an attached rubric, which of the following statements is true regarding the ability to make comments?\",\n",
      " \"answers\": [\n",
      "   \"Instructors can make comments directly within the rubric for each criterion.\",\n",
      "   \"Instructors cannot make comments at all when using Google Assignments.\",\n",
      "   \"Instructors can only make comments in the overall comment bank, not directly in the rubric.\",\n",
      "   \"Students can make comments within the rubric before submitting their assignment.\"\n",
      " ],\n",
      " \"correct\": \"Instructors can only make comments in the overall comment bank, not directly in the rubric.\",\n",
      " \"reason\": \"The correct answer is supported by the part of the transcript where it is mentioned that it doesn't appear possible to make comments directly in the rubric, but there is an overall comment bank to access. The other options are incorrect: instructors cannot comment directly within the rubric for each criterion, they can make comments but only in the overall comment bank, and there is no mention of students being able to make comments within the rubric before submission.\"}\n",
      "\n",
      "\n",
      "\n"
     ]
    }
   ],
   "source": [
    "for topic in questionData:\n",
    "    print(f\"Question Topic: {topic}\")\n",
    "    print(f'Question Insertion Point: {maxTopics[topic][\"End\"].time()}')\n",
    "    print(\"Question Data:\")\n",
    "    print(questionData[topic][\"JSON\"])\n",
    "    print(\"\\n\\n\")"
   ]
  },
  {
   "cell_type": "markdown",
   "metadata": {},
   "source": [
    "# Potential code to use to allow for custom Topic Mapping. \n",
    "Needs more human observation and corrections.\n",
    "\n",
    "### Skip this cell block for now."
   ]
  },
  {
   "cell_type": "code",
   "execution_count": 9,
   "metadata": {
    "slideshow": {
     "slide_type": "skip"
    }
   },
   "outputs": [
    {
     "name": "stdout",
     "output_type": "stream",
     "text": [
      "Couldn't find program: 'skip'\n"
     ]
    }
   ],
   "source": [
    "%%script skip\n",
    "\n",
    "from transformers import pipeline\n",
    "classifier = pipeline(\"zero-shot-classification\", model=\"facebook/bart-large-mnli\")\n",
    "\n",
    "# Our set of potential topic labels\n",
    "candidateLabels = ['New Features', 'Editing and Customizing Quizzes', 'Student Accomodations']\n",
    "\n",
    "for topicIndex in topicModel.get_topics():\n",
    "    subTopic = \" \".join([word for word, _ in topic_model.get_topic(topicIndex)])\n",
    "    \n",
    "    result = classifier(subTopic, candidateLabels)\n",
    "    print(result)"
   ]
  },
  {
   "cell_type": "markdown",
   "metadata": {},
   "source": [
    "# Looking into a way to plot some of the charts myself a bit more easily."
   ]
  },
  {
   "cell_type": "code",
   "execution_count": 10,
   "metadata": {},
   "outputs": [
    {
     "name": "stdout",
     "output_type": "stream",
     "text": [
      "Couldn't find program: 'skip'\n"
     ]
    }
   ],
   "source": [
    "%%script skip\n",
    "\n",
    "import pandas as pd\n",
    "from typing import List, Union\n",
    "import plotly.graph_objects as go\n",
    "from sklearn.preprocessing import normalize\n",
    "\n",
    "\n",
    "def visualize_topics_over_time(\n",
    "    topic_model,\n",
    "    topics_over_time: pd.DataFrame,\n",
    "    top_n_topics: int = None,\n",
    "    topics: List[int] = None,\n",
    "    normalize_frequency: bool = False,\n",
    "    custom_labels: Union[bool, str] = False,\n",
    "    title: str = \"<b>Topics over Time</b>\",\n",
    "    width: int = 1250,\n",
    "    height: int = 450,\n",
    ") -> go.Figure:\n",
    "    \"\"\"Visualize topics over time\n",
    "\n",
    "    Arguments:\n",
    "        topic_model: A fitted BERTopic instance.\n",
    "        topics_over_time: The topics you would like to be visualized with the\n",
    "                          corresponding topic representation\n",
    "        top_n_topics: To visualize the most frequent topics instead of all\n",
    "        topics: Select which topics you would like to be visualized\n",
    "        normalize_frequency: Whether to normalize each topic's frequency individually\n",
    "        custom_labels: If bool, whether to use custom topic labels that were defined using\n",
    "                       `topic_model.set_topic_labels`.\n",
    "                       If `str`, it uses labels from other aspects, e.g., \"Aspect1\".\n",
    "        title: Title of the plot.\n",
    "        width: The width of the figure.\n",
    "        height: The height of the figure.\n",
    "\n",
    "    Returns:\n",
    "        A plotly.graph_objects.Figure including all traces\n",
    "\n",
    "    Examples:\n",
    "\n",
    "    To visualize the topics over time, simply run:\n",
    "\n",
    "    ```python\n",
    "    topics_over_time = topic_model.topics_over_time(docs, timestamps)\n",
    "    topic_model.visualize_topics_over_time(topics_over_time)\n",
    "    ```\n",
    "\n",
    "    Or if you want to save the resulting figure:\n",
    "\n",
    "    ```python\n",
    "    fig = topic_model.visualize_topics_over_time(topics_over_time)\n",
    "    fig.write_html(\"path/to/file.html\")\n",
    "    ```\n",
    "    <iframe src=\"../../getting_started/visualization/trump.html\"\n",
    "    style=\"width:1000px; height: 680px; border: 0px;\"\"></iframe>\n",
    "    \"\"\"\n",
    "    colors = [\n",
    "        \"#E69F00\",\n",
    "        \"#56B4E9\",\n",
    "        \"#009E73\",\n",
    "        \"#F0E442\",\n",
    "        \"#D55E00\",\n",
    "        \"#0072B2\",\n",
    "        \"#CC79A7\",\n",
    "    ]\n",
    "\n",
    "    # Select topics based on top_n and topics args\n",
    "    freq_df = topic_model.get_topic_freq()\n",
    "    freq_df = freq_df.loc[freq_df.Topic != -1, :]\n",
    "    if topics is not None:\n",
    "        selected_topics = list(topics)\n",
    "    elif top_n_topics is not None:\n",
    "        selected_topics = sorted(freq_df.Topic.to_list()[:top_n_topics])\n",
    "    else:\n",
    "        selected_topics = sorted(freq_df.Topic.to_list())\n",
    "\n",
    "    # Prepare data\n",
    "    if isinstance(custom_labels, str):\n",
    "        topic_names = [\n",
    "            [[str(topic), None]] + topic_model.topic_aspects_[custom_labels][topic]\n",
    "            for topic in topics\n",
    "        ]\n",
    "        topic_names = [\n",
    "            \"_\".join([label[0] for label in labels[:4]]) for labels in topic_names\n",
    "        ]\n",
    "        topic_names = [\n",
    "            label if len(label) < 30 else label[:27] + \"...\" for label in topic_names\n",
    "        ]\n",
    "        topic_names = {\n",
    "            key: topic_names[index]\n",
    "            for index, key in enumerate(topic_model.topic_labels_.keys())\n",
    "        }\n",
    "    elif topic_model.custom_labels_ is not None and custom_labels:\n",
    "        topic_names = {\n",
    "            key: topic_model.custom_labels_[key + topic_model._outliers]\n",
    "            for key, _ in topic_model.topic_labels_.items()\n",
    "        }\n",
    "    else:\n",
    "        topic_names = {\n",
    "            key: value[:40] + \"...\" if len(value) > 40 else value\n",
    "            for key, value in topic_model.topic_labels_.items()\n",
    "        }\n",
    "    topics_over_time[\"Name\"] = topics_over_time.Topic.map(topic_names)\n",
    "    data = topics_over_time.loc[\n",
    "        topics_over_time.Topic.isin(selected_topics), :\n",
    "    ].sort_values([\"Topic\", \"Timestamp\"])\n",
    "\n",
    "    # Add traces\n",
    "    fig = go.Figure()\n",
    "    for index, topic in enumerate(data.Topic.unique()):\n",
    "        trace_data = data.loc[data.Topic == topic, :]\n",
    "        topic_name = trace_data.Name.values[0]\n",
    "        words = trace_data.Words.values\n",
    "        if normalize_frequency:\n",
    "            y = normalize(trace_data.Frequency.values.reshape(1, -1))[0]\n",
    "        else:\n",
    "            y = trace_data.Frequency\n",
    "        fig.add_trace(\n",
    "            go.Scatter(\n",
    "                x=trace_data.Timestamp,\n",
    "                y=y,\n",
    "                mode=\"lines\",\n",
    "                marker_color=colors[index % 7],\n",
    "                hoverinfo=\"text\",\n",
    "                name=topic_name,\n",
    "                hovertext=[f\"<b>Topic {topic}</b><br>Words: {word}\" for word in words],\n",
    "            )\n",
    "        )\n",
    "\n",
    "    # Styling of the visualization\n",
    "    fig.update_xaxes(showgrid=True)\n",
    "    fig.update_yaxes(showgrid=True)\n",
    "    fig.update_layout(\n",
    "        yaxis_title=\"Normalized Frequency\" if normalize_frequency else \"Frequency\",\n",
    "        title={\n",
    "            \"text\": f\"{title}\",\n",
    "            \"y\": 0.95,\n",
    "            \"x\": 0.40,\n",
    "            \"xanchor\": \"center\",\n",
    "            \"yanchor\": \"top\",\n",
    "            \"font\": dict(size=22, color=\"Black\"),\n",
    "        },\n",
    "        template=\"simple_white\",\n",
    "        width=width,\n",
    "        height=height,\n",
    "        hoverlabel=dict(bgcolor=\"white\", font_size=16, font_family=\"Rockwell\"),\n",
    "        legend=dict(\n",
    "            title=\"<b>Global Topic Representation\",\n",
    "        ),\n",
    "    )\n",
    "    return fig\n",
    "\n",
    "\n",
    "visualize_topics_over_time(topicModel, topicsOverTime)"
   ]
  }
 ],
 "metadata": {
  "kernelspec": {
   "display_name": "base",
   "language": "python",
   "name": "python3"
  },
  "language_info": {
   "codemirror_mode": {
    "name": "ipython",
    "version": 3
   },
   "file_extension": ".py",
   "mimetype": "text/x-python",
   "name": "python",
   "nbconvert_exporter": "python",
   "pygments_lexer": "ipython3",
   "version": "3.12.3"
  }
 },
 "nbformat": 4,
 "nbformat_minor": 2
}
