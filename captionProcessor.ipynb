{
 "cells": [
  {
   "cell_type": "markdown",
   "metadata": {},
   "source": [
    "# BERTopic only\n",
    "Runs quite quick, takes ~40s or so,"
   ]
  },
  {
   "cell_type": "code",
   "execution_count": 16,
   "metadata": {},
   "outputs": [
    {
     "data": {
      "application/vnd.plotly.v1+json": {
       "config": {
        "plotlyServerURL": "https://plot.ly"
       },
       "data": [
        {
         "hoverinfo": "text",
         "hovertext": [
          "<b>Topic 0</b><br>Words: quizzes, quiz, questions, dialog, options",
          "<b>Topic 0</b><br>Words: quizzes, quiz, questions, categorization, students",
          "<b>Topic 0</b><br>Words: quizzes, grades, students, calculators, quiz",
          "<b>Topic 0</b><br>Words: quizzes, commons, templates, template, quiz",
          "<b>Topic 0</b><br>Words: quizzes, templates, content, quiz, things",
          "<b>Topic 0</b><br>Words: quizzes, quiz, selecting, categorization, click",
          "<b>Topic 0</b><br>Words: quizzes, quiz, surveys, qualtrics, classic",
          "<b>Topic 0</b><br>Words: quizzes, quiz, distractors, distractor, categories",
          "<b>Topic 0</b><br>Words: quizzes, quiz, prompt, type, repeat",
          "<b>Topic 0</b><br>Words: quiz, quizzes, questions, match, matching",
          "<b>Topic 0</b><br>Words: quiz, quizzes, shuffle, questions, choices",
          "<b>Topic 0</b><br>Words: passage, questions, reading, quiz, meeting",
          "<b>Topic 0</b><br>Words: fillintheblank, spelled, meaning, quiz, questions",
          "<b>Topic 0</b><br>Words: settings, shuffle, tenant, quiz, linear",
          "<b>Topic 0</b><br>Words: quizzes, quiz, calculator, questions, reports",
          "<b>Topic 0</b><br>Words: quizzes, quiz, score, deviation, students",
          "<b>Topic 0</b><br>Words: updates, quizzes, trainings, release, page"
         ],
         "marker": {
          "color": "#E69F00"
         },
         "mode": "lines",
         "name": "0_quizzes_quiz_questions_types",
         "type": "scatter",
         "x": [
          "1899-12-31T23:59:58.134021",
          "1900-01-01T00:04:13.438950",
          "1900-01-01T00:08:23.737900",
          "1900-01-01T00:12:34.036850",
          "1900-01-01T00:16:44.335800",
          "1900-01-01T00:20:54.634750",
          "1900-01-01T00:25:04.933700",
          "1900-01-01T00:29:15.232650",
          "1900-01-01T00:33:25.531600",
          "1900-01-01T00:37:35.830550",
          "1900-01-01T00:41:46.129500",
          "1900-01-01T00:50:06.727400",
          "1900-01-01T00:54:17.026350",
          "1900-01-01T01:02:37.624250",
          "1900-01-01T01:06:47.923200",
          "1900-01-01T01:10:58.222150",
          "1900-01-01T01:19:18.820050"
         ],
         "y": [
          8,
          5,
          2,
          6,
          1,
          4,
          4,
          8,
          3,
          3,
          2,
          1,
          1,
          1,
          2,
          1,
          6
         ]
        },
        {
         "hoverinfo": "text",
         "hovertext": [
          "<b>Topic 1</b><br>Words: questions, stimulus, reading, sample, passage",
          "<b>Topic 1</b><br>Words: preview, unpublished, create, hotspot, hover",
          "<b>Topic 1</b><br>Words: preview, questions, cursor, pencils, select",
          "<b>Topic 1</b><br>Words: points, feedback, onepoint, point, scored",
          "<b>Topic 1</b><br>Words: layout, differences, preview, drag, orders",
          "<b>Topic 1</b><br>Words: points, aligning, calculator, onscreen, false",
          "<b>Topic 1</b><br>Words: blank, click, enter, blink, screen",
          "<b>Topic 1</b><br>Words: previewing, preview, questions, screen, click",
          "<b>Topic 1</b><br>Words: affidavit, students, ip, addresses, mute",
          "<b>Topic 1</b><br>Words: quizzes, feedback, highlighted, students, questions"
         ],
         "marker": {
          "color": "#56B4E9"
         },
         "mode": "lines",
         "name": "1_preview_selected_click_questions",
         "type": "scatter",
         "x": [
          "1900-01-01T00:04:13.438950",
          "1900-01-01T00:16:44.335800",
          "1900-01-01T00:33:25.531600",
          "1900-01-01T00:37:35.830550",
          "1900-01-01T00:45:56.428450",
          "1900-01-01T00:50:06.727400",
          "1900-01-01T00:54:17.026350",
          "1900-01-01T00:58:27.325300",
          "1900-01-01T01:02:37.624250",
          "1900-01-01T01:06:47.923200"
         ],
         "y": [
          2,
          2,
          2,
          3,
          2,
          1,
          2,
          5,
          1,
          2
         ]
        },
        {
         "hoverinfo": "text",
         "hovertext": [
          "<b>Topic 2</b><br>Words: moderation, accommodations, students, student, ways",
          "<b>Topic 2</b><br>Words: assignments, assign, submission, due, date",
          "<b>Topic 2</b><br>Words: students, student, access, syllabus, allow",
          "<b>Topic 2</b><br>Words: quizzes, quiz, unlimited, test, students",
          "<b>Topic 2</b><br>Words: accommodations, student, students, accommodation, tests",
          "<b>Topic 2</b><br>Words: student, students, minutes, retake, accommodations"
         ],
         "marker": {
          "color": "#009E73"
         },
         "mode": "lines",
         "name": "2_student_students_accommodations_time",
         "type": "scatter",
         "x": [
          "1900-01-01T00:12:34.036850",
          "1900-01-01T00:25:04.933700",
          "1900-01-01T01:02:37.624250",
          "1900-01-01T01:06:47.923200",
          "1900-01-01T01:10:58.222150",
          "1900-01-01T01:15:08.521100"
         ],
         "y": [
          1,
          1,
          4,
          1,
          4,
          5
         ]
        }
       ],
       "layout": {
        "height": 450,
        "hoverlabel": {
         "bgcolor": "white",
         "font": {
          "family": "Rockwell",
          "size": 16
         }
        },
        "legend": {
         "title": {
          "text": "<b>Global Topic Representation"
         }
        },
        "template": {
         "data": {
          "bar": [
           {
            "error_x": {
             "color": "rgb(36,36,36)"
            },
            "error_y": {
             "color": "rgb(36,36,36)"
            },
            "marker": {
             "line": {
              "color": "white",
              "width": 0.5
             },
             "pattern": {
              "fillmode": "overlay",
              "size": 10,
              "solidity": 0.2
             }
            },
            "type": "bar"
           }
          ],
          "barpolar": [
           {
            "marker": {
             "line": {
              "color": "white",
              "width": 0.5
             },
             "pattern": {
              "fillmode": "overlay",
              "size": 10,
              "solidity": 0.2
             }
            },
            "type": "barpolar"
           }
          ],
          "carpet": [
           {
            "aaxis": {
             "endlinecolor": "rgb(36,36,36)",
             "gridcolor": "white",
             "linecolor": "white",
             "minorgridcolor": "white",
             "startlinecolor": "rgb(36,36,36)"
            },
            "baxis": {
             "endlinecolor": "rgb(36,36,36)",
             "gridcolor": "white",
             "linecolor": "white",
             "minorgridcolor": "white",
             "startlinecolor": "rgb(36,36,36)"
            },
            "type": "carpet"
           }
          ],
          "choropleth": [
           {
            "colorbar": {
             "outlinewidth": 1,
             "tickcolor": "rgb(36,36,36)",
             "ticks": "outside"
            },
            "type": "choropleth"
           }
          ],
          "contour": [
           {
            "colorbar": {
             "outlinewidth": 1,
             "tickcolor": "rgb(36,36,36)",
             "ticks": "outside"
            },
            "colorscale": [
             [
              0,
              "#440154"
             ],
             [
              0.1111111111111111,
              "#482878"
             ],
             [
              0.2222222222222222,
              "#3e4989"
             ],
             [
              0.3333333333333333,
              "#31688e"
             ],
             [
              0.4444444444444444,
              "#26828e"
             ],
             [
              0.5555555555555556,
              "#1f9e89"
             ],
             [
              0.6666666666666666,
              "#35b779"
             ],
             [
              0.7777777777777778,
              "#6ece58"
             ],
             [
              0.8888888888888888,
              "#b5de2b"
             ],
             [
              1,
              "#fde725"
             ]
            ],
            "type": "contour"
           }
          ],
          "contourcarpet": [
           {
            "colorbar": {
             "outlinewidth": 1,
             "tickcolor": "rgb(36,36,36)",
             "ticks": "outside"
            },
            "type": "contourcarpet"
           }
          ],
          "heatmap": [
           {
            "colorbar": {
             "outlinewidth": 1,
             "tickcolor": "rgb(36,36,36)",
             "ticks": "outside"
            },
            "colorscale": [
             [
              0,
              "#440154"
             ],
             [
              0.1111111111111111,
              "#482878"
             ],
             [
              0.2222222222222222,
              "#3e4989"
             ],
             [
              0.3333333333333333,
              "#31688e"
             ],
             [
              0.4444444444444444,
              "#26828e"
             ],
             [
              0.5555555555555556,
              "#1f9e89"
             ],
             [
              0.6666666666666666,
              "#35b779"
             ],
             [
              0.7777777777777778,
              "#6ece58"
             ],
             [
              0.8888888888888888,
              "#b5de2b"
             ],
             [
              1,
              "#fde725"
             ]
            ],
            "type": "heatmap"
           }
          ],
          "heatmapgl": [
           {
            "colorbar": {
             "outlinewidth": 1,
             "tickcolor": "rgb(36,36,36)",
             "ticks": "outside"
            },
            "colorscale": [
             [
              0,
              "#440154"
             ],
             [
              0.1111111111111111,
              "#482878"
             ],
             [
              0.2222222222222222,
              "#3e4989"
             ],
             [
              0.3333333333333333,
              "#31688e"
             ],
             [
              0.4444444444444444,
              "#26828e"
             ],
             [
              0.5555555555555556,
              "#1f9e89"
             ],
             [
              0.6666666666666666,
              "#35b779"
             ],
             [
              0.7777777777777778,
              "#6ece58"
             ],
             [
              0.8888888888888888,
              "#b5de2b"
             ],
             [
              1,
              "#fde725"
             ]
            ],
            "type": "heatmapgl"
           }
          ],
          "histogram": [
           {
            "marker": {
             "line": {
              "color": "white",
              "width": 0.6
             }
            },
            "type": "histogram"
           }
          ],
          "histogram2d": [
           {
            "colorbar": {
             "outlinewidth": 1,
             "tickcolor": "rgb(36,36,36)",
             "ticks": "outside"
            },
            "colorscale": [
             [
              0,
              "#440154"
             ],
             [
              0.1111111111111111,
              "#482878"
             ],
             [
              0.2222222222222222,
              "#3e4989"
             ],
             [
              0.3333333333333333,
              "#31688e"
             ],
             [
              0.4444444444444444,
              "#26828e"
             ],
             [
              0.5555555555555556,
              "#1f9e89"
             ],
             [
              0.6666666666666666,
              "#35b779"
             ],
             [
              0.7777777777777778,
              "#6ece58"
             ],
             [
              0.8888888888888888,
              "#b5de2b"
             ],
             [
              1,
              "#fde725"
             ]
            ],
            "type": "histogram2d"
           }
          ],
          "histogram2dcontour": [
           {
            "colorbar": {
             "outlinewidth": 1,
             "tickcolor": "rgb(36,36,36)",
             "ticks": "outside"
            },
            "colorscale": [
             [
              0,
              "#440154"
             ],
             [
              0.1111111111111111,
              "#482878"
             ],
             [
              0.2222222222222222,
              "#3e4989"
             ],
             [
              0.3333333333333333,
              "#31688e"
             ],
             [
              0.4444444444444444,
              "#26828e"
             ],
             [
              0.5555555555555556,
              "#1f9e89"
             ],
             [
              0.6666666666666666,
              "#35b779"
             ],
             [
              0.7777777777777778,
              "#6ece58"
             ],
             [
              0.8888888888888888,
              "#b5de2b"
             ],
             [
              1,
              "#fde725"
             ]
            ],
            "type": "histogram2dcontour"
           }
          ],
          "mesh3d": [
           {
            "colorbar": {
             "outlinewidth": 1,
             "tickcolor": "rgb(36,36,36)",
             "ticks": "outside"
            },
            "type": "mesh3d"
           }
          ],
          "parcoords": [
           {
            "line": {
             "colorbar": {
              "outlinewidth": 1,
              "tickcolor": "rgb(36,36,36)",
              "ticks": "outside"
             }
            },
            "type": "parcoords"
           }
          ],
          "pie": [
           {
            "automargin": true,
            "type": "pie"
           }
          ],
          "scatter": [
           {
            "fillpattern": {
             "fillmode": "overlay",
             "size": 10,
             "solidity": 0.2
            },
            "type": "scatter"
           }
          ],
          "scatter3d": [
           {
            "line": {
             "colorbar": {
              "outlinewidth": 1,
              "tickcolor": "rgb(36,36,36)",
              "ticks": "outside"
             }
            },
            "marker": {
             "colorbar": {
              "outlinewidth": 1,
              "tickcolor": "rgb(36,36,36)",
              "ticks": "outside"
             }
            },
            "type": "scatter3d"
           }
          ],
          "scattercarpet": [
           {
            "marker": {
             "colorbar": {
              "outlinewidth": 1,
              "tickcolor": "rgb(36,36,36)",
              "ticks": "outside"
             }
            },
            "type": "scattercarpet"
           }
          ],
          "scattergeo": [
           {
            "marker": {
             "colorbar": {
              "outlinewidth": 1,
              "tickcolor": "rgb(36,36,36)",
              "ticks": "outside"
             }
            },
            "type": "scattergeo"
           }
          ],
          "scattergl": [
           {
            "marker": {
             "colorbar": {
              "outlinewidth": 1,
              "tickcolor": "rgb(36,36,36)",
              "ticks": "outside"
             }
            },
            "type": "scattergl"
           }
          ],
          "scattermapbox": [
           {
            "marker": {
             "colorbar": {
              "outlinewidth": 1,
              "tickcolor": "rgb(36,36,36)",
              "ticks": "outside"
             }
            },
            "type": "scattermapbox"
           }
          ],
          "scatterpolar": [
           {
            "marker": {
             "colorbar": {
              "outlinewidth": 1,
              "tickcolor": "rgb(36,36,36)",
              "ticks": "outside"
             }
            },
            "type": "scatterpolar"
           }
          ],
          "scatterpolargl": [
           {
            "marker": {
             "colorbar": {
              "outlinewidth": 1,
              "tickcolor": "rgb(36,36,36)",
              "ticks": "outside"
             }
            },
            "type": "scatterpolargl"
           }
          ],
          "scatterternary": [
           {
            "marker": {
             "colorbar": {
              "outlinewidth": 1,
              "tickcolor": "rgb(36,36,36)",
              "ticks": "outside"
             }
            },
            "type": "scatterternary"
           }
          ],
          "surface": [
           {
            "colorbar": {
             "outlinewidth": 1,
             "tickcolor": "rgb(36,36,36)",
             "ticks": "outside"
            },
            "colorscale": [
             [
              0,
              "#440154"
             ],
             [
              0.1111111111111111,
              "#482878"
             ],
             [
              0.2222222222222222,
              "#3e4989"
             ],
             [
              0.3333333333333333,
              "#31688e"
             ],
             [
              0.4444444444444444,
              "#26828e"
             ],
             [
              0.5555555555555556,
              "#1f9e89"
             ],
             [
              0.6666666666666666,
              "#35b779"
             ],
             [
              0.7777777777777778,
              "#6ece58"
             ],
             [
              0.8888888888888888,
              "#b5de2b"
             ],
             [
              1,
              "#fde725"
             ]
            ],
            "type": "surface"
           }
          ],
          "table": [
           {
            "cells": {
             "fill": {
              "color": "rgb(237,237,237)"
             },
             "line": {
              "color": "white"
             }
            },
            "header": {
             "fill": {
              "color": "rgb(217,217,217)"
             },
             "line": {
              "color": "white"
             }
            },
            "type": "table"
           }
          ]
         },
         "layout": {
          "annotationdefaults": {
           "arrowhead": 0,
           "arrowwidth": 1
          },
          "autotypenumbers": "strict",
          "coloraxis": {
           "colorbar": {
            "outlinewidth": 1,
            "tickcolor": "rgb(36,36,36)",
            "ticks": "outside"
           }
          },
          "colorscale": {
           "diverging": [
            [
             0,
             "rgb(103,0,31)"
            ],
            [
             0.1,
             "rgb(178,24,43)"
            ],
            [
             0.2,
             "rgb(214,96,77)"
            ],
            [
             0.3,
             "rgb(244,165,130)"
            ],
            [
             0.4,
             "rgb(253,219,199)"
            ],
            [
             0.5,
             "rgb(247,247,247)"
            ],
            [
             0.6,
             "rgb(209,229,240)"
            ],
            [
             0.7,
             "rgb(146,197,222)"
            ],
            [
             0.8,
             "rgb(67,147,195)"
            ],
            [
             0.9,
             "rgb(33,102,172)"
            ],
            [
             1,
             "rgb(5,48,97)"
            ]
           ],
           "sequential": [
            [
             0,
             "#440154"
            ],
            [
             0.1111111111111111,
             "#482878"
            ],
            [
             0.2222222222222222,
             "#3e4989"
            ],
            [
             0.3333333333333333,
             "#31688e"
            ],
            [
             0.4444444444444444,
             "#26828e"
            ],
            [
             0.5555555555555556,
             "#1f9e89"
            ],
            [
             0.6666666666666666,
             "#35b779"
            ],
            [
             0.7777777777777778,
             "#6ece58"
            ],
            [
             0.8888888888888888,
             "#b5de2b"
            ],
            [
             1,
             "#fde725"
            ]
           ],
           "sequentialminus": [
            [
             0,
             "#440154"
            ],
            [
             0.1111111111111111,
             "#482878"
            ],
            [
             0.2222222222222222,
             "#3e4989"
            ],
            [
             0.3333333333333333,
             "#31688e"
            ],
            [
             0.4444444444444444,
             "#26828e"
            ],
            [
             0.5555555555555556,
             "#1f9e89"
            ],
            [
             0.6666666666666666,
             "#35b779"
            ],
            [
             0.7777777777777778,
             "#6ece58"
            ],
            [
             0.8888888888888888,
             "#b5de2b"
            ],
            [
             1,
             "#fde725"
            ]
           ]
          },
          "colorway": [
           "#1F77B4",
           "#FF7F0E",
           "#2CA02C",
           "#D62728",
           "#9467BD",
           "#8C564B",
           "#E377C2",
           "#7F7F7F",
           "#BCBD22",
           "#17BECF"
          ],
          "font": {
           "color": "rgb(36,36,36)"
          },
          "geo": {
           "bgcolor": "white",
           "lakecolor": "white",
           "landcolor": "white",
           "showlakes": true,
           "showland": true,
           "subunitcolor": "white"
          },
          "hoverlabel": {
           "align": "left"
          },
          "hovermode": "closest",
          "mapbox": {
           "style": "light"
          },
          "paper_bgcolor": "white",
          "plot_bgcolor": "white",
          "polar": {
           "angularaxis": {
            "gridcolor": "rgb(232,232,232)",
            "linecolor": "rgb(36,36,36)",
            "showgrid": false,
            "showline": true,
            "ticks": "outside"
           },
           "bgcolor": "white",
           "radialaxis": {
            "gridcolor": "rgb(232,232,232)",
            "linecolor": "rgb(36,36,36)",
            "showgrid": false,
            "showline": true,
            "ticks": "outside"
           }
          },
          "scene": {
           "xaxis": {
            "backgroundcolor": "white",
            "gridcolor": "rgb(232,232,232)",
            "gridwidth": 2,
            "linecolor": "rgb(36,36,36)",
            "showbackground": true,
            "showgrid": false,
            "showline": true,
            "ticks": "outside",
            "zeroline": false,
            "zerolinecolor": "rgb(36,36,36)"
           },
           "yaxis": {
            "backgroundcolor": "white",
            "gridcolor": "rgb(232,232,232)",
            "gridwidth": 2,
            "linecolor": "rgb(36,36,36)",
            "showbackground": true,
            "showgrid": false,
            "showline": true,
            "ticks": "outside",
            "zeroline": false,
            "zerolinecolor": "rgb(36,36,36)"
           },
           "zaxis": {
            "backgroundcolor": "white",
            "gridcolor": "rgb(232,232,232)",
            "gridwidth": 2,
            "linecolor": "rgb(36,36,36)",
            "showbackground": true,
            "showgrid": false,
            "showline": true,
            "ticks": "outside",
            "zeroline": false,
            "zerolinecolor": "rgb(36,36,36)"
           }
          },
          "shapedefaults": {
           "fillcolor": "black",
           "line": {
            "width": 0
           },
           "opacity": 0.3
          },
          "ternary": {
           "aaxis": {
            "gridcolor": "rgb(232,232,232)",
            "linecolor": "rgb(36,36,36)",
            "showgrid": false,
            "showline": true,
            "ticks": "outside"
           },
           "baxis": {
            "gridcolor": "rgb(232,232,232)",
            "linecolor": "rgb(36,36,36)",
            "showgrid": false,
            "showline": true,
            "ticks": "outside"
           },
           "bgcolor": "white",
           "caxis": {
            "gridcolor": "rgb(232,232,232)",
            "linecolor": "rgb(36,36,36)",
            "showgrid": false,
            "showline": true,
            "ticks": "outside"
           }
          },
          "title": {
           "x": 0.05
          },
          "xaxis": {
           "automargin": true,
           "gridcolor": "rgb(232,232,232)",
           "linecolor": "rgb(36,36,36)",
           "showgrid": false,
           "showline": true,
           "ticks": "outside",
           "title": {
            "standoff": 15
           },
           "zeroline": false,
           "zerolinecolor": "rgb(36,36,36)"
          },
          "yaxis": {
           "automargin": true,
           "gridcolor": "rgb(232,232,232)",
           "linecolor": "rgb(36,36,36)",
           "showgrid": false,
           "showline": true,
           "ticks": "outside",
           "title": {
            "standoff": 15
           },
           "zeroline": false,
           "zerolinecolor": "rgb(36,36,36)"
          }
         }
        },
        "title": {
         "font": {
          "color": "Black",
          "size": 22
         },
         "text": "<b>Topics over Time</b>",
         "x": 0.4,
         "xanchor": "center",
         "y": 0.95,
         "yanchor": "top"
        },
        "width": 1250,
        "xaxis": {
         "showgrid": true
        },
        "yaxis": {
         "showgrid": true,
         "title": {
          "text": "Frequency"
         }
        }
       }
      }
     },
     "metadata": {},
     "output_type": "display_data"
    }
   ],
   "source": [
    "from helper import *\n",
    "from bertopic import BERTopic\n",
    "\n",
    "\n",
    "\n",
    "from bertopic.representation import KeyBERTInspired\n",
    "\n",
    "\n",
    "\n",
    "representation_model = KeyBERTInspired()\n",
    "\n",
    "\n",
    "topic_model = BERTopic(representation_model=representation_model)\n",
    "\n",
    "\n",
    "videoNames = [\"New Quizzes Video\", \"Rearrange Playlist video\"]\n",
    "combinedTranscripts = getcombinedTranscripts()\n",
    "\n",
    "\n",
    "video = videoNames[0]\n",
    "\n",
    "\n",
    "\n",
    "docs = combinedTranscripts[video][\"Combined Lines\"].tolist()\n",
    "\n",
    "\n",
    "timestamps = combinedTranscripts[video][\"Start\"].tolist()\n",
    "\n",
    "\n",
    "\n",
    "topics, probs = topic_model.fit_transform(docs)\n",
    "\n",
    "\n",
    "\n",
    "# hierarchical_topics = topic_model.hierarchical_topics(docs)\n",
    "\n",
    "\n",
    "# topic_model.visualize_hierarchy(hierarchical_topics=hierarchical_topics)\n",
    "\n",
    "\n",
    "\n",
    "topics_over_time = topic_model.topics_over_time(docs, timestamps, nr_bins=20)\n",
    "\n",
    "\n",
    "topic_model.visualize_topics_over_time(topics_over_time)"
   ]
  },
  {
   "cell_type": "markdown",
   "metadata": {},
   "source": [
    "# Potential code to use to allow for custom Topic Mapping. \n",
    "Needs more human observation and corrections.\n",
    "\n",
    "### Skip this cell block for now."
   ]
  },
  {
   "cell_type": "code",
   "execution_count": 37,
   "metadata": {
    "slideshow": {
     "slide_type": "skip"
    }
   },
   "outputs": [
    {
     "name": "stdout",
     "output_type": "stream",
     "text": [
      "Couldn't find program: 'skip'\n"
     ]
    }
   ],
   "source": [
    "%%script skip\n",
    "\n",
    "from transformers import pipeline\n",
    "classifier = pipeline(\"zero-shot-classification\", model=\"facebook/bart-large-mnli\")\n",
    "\n",
    "# Our set of potential topic labels\n",
    "candidateLabels = ['New Features', 'Editing and Customizing Quizzes', 'Student Accomodations']\n",
    "\n",
    "for topicIndex in topic_model.get_topics():\n",
    "    subTopic = \" \".join([word for word, _ in topic_model.get_topic(topicIndex)])\n",
    "    \n",
    "    result = classifier(subTopic, candidateLabels)\n",
    "    print(result)"
   ]
  },
  {
   "cell_type": "markdown",
   "metadata": {},
   "source": [
    "# BERTopic + OpenAI (w/ Tokenizer)\n",
    "Takes a bit of time to run, ~6 minutes or so"
   ]
  },
  {
   "cell_type": "code",
   "execution_count": 52,
   "metadata": {},
   "outputs": [
    {
     "data": {
      "application/vnd.plotly.v1+json": {
       "config": {
        "plotlyServerURL": "https://plot.ly"
       },
       "data": [
        {
         "hoverinfo": "text",
         "hovertext": [
          "<b>Topic 0</b><br>Words: New Quizzes in Canvas - Features, Setup, and Updates",
          "<b>Topic 0</b><br>Words: Transition from Classic to New Quizzes in Instructure",
          "<b>Topic 0</b><br>Words: New Quizzes User Experience and Moderation Features",
          "<b>Topic 0</b><br>Words: Quiz Customization and Categorization",
          "<b>Topic 0</b><br>Words: Enhancements in Quiz Management and Analysis in Canvas",
          "<b>Topic 0</b><br>Words: Online Quiz Tools and Options",
          "<b>Topic 0</b><br>Words: Enhancements in Quiz Features and Rich Content Editor",
          "<b>Topic 0</b><br>Words: Using Canvas Commons for New Quizzes and Templates",
          "<b>Topic 0</b><br>Words: New Quizzes Migration and Templates Usage",
          "<b>Topic 0</b><br>Words: New Quiz Types Demonstration",
          "<b>Topic 0</b><br>Words: Building and Managing Quizzes in Online Courses",
          "<b>Topic 0</b><br>Words: Classic Quizzes vs. New Quizzes Comparison",
          "<b>Topic 0</b><br>Words: Transition from Classic to New Quizzes in Software",
          "<b>Topic 0</b><br>Words: Quiz Design and Categorization",
          "<b>Topic 0</b><br>Words: Categorization of Fruits, Vegetables, and Distractors",
          "<b>Topic 0</b><br>Words: Creating and Managing Quiz Questions",
          "<b>Topic 0</b><br>Words: Quiz Creation and Matching Questions",
          "<b>Topic 0</b><br>Words: Quiz Question Shuffling and Types",
          "<b>Topic 0</b><br>Words: Adjusting Quiz Calculation Settings",
          "<b>Topic 0</b><br>Words: Customizing Quiz Settings",
          "<b>Topic 0</b><br>Words: Student Quiz Results Analysis",
          "<b>Topic 0</b><br>Words: Quiz Item Analysis and Reports",
          "<b>Topic 0</b><br>Words: New Quizzes Model in Canvas for Faculty",
          "<b>Topic 0</b><br>Words: New Quizzes and Updates in LMS",
          "<b>Topic 0</b><br>Words: Instructor Resource Updates and Support"
         ],
         "marker": {
          "color": "#E69F00"
         },
         "mode": "lines",
         "name": "0_New Quizzes Features and User Experien...",
         "type": "scatter",
         "x": [
          "1899-12-31T23:59:58.134021",
          "1900-01-01T00:02:05.237048",
          "1900-01-01T00:04:07.334097",
          "1900-01-01T00:06:09.431146",
          "1900-01-01T00:08:11.528195",
          "1900-01-01T00:10:13.625243",
          "1900-01-01T00:12:15.722292",
          "1900-01-01T00:14:17.819341",
          "1900-01-01T00:16:19.916390",
          "1900-01-01T00:18:22.013439",
          "1900-01-01T00:20:24.110487",
          "1900-01-01T00:22:26.207536",
          "1900-01-01T00:26:30.401634",
          "1900-01-01T00:28:32.498682",
          "1900-01-01T00:30:34.595731",
          "1900-01-01T00:34:38.789829",
          "1900-01-01T00:36:40.886878",
          "1900-01-01T00:38:42.983926",
          "1900-01-01T00:40:45.080975",
          "1900-01-01T00:42:47.178024",
          "1900-01-01T01:09:14.439658",
          "1900-01-01T01:11:16.536707",
          "1900-01-01T01:17:22.827853",
          "1900-01-01T01:19:24.924902",
          "1900-01-01T01:21:27.021951"
         ],
         "y": [
          4,
          3,
          1,
          4,
          3,
          1,
          3,
          3,
          3,
          1,
          2,
          2,
          1,
          3,
          3,
          2,
          2,
          1,
          1,
          1,
          1,
          2,
          1,
          3,
          3
         ]
        },
        {
         "hoverinfo": "text",
         "hovertext": [
          "<b>Topic 1</b><br>Words: Creating Questions from Reading Passages",
          "<b>Topic 1</b><br>Words: Understanding Publication Status Indicators",
          "<b>Topic 1</b><br>Words: Building and Using Hotspots in Quizzes",
          "<b>Topic 1</b><br>Words: Quiz Instructions and Question Formatting",
          "<b>Topic 1</b><br>Words: Quiz Question Development and Preview",
          "<b>Topic 1</b><br>Words: Editing and Managing Questions in Preview Mode",
          "<b>Topic 1</b><br>Words: Grading and Feedback for Student Assessments",
          "<b>Topic 1</b><br>Words: Resolving Faculty Point Allocation Issue in Technical Support",
          "<b>Topic 1</b><br>Words: Editing and Layout Differences",
          "<b>Topic 1</b><br>Words: Document Editing and Previewing Techniques",
          "<b>Topic 1</b><br>Words: Attaching Questions to Passages in a Reading Activity",
          "<b>Topic 1</b><br>Words: Adjusting Points and Settings in Assessment Tools",
          "<b>Topic 1</b><br>Words: Troubleshooting a Form Issue",
          "<b>Topic 1</b><br>Words: Accessibility and Question Types Management",
          "<b>Topic 1</b><br>Words: Creating and Previewing Hotspots in Image Selection Tasks",
          "<b>Topic 1</b><br>Words: Quiz Creation and Review Process",
          "<b>Topic 1</b><br>Words: Quiz Feedback Customization",
          "<b>Topic 1</b><br>Words: Online Educational Platform Navigation and Feedback"
         ],
         "marker": {
          "color": "#56B4E9"
         },
         "mode": "lines",
         "name": "1_Question Types and Interface Customiza...",
         "type": "scatter",
         "x": [
          "1900-01-01T00:04:07.334097",
          "1900-01-01T00:18:22.013439",
          "1900-01-01T00:20:24.110487",
          "1900-01-01T00:28:32.498682",
          "1900-01-01T00:32:36.692780",
          "1900-01-01T00:34:38.789829",
          "1900-01-01T00:38:42.983926",
          "1900-01-01T00:40:45.080975",
          "1900-01-01T00:44:49.275073",
          "1900-01-01T00:46:51.372121",
          "1900-01-01T00:50:55.566219",
          "1900-01-01T00:52:57.663268",
          "1900-01-01T00:54:59.760317",
          "1900-01-01T00:57:01.857365",
          "1900-01-01T00:59:03.954414",
          "1900-01-01T01:01:06.051463",
          "1900-01-01T01:07:12.342609",
          "1900-01-01T01:09:14.439658"
         ],
         "y": [
          2,
          1,
          1,
          1,
          1,
          1,
          1,
          1,
          1,
          2,
          1,
          1,
          1,
          2,
          3,
          2,
          1,
          2
         ]
        },
        {
         "hoverinfo": "text",
         "hovertext": [
          "<b>Topic 2</b><br>Words: Student Accommodations in Moderation Features",
          "<b>Topic 2</b><br>Words: Managing Assignment Submission and Availability Dates",
          "<b>Topic 2</b><br>Words: Online Academic Integrity and Access Control",
          "<b>Topic 2</b><br>Words: Online Quiz Access and Security Settings",
          "<b>Topic 2</b><br>Words: Quiz Attempt Limitations and Waiting Periods",
          "<b>Topic 2</b><br>Words: Student Accommodations and Quiz Time Extensions",
          "<b>Topic 2</b><br>Words: Accommodations and Time Adjustments for Students in Testing",
          "<b>Topic 2</b><br>Words: Accommodations for Additional Student Exam Time"
         ],
         "marker": {
          "color": "#009E73"
         },
         "mode": "lines",
         "name": "2_Setting Student Accommodations and Add...",
         "type": "scatter",
         "x": [
          "1900-01-01T00:12:15.722292",
          "1900-01-01T00:24:28.304585",
          "1900-01-01T01:03:08.148512",
          "1900-01-01T01:05:10.245560",
          "1900-01-01T01:07:12.342609",
          "1900-01-01T01:13:18.633756",
          "1900-01-01T01:15:20.730804",
          "1900-01-01T01:17:22.827853"
         ],
         "y": [
          1,
          1,
          2,
          2,
          1,
          4,
          4,
          1
         ]
        }
       ],
       "layout": {
        "height": 450,
        "hoverlabel": {
         "bgcolor": "white",
         "font": {
          "family": "Rockwell",
          "size": 16
         }
        },
        "legend": {
         "title": {
          "text": "<b>Global Topic Representation"
         }
        },
        "template": {
         "data": {
          "bar": [
           {
            "error_x": {
             "color": "rgb(36,36,36)"
            },
            "error_y": {
             "color": "rgb(36,36,36)"
            },
            "marker": {
             "line": {
              "color": "white",
              "width": 0.5
             },
             "pattern": {
              "fillmode": "overlay",
              "size": 10,
              "solidity": 0.2
             }
            },
            "type": "bar"
           }
          ],
          "barpolar": [
           {
            "marker": {
             "line": {
              "color": "white",
              "width": 0.5
             },
             "pattern": {
              "fillmode": "overlay",
              "size": 10,
              "solidity": 0.2
             }
            },
            "type": "barpolar"
           }
          ],
          "carpet": [
           {
            "aaxis": {
             "endlinecolor": "rgb(36,36,36)",
             "gridcolor": "white",
             "linecolor": "white",
             "minorgridcolor": "white",
             "startlinecolor": "rgb(36,36,36)"
            },
            "baxis": {
             "endlinecolor": "rgb(36,36,36)",
             "gridcolor": "white",
             "linecolor": "white",
             "minorgridcolor": "white",
             "startlinecolor": "rgb(36,36,36)"
            },
            "type": "carpet"
           }
          ],
          "choropleth": [
           {
            "colorbar": {
             "outlinewidth": 1,
             "tickcolor": "rgb(36,36,36)",
             "ticks": "outside"
            },
            "type": "choropleth"
           }
          ],
          "contour": [
           {
            "colorbar": {
             "outlinewidth": 1,
             "tickcolor": "rgb(36,36,36)",
             "ticks": "outside"
            },
            "colorscale": [
             [
              0,
              "#440154"
             ],
             [
              0.1111111111111111,
              "#482878"
             ],
             [
              0.2222222222222222,
              "#3e4989"
             ],
             [
              0.3333333333333333,
              "#31688e"
             ],
             [
              0.4444444444444444,
              "#26828e"
             ],
             [
              0.5555555555555556,
              "#1f9e89"
             ],
             [
              0.6666666666666666,
              "#35b779"
             ],
             [
              0.7777777777777778,
              "#6ece58"
             ],
             [
              0.8888888888888888,
              "#b5de2b"
             ],
             [
              1,
              "#fde725"
             ]
            ],
            "type": "contour"
           }
          ],
          "contourcarpet": [
           {
            "colorbar": {
             "outlinewidth": 1,
             "tickcolor": "rgb(36,36,36)",
             "ticks": "outside"
            },
            "type": "contourcarpet"
           }
          ],
          "heatmap": [
           {
            "colorbar": {
             "outlinewidth": 1,
             "tickcolor": "rgb(36,36,36)",
             "ticks": "outside"
            },
            "colorscale": [
             [
              0,
              "#440154"
             ],
             [
              0.1111111111111111,
              "#482878"
             ],
             [
              0.2222222222222222,
              "#3e4989"
             ],
             [
              0.3333333333333333,
              "#31688e"
             ],
             [
              0.4444444444444444,
              "#26828e"
             ],
             [
              0.5555555555555556,
              "#1f9e89"
             ],
             [
              0.6666666666666666,
              "#35b779"
             ],
             [
              0.7777777777777778,
              "#6ece58"
             ],
             [
              0.8888888888888888,
              "#b5de2b"
             ],
             [
              1,
              "#fde725"
             ]
            ],
            "type": "heatmap"
           }
          ],
          "heatmapgl": [
           {
            "colorbar": {
             "outlinewidth": 1,
             "tickcolor": "rgb(36,36,36)",
             "ticks": "outside"
            },
            "colorscale": [
             [
              0,
              "#440154"
             ],
             [
              0.1111111111111111,
              "#482878"
             ],
             [
              0.2222222222222222,
              "#3e4989"
             ],
             [
              0.3333333333333333,
              "#31688e"
             ],
             [
              0.4444444444444444,
              "#26828e"
             ],
             [
              0.5555555555555556,
              "#1f9e89"
             ],
             [
              0.6666666666666666,
              "#35b779"
             ],
             [
              0.7777777777777778,
              "#6ece58"
             ],
             [
              0.8888888888888888,
              "#b5de2b"
             ],
             [
              1,
              "#fde725"
             ]
            ],
            "type": "heatmapgl"
           }
          ],
          "histogram": [
           {
            "marker": {
             "line": {
              "color": "white",
              "width": 0.6
             }
            },
            "type": "histogram"
           }
          ],
          "histogram2d": [
           {
            "colorbar": {
             "outlinewidth": 1,
             "tickcolor": "rgb(36,36,36)",
             "ticks": "outside"
            },
            "colorscale": [
             [
              0,
              "#440154"
             ],
             [
              0.1111111111111111,
              "#482878"
             ],
             [
              0.2222222222222222,
              "#3e4989"
             ],
             [
              0.3333333333333333,
              "#31688e"
             ],
             [
              0.4444444444444444,
              "#26828e"
             ],
             [
              0.5555555555555556,
              "#1f9e89"
             ],
             [
              0.6666666666666666,
              "#35b779"
             ],
             [
              0.7777777777777778,
              "#6ece58"
             ],
             [
              0.8888888888888888,
              "#b5de2b"
             ],
             [
              1,
              "#fde725"
             ]
            ],
            "type": "histogram2d"
           }
          ],
          "histogram2dcontour": [
           {
            "colorbar": {
             "outlinewidth": 1,
             "tickcolor": "rgb(36,36,36)",
             "ticks": "outside"
            },
            "colorscale": [
             [
              0,
              "#440154"
             ],
             [
              0.1111111111111111,
              "#482878"
             ],
             [
              0.2222222222222222,
              "#3e4989"
             ],
             [
              0.3333333333333333,
              "#31688e"
             ],
             [
              0.4444444444444444,
              "#26828e"
             ],
             [
              0.5555555555555556,
              "#1f9e89"
             ],
             [
              0.6666666666666666,
              "#35b779"
             ],
             [
              0.7777777777777778,
              "#6ece58"
             ],
             [
              0.8888888888888888,
              "#b5de2b"
             ],
             [
              1,
              "#fde725"
             ]
            ],
            "type": "histogram2dcontour"
           }
          ],
          "mesh3d": [
           {
            "colorbar": {
             "outlinewidth": 1,
             "tickcolor": "rgb(36,36,36)",
             "ticks": "outside"
            },
            "type": "mesh3d"
           }
          ],
          "parcoords": [
           {
            "line": {
             "colorbar": {
              "outlinewidth": 1,
              "tickcolor": "rgb(36,36,36)",
              "ticks": "outside"
             }
            },
            "type": "parcoords"
           }
          ],
          "pie": [
           {
            "automargin": true,
            "type": "pie"
           }
          ],
          "scatter": [
           {
            "fillpattern": {
             "fillmode": "overlay",
             "size": 10,
             "solidity": 0.2
            },
            "type": "scatter"
           }
          ],
          "scatter3d": [
           {
            "line": {
             "colorbar": {
              "outlinewidth": 1,
              "tickcolor": "rgb(36,36,36)",
              "ticks": "outside"
             }
            },
            "marker": {
             "colorbar": {
              "outlinewidth": 1,
              "tickcolor": "rgb(36,36,36)",
              "ticks": "outside"
             }
            },
            "type": "scatter3d"
           }
          ],
          "scattercarpet": [
           {
            "marker": {
             "colorbar": {
              "outlinewidth": 1,
              "tickcolor": "rgb(36,36,36)",
              "ticks": "outside"
             }
            },
            "type": "scattercarpet"
           }
          ],
          "scattergeo": [
           {
            "marker": {
             "colorbar": {
              "outlinewidth": 1,
              "tickcolor": "rgb(36,36,36)",
              "ticks": "outside"
             }
            },
            "type": "scattergeo"
           }
          ],
          "scattergl": [
           {
            "marker": {
             "colorbar": {
              "outlinewidth": 1,
              "tickcolor": "rgb(36,36,36)",
              "ticks": "outside"
             }
            },
            "type": "scattergl"
           }
          ],
          "scattermapbox": [
           {
            "marker": {
             "colorbar": {
              "outlinewidth": 1,
              "tickcolor": "rgb(36,36,36)",
              "ticks": "outside"
             }
            },
            "type": "scattermapbox"
           }
          ],
          "scatterpolar": [
           {
            "marker": {
             "colorbar": {
              "outlinewidth": 1,
              "tickcolor": "rgb(36,36,36)",
              "ticks": "outside"
             }
            },
            "type": "scatterpolar"
           }
          ],
          "scatterpolargl": [
           {
            "marker": {
             "colorbar": {
              "outlinewidth": 1,
              "tickcolor": "rgb(36,36,36)",
              "ticks": "outside"
             }
            },
            "type": "scatterpolargl"
           }
          ],
          "scatterternary": [
           {
            "marker": {
             "colorbar": {
              "outlinewidth": 1,
              "tickcolor": "rgb(36,36,36)",
              "ticks": "outside"
             }
            },
            "type": "scatterternary"
           }
          ],
          "surface": [
           {
            "colorbar": {
             "outlinewidth": 1,
             "tickcolor": "rgb(36,36,36)",
             "ticks": "outside"
            },
            "colorscale": [
             [
              0,
              "#440154"
             ],
             [
              0.1111111111111111,
              "#482878"
             ],
             [
              0.2222222222222222,
              "#3e4989"
             ],
             [
              0.3333333333333333,
              "#31688e"
             ],
             [
              0.4444444444444444,
              "#26828e"
             ],
             [
              0.5555555555555556,
              "#1f9e89"
             ],
             [
              0.6666666666666666,
              "#35b779"
             ],
             [
              0.7777777777777778,
              "#6ece58"
             ],
             [
              0.8888888888888888,
              "#b5de2b"
             ],
             [
              1,
              "#fde725"
             ]
            ],
            "type": "surface"
           }
          ],
          "table": [
           {
            "cells": {
             "fill": {
              "color": "rgb(237,237,237)"
             },
             "line": {
              "color": "white"
             }
            },
            "header": {
             "fill": {
              "color": "rgb(217,217,217)"
             },
             "line": {
              "color": "white"
             }
            },
            "type": "table"
           }
          ]
         },
         "layout": {
          "annotationdefaults": {
           "arrowhead": 0,
           "arrowwidth": 1
          },
          "autotypenumbers": "strict",
          "coloraxis": {
           "colorbar": {
            "outlinewidth": 1,
            "tickcolor": "rgb(36,36,36)",
            "ticks": "outside"
           }
          },
          "colorscale": {
           "diverging": [
            [
             0,
             "rgb(103,0,31)"
            ],
            [
             0.1,
             "rgb(178,24,43)"
            ],
            [
             0.2,
             "rgb(214,96,77)"
            ],
            [
             0.3,
             "rgb(244,165,130)"
            ],
            [
             0.4,
             "rgb(253,219,199)"
            ],
            [
             0.5,
             "rgb(247,247,247)"
            ],
            [
             0.6,
             "rgb(209,229,240)"
            ],
            [
             0.7,
             "rgb(146,197,222)"
            ],
            [
             0.8,
             "rgb(67,147,195)"
            ],
            [
             0.9,
             "rgb(33,102,172)"
            ],
            [
             1,
             "rgb(5,48,97)"
            ]
           ],
           "sequential": [
            [
             0,
             "#440154"
            ],
            [
             0.1111111111111111,
             "#482878"
            ],
            [
             0.2222222222222222,
             "#3e4989"
            ],
            [
             0.3333333333333333,
             "#31688e"
            ],
            [
             0.4444444444444444,
             "#26828e"
            ],
            [
             0.5555555555555556,
             "#1f9e89"
            ],
            [
             0.6666666666666666,
             "#35b779"
            ],
            [
             0.7777777777777778,
             "#6ece58"
            ],
            [
             0.8888888888888888,
             "#b5de2b"
            ],
            [
             1,
             "#fde725"
            ]
           ],
           "sequentialminus": [
            [
             0,
             "#440154"
            ],
            [
             0.1111111111111111,
             "#482878"
            ],
            [
             0.2222222222222222,
             "#3e4989"
            ],
            [
             0.3333333333333333,
             "#31688e"
            ],
            [
             0.4444444444444444,
             "#26828e"
            ],
            [
             0.5555555555555556,
             "#1f9e89"
            ],
            [
             0.6666666666666666,
             "#35b779"
            ],
            [
             0.7777777777777778,
             "#6ece58"
            ],
            [
             0.8888888888888888,
             "#b5de2b"
            ],
            [
             1,
             "#fde725"
            ]
           ]
          },
          "colorway": [
           "#1F77B4",
           "#FF7F0E",
           "#2CA02C",
           "#D62728",
           "#9467BD",
           "#8C564B",
           "#E377C2",
           "#7F7F7F",
           "#BCBD22",
           "#17BECF"
          ],
          "font": {
           "color": "rgb(36,36,36)"
          },
          "geo": {
           "bgcolor": "white",
           "lakecolor": "white",
           "landcolor": "white",
           "showlakes": true,
           "showland": true,
           "subunitcolor": "white"
          },
          "hoverlabel": {
           "align": "left"
          },
          "hovermode": "closest",
          "mapbox": {
           "style": "light"
          },
          "paper_bgcolor": "white",
          "plot_bgcolor": "white",
          "polar": {
           "angularaxis": {
            "gridcolor": "rgb(232,232,232)",
            "linecolor": "rgb(36,36,36)",
            "showgrid": false,
            "showline": true,
            "ticks": "outside"
           },
           "bgcolor": "white",
           "radialaxis": {
            "gridcolor": "rgb(232,232,232)",
            "linecolor": "rgb(36,36,36)",
            "showgrid": false,
            "showline": true,
            "ticks": "outside"
           }
          },
          "scene": {
           "xaxis": {
            "backgroundcolor": "white",
            "gridcolor": "rgb(232,232,232)",
            "gridwidth": 2,
            "linecolor": "rgb(36,36,36)",
            "showbackground": true,
            "showgrid": false,
            "showline": true,
            "ticks": "outside",
            "zeroline": false,
            "zerolinecolor": "rgb(36,36,36)"
           },
           "yaxis": {
            "backgroundcolor": "white",
            "gridcolor": "rgb(232,232,232)",
            "gridwidth": 2,
            "linecolor": "rgb(36,36,36)",
            "showbackground": true,
            "showgrid": false,
            "showline": true,
            "ticks": "outside",
            "zeroline": false,
            "zerolinecolor": "rgb(36,36,36)"
           },
           "zaxis": {
            "backgroundcolor": "white",
            "gridcolor": "rgb(232,232,232)",
            "gridwidth": 2,
            "linecolor": "rgb(36,36,36)",
            "showbackground": true,
            "showgrid": false,
            "showline": true,
            "ticks": "outside",
            "zeroline": false,
            "zerolinecolor": "rgb(36,36,36)"
           }
          },
          "shapedefaults": {
           "fillcolor": "black",
           "line": {
            "width": 0
           },
           "opacity": 0.3
          },
          "ternary": {
           "aaxis": {
            "gridcolor": "rgb(232,232,232)",
            "linecolor": "rgb(36,36,36)",
            "showgrid": false,
            "showline": true,
            "ticks": "outside"
           },
           "baxis": {
            "gridcolor": "rgb(232,232,232)",
            "linecolor": "rgb(36,36,36)",
            "showgrid": false,
            "showline": true,
            "ticks": "outside"
           },
           "bgcolor": "white",
           "caxis": {
            "gridcolor": "rgb(232,232,232)",
            "linecolor": "rgb(36,36,36)",
            "showgrid": false,
            "showline": true,
            "ticks": "outside"
           }
          },
          "title": {
           "x": 0.05
          },
          "xaxis": {
           "automargin": true,
           "gridcolor": "rgb(232,232,232)",
           "linecolor": "rgb(36,36,36)",
           "showgrid": false,
           "showline": true,
           "ticks": "outside",
           "title": {
            "standoff": 15
           },
           "zeroline": false,
           "zerolinecolor": "rgb(36,36,36)"
          },
          "yaxis": {
           "automargin": true,
           "gridcolor": "rgb(232,232,232)",
           "linecolor": "rgb(36,36,36)",
           "showgrid": false,
           "showline": true,
           "ticks": "outside",
           "title": {
            "standoff": 15
           },
           "zeroline": false,
           "zerolinecolor": "rgb(36,36,36)"
          }
         }
        },
        "title": {
         "font": {
          "color": "Black",
          "size": 22
         },
         "text": "<b>Topics over Time</b>",
         "x": 0.4,
         "xanchor": "center",
         "y": 0.95,
         "yanchor": "top"
        },
        "width": 1250,
        "xaxis": {
         "showgrid": true
        },
        "yaxis": {
         "showgrid": true,
         "title": {
          "text": "Frequency"
         }
        }
       }
      }
     },
     "metadata": {},
     "output_type": "display_data"
    }
   ],
   "source": [
    "from helper import *\n",
    "from bertopic import BERTopic\n",
    "\n",
    "from bertopic.representation import OpenAI\n",
    "import tiktoken\n",
    "\n",
    "\n",
    "config = Config()\n",
    "config.setFromEnv()\n",
    "\n",
    "OpenAIChatBot = OpenAIBot(config)\n",
    "tokenizer = tiktoken.encoding_for_model(OpenAIChatBot.model)\n",
    "representation_model = OpenAI(\n",
    "    OpenAIChatBot.client,\n",
    "    model=OpenAIChatBot.model,\n",
    "    delay_in_seconds=2,\n",
    "    chat=True,\n",
    "    nr_docs=8,\n",
    "    doc_length=None,\n",
    "    tokenizer=tokenizer,\n",
    ")\n",
    "topic_model = BERTopic(representation_model=representation_model)\n",
    "\n",
    "videoNames = [\"New Quizzes Video\", \"Rearrange Playlist video\"]\n",
    "combinedTranscripts = getcombinedTranscripts()\n",
    "video = videoNames[0]\n",
    "\n",
    "docs = combinedTranscripts[video][\"Combined Lines\"].tolist()\n",
    "timestamps = combinedTranscripts[video][\"Start\"].tolist()\n",
    "\n",
    "topics, probs = topic_model.fit_transform(docs)\n",
    "\n",
    "# hierarchical_topics = topic_model.hierarchical_topics(docs)\n",
    "# topic_model.visualize_hierarchy(hierarchical_topics=hierarchical_topics)\n",
    "\n",
    "binCount = getBinCount(combinedTranscripts[video], windowSize=120)\n",
    "\n",
    "topics_over_time = topic_model.topics_over_time(docs, timestamps, nr_bins=binCount)\n",
    "topic_model.visualize_topics_over_time(topics_over_time)"
   ]
  },
  {
   "cell_type": "markdown",
   "metadata": {},
   "source": [
    "# BERTopic + LangChain\n",
    "Takes a bit of time to run, ~3 minutes or so"
   ]
  },
  {
   "cell_type": "code",
   "execution_count": 1,
   "metadata": {},
   "outputs": [
    {
     "data": {
      "application/vnd.plotly.v1+json": {
       "config": {
        "plotlyServerURL": "https://plot.ly"
       },
       "data": [
        {
         "hoverinfo": "text",
         "hovertext": [
          "<b>Topic 0</b><br>Words: Canvas New Quizzes Training, , , , ",
          "<b>Topic 0</b><br>Words: Educational Quiz Platform Update, , , , ",
          "<b>Topic 0</b><br>Words: Educational Platform Features Demonstration, , , , ",
          "<b>Topic 0</b><br>Words: Online Quiz Customization Options, , , , ",
          "<b>Topic 0</b><br>Words: Educational Assessment Tools, , , , ",
          "<b>Topic 0</b><br>Words: Canvas LMS Updates, , , , ",
          "<b>Topic 0</b><br>Words: Canvas Commons Templates, , , , ",
          "<b>Topic 0</b><br>Words: Educational Quiz Templates, , , , ",
          "<b>Topic 0</b><br>Words: Educational Quiz Integration, , , , ",
          "<b>Topic 0</b><br>Words: Online Quiz Creation Tutorial, , , , ",
          "<b>Topic 0</b><br>Words: Quiz Creation Guide, , , , ",
          "<b>Topic 0</b><br>Words: Educational Quiz Platforms Update, , , , ",
          "<b>Topic 0</b><br>Words: Quiz Creation Tutorial, , , , ",
          "<b>Topic 0</b><br>Words: Educational Assessment Design, , , , ",
          "<b>Topic 0</b><br>Words: Educational Quiz Creation Tips, , , , ",
          "<b>Topic 0</b><br>Words: Online Quiz Creation Instructions, , , , ",
          "<b>Topic 0</b><br>Words: Quiz Customization Options, , , , ",
          "<b>Topic 0</b><br>Words: Quiz Configuration Guidance, , , , ",
          "<b>Topic 0</b><br>Words: Educational Assessment Customization, , , , ",
          "<b>Topic 0</b><br>Words: Quiz Template Collection, , , , ",
          "<b>Topic 0</b><br>Words: Educational Technology Update, , , , ",
          "<b>Topic 0</b><br>Words: LMS Updates and Training Resources, , , , ",
          "<b>Topic 0</b><br>Words: Instructor Resources and Support, , , , "
         ],
         "marker": {
          "color": "#E69F00"
         },
         "mode": "lines",
         "name": "0_Canvas New Quizzes Tutorial___",
         "type": "scatter",
         "x": [
          "1899-12-31T23:59:58.134021",
          "1900-01-01T00:02:05.237048",
          "1900-01-01T00:04:07.334097",
          "1900-01-01T00:06:09.431146",
          "1900-01-01T00:08:11.528195",
          "1900-01-01T00:12:15.722292",
          "1900-01-01T00:14:17.819341",
          "1900-01-01T00:16:19.916390",
          "1900-01-01T00:18:22.013439",
          "1900-01-01T00:20:24.110487",
          "1900-01-01T00:22:26.207536",
          "1900-01-01T00:26:30.401634",
          "1900-01-01T00:28:32.498682",
          "1900-01-01T00:30:34.595731",
          "1900-01-01T00:34:38.789829",
          "1900-01-01T00:36:40.886878",
          "1900-01-01T00:38:42.983926",
          "1900-01-01T00:40:45.080975",
          "1900-01-01T00:42:47.178024",
          "1900-01-01T00:48:53.469170",
          "1900-01-01T01:17:22.827853",
          "1900-01-01T01:19:24.924902",
          "1900-01-01T01:21:27.021951"
         ],
         "y": [
          4,
          4,
          1,
          2,
          2,
          2,
          3,
          2,
          2,
          2,
          3,
          3,
          1,
          2,
          1,
          2,
          1,
          1,
          1,
          1,
          1,
          3,
          2
         ]
        },
        {
         "hoverinfo": "text",
         "hovertext": [
          "<b>Topic 1</b><br>Words: Moderation Features and Student Accommodations, , , , ",
          "<b>Topic 1</b><br>Words: Assignment Submission Guidelines, , , , ",
          "<b>Topic 1</b><br>Words: Online Exam Settings, , , , ",
          "<b>Topic 1</b><br>Words: Online Quiz Settings Guidance, , , , ",
          "<b>Topic 1</b><br>Words: Quiz Attempt Regulations, , , , ",
          "<b>Topic 1</b><br>Words: Quiz Accommodations Management, , , , ",
          "<b>Topic 1</b><br>Words: Accommodations for Online Assessments, , , , ",
          "<b>Topic 1</b><br>Words: Accommodations for Student Assessments, , , , "
         ],
         "marker": {
          "color": "#56B4E9"
         },
         "mode": "lines",
         "name": "1_Educational Accommodations Management_...",
         "type": "scatter",
         "x": [
          "1900-01-01T00:12:15.722292",
          "1900-01-01T00:24:28.304585",
          "1900-01-01T01:03:08.148512",
          "1900-01-01T01:05:10.245560",
          "1900-01-01T01:07:12.342609",
          "1900-01-01T01:13:18.633756",
          "1900-01-01T01:15:20.730804",
          "1900-01-01T01:17:22.827853"
         ],
         "y": [
          1,
          1,
          2,
          2,
          1,
          4,
          4,
          1
         ]
        },
        {
         "hoverinfo": "text",
         "hovertext": [
          "<b>Topic 2</b><br>Words: Educational Assessment Tools, , , , ",
          "<b>Topic 2</b><br>Words: Document Publication Status, , , , ",
          "<b>Topic 2</b><br>Words: Hotspot Quiz Creation Tutorial, , , , ",
          "<b>Topic 2</b><br>Words: Document Layout Options, , , , ",
          "<b>Topic 2</b><br>Words: Interactive Document Editing, , , , ",
          "<b>Topic 2</b><br>Words: Instructional Design Guidance, , , , ",
          "<b>Topic 2</b><br>Words: Accessibility in Question Design, , , , ",
          "<b>Topic 2</b><br>Words: Hotspot Question Instructions, , , , ",
          "<b>Topic 2</b><br>Words: Educational Assessment Design, , , , "
         ],
         "marker": {
          "color": "#009E73"
         },
         "mode": "lines",
         "name": "2_Educational Assessment Tools___",
         "type": "scatter",
         "x": [
          "1900-01-01T00:04:07.334097",
          "1900-01-01T00:18:22.013439",
          "1900-01-01T00:20:24.110487",
          "1900-01-01T00:44:49.275073",
          "1900-01-01T00:46:51.372121",
          "1900-01-01T00:50:55.566219",
          "1900-01-01T00:57:01.857365",
          "1900-01-01T00:59:03.954414",
          "1900-01-01T01:01:06.051463"
         ],
         "y": [
          2,
          1,
          1,
          1,
          2,
          1,
          1,
          1,
          1
         ]
        }
       ],
       "layout": {
        "height": 450,
        "hoverlabel": {
         "bgcolor": "white",
         "font": {
          "family": "Rockwell",
          "size": 16
         }
        },
        "legend": {
         "title": {
          "text": "<b>Global Topic Representation"
         }
        },
        "template": {
         "data": {
          "bar": [
           {
            "error_x": {
             "color": "rgb(36,36,36)"
            },
            "error_y": {
             "color": "rgb(36,36,36)"
            },
            "marker": {
             "line": {
              "color": "white",
              "width": 0.5
             },
             "pattern": {
              "fillmode": "overlay",
              "size": 10,
              "solidity": 0.2
             }
            },
            "type": "bar"
           }
          ],
          "barpolar": [
           {
            "marker": {
             "line": {
              "color": "white",
              "width": 0.5
             },
             "pattern": {
              "fillmode": "overlay",
              "size": 10,
              "solidity": 0.2
             }
            },
            "type": "barpolar"
           }
          ],
          "carpet": [
           {
            "aaxis": {
             "endlinecolor": "rgb(36,36,36)",
             "gridcolor": "white",
             "linecolor": "white",
             "minorgridcolor": "white",
             "startlinecolor": "rgb(36,36,36)"
            },
            "baxis": {
             "endlinecolor": "rgb(36,36,36)",
             "gridcolor": "white",
             "linecolor": "white",
             "minorgridcolor": "white",
             "startlinecolor": "rgb(36,36,36)"
            },
            "type": "carpet"
           }
          ],
          "choropleth": [
           {
            "colorbar": {
             "outlinewidth": 1,
             "tickcolor": "rgb(36,36,36)",
             "ticks": "outside"
            },
            "type": "choropleth"
           }
          ],
          "contour": [
           {
            "colorbar": {
             "outlinewidth": 1,
             "tickcolor": "rgb(36,36,36)",
             "ticks": "outside"
            },
            "colorscale": [
             [
              0,
              "#440154"
             ],
             [
              0.1111111111111111,
              "#482878"
             ],
             [
              0.2222222222222222,
              "#3e4989"
             ],
             [
              0.3333333333333333,
              "#31688e"
             ],
             [
              0.4444444444444444,
              "#26828e"
             ],
             [
              0.5555555555555556,
              "#1f9e89"
             ],
             [
              0.6666666666666666,
              "#35b779"
             ],
             [
              0.7777777777777778,
              "#6ece58"
             ],
             [
              0.8888888888888888,
              "#b5de2b"
             ],
             [
              1,
              "#fde725"
             ]
            ],
            "type": "contour"
           }
          ],
          "contourcarpet": [
           {
            "colorbar": {
             "outlinewidth": 1,
             "tickcolor": "rgb(36,36,36)",
             "ticks": "outside"
            },
            "type": "contourcarpet"
           }
          ],
          "heatmap": [
           {
            "colorbar": {
             "outlinewidth": 1,
             "tickcolor": "rgb(36,36,36)",
             "ticks": "outside"
            },
            "colorscale": [
             [
              0,
              "#440154"
             ],
             [
              0.1111111111111111,
              "#482878"
             ],
             [
              0.2222222222222222,
              "#3e4989"
             ],
             [
              0.3333333333333333,
              "#31688e"
             ],
             [
              0.4444444444444444,
              "#26828e"
             ],
             [
              0.5555555555555556,
              "#1f9e89"
             ],
             [
              0.6666666666666666,
              "#35b779"
             ],
             [
              0.7777777777777778,
              "#6ece58"
             ],
             [
              0.8888888888888888,
              "#b5de2b"
             ],
             [
              1,
              "#fde725"
             ]
            ],
            "type": "heatmap"
           }
          ],
          "heatmapgl": [
           {
            "colorbar": {
             "outlinewidth": 1,
             "tickcolor": "rgb(36,36,36)",
             "ticks": "outside"
            },
            "colorscale": [
             [
              0,
              "#440154"
             ],
             [
              0.1111111111111111,
              "#482878"
             ],
             [
              0.2222222222222222,
              "#3e4989"
             ],
             [
              0.3333333333333333,
              "#31688e"
             ],
             [
              0.4444444444444444,
              "#26828e"
             ],
             [
              0.5555555555555556,
              "#1f9e89"
             ],
             [
              0.6666666666666666,
              "#35b779"
             ],
             [
              0.7777777777777778,
              "#6ece58"
             ],
             [
              0.8888888888888888,
              "#b5de2b"
             ],
             [
              1,
              "#fde725"
             ]
            ],
            "type": "heatmapgl"
           }
          ],
          "histogram": [
           {
            "marker": {
             "line": {
              "color": "white",
              "width": 0.6
             }
            },
            "type": "histogram"
           }
          ],
          "histogram2d": [
           {
            "colorbar": {
             "outlinewidth": 1,
             "tickcolor": "rgb(36,36,36)",
             "ticks": "outside"
            },
            "colorscale": [
             [
              0,
              "#440154"
             ],
             [
              0.1111111111111111,
              "#482878"
             ],
             [
              0.2222222222222222,
              "#3e4989"
             ],
             [
              0.3333333333333333,
              "#31688e"
             ],
             [
              0.4444444444444444,
              "#26828e"
             ],
             [
              0.5555555555555556,
              "#1f9e89"
             ],
             [
              0.6666666666666666,
              "#35b779"
             ],
             [
              0.7777777777777778,
              "#6ece58"
             ],
             [
              0.8888888888888888,
              "#b5de2b"
             ],
             [
              1,
              "#fde725"
             ]
            ],
            "type": "histogram2d"
           }
          ],
          "histogram2dcontour": [
           {
            "colorbar": {
             "outlinewidth": 1,
             "tickcolor": "rgb(36,36,36)",
             "ticks": "outside"
            },
            "colorscale": [
             [
              0,
              "#440154"
             ],
             [
              0.1111111111111111,
              "#482878"
             ],
             [
              0.2222222222222222,
              "#3e4989"
             ],
             [
              0.3333333333333333,
              "#31688e"
             ],
             [
              0.4444444444444444,
              "#26828e"
             ],
             [
              0.5555555555555556,
              "#1f9e89"
             ],
             [
              0.6666666666666666,
              "#35b779"
             ],
             [
              0.7777777777777778,
              "#6ece58"
             ],
             [
              0.8888888888888888,
              "#b5de2b"
             ],
             [
              1,
              "#fde725"
             ]
            ],
            "type": "histogram2dcontour"
           }
          ],
          "mesh3d": [
           {
            "colorbar": {
             "outlinewidth": 1,
             "tickcolor": "rgb(36,36,36)",
             "ticks": "outside"
            },
            "type": "mesh3d"
           }
          ],
          "parcoords": [
           {
            "line": {
             "colorbar": {
              "outlinewidth": 1,
              "tickcolor": "rgb(36,36,36)",
              "ticks": "outside"
             }
            },
            "type": "parcoords"
           }
          ],
          "pie": [
           {
            "automargin": true,
            "type": "pie"
           }
          ],
          "scatter": [
           {
            "fillpattern": {
             "fillmode": "overlay",
             "size": 10,
             "solidity": 0.2
            },
            "type": "scatter"
           }
          ],
          "scatter3d": [
           {
            "line": {
             "colorbar": {
              "outlinewidth": 1,
              "tickcolor": "rgb(36,36,36)",
              "ticks": "outside"
             }
            },
            "marker": {
             "colorbar": {
              "outlinewidth": 1,
              "tickcolor": "rgb(36,36,36)",
              "ticks": "outside"
             }
            },
            "type": "scatter3d"
           }
          ],
          "scattercarpet": [
           {
            "marker": {
             "colorbar": {
              "outlinewidth": 1,
              "tickcolor": "rgb(36,36,36)",
              "ticks": "outside"
             }
            },
            "type": "scattercarpet"
           }
          ],
          "scattergeo": [
           {
            "marker": {
             "colorbar": {
              "outlinewidth": 1,
              "tickcolor": "rgb(36,36,36)",
              "ticks": "outside"
             }
            },
            "type": "scattergeo"
           }
          ],
          "scattergl": [
           {
            "marker": {
             "colorbar": {
              "outlinewidth": 1,
              "tickcolor": "rgb(36,36,36)",
              "ticks": "outside"
             }
            },
            "type": "scattergl"
           }
          ],
          "scattermapbox": [
           {
            "marker": {
             "colorbar": {
              "outlinewidth": 1,
              "tickcolor": "rgb(36,36,36)",
              "ticks": "outside"
             }
            },
            "type": "scattermapbox"
           }
          ],
          "scatterpolar": [
           {
            "marker": {
             "colorbar": {
              "outlinewidth": 1,
              "tickcolor": "rgb(36,36,36)",
              "ticks": "outside"
             }
            },
            "type": "scatterpolar"
           }
          ],
          "scatterpolargl": [
           {
            "marker": {
             "colorbar": {
              "outlinewidth": 1,
              "tickcolor": "rgb(36,36,36)",
              "ticks": "outside"
             }
            },
            "type": "scatterpolargl"
           }
          ],
          "scatterternary": [
           {
            "marker": {
             "colorbar": {
              "outlinewidth": 1,
              "tickcolor": "rgb(36,36,36)",
              "ticks": "outside"
             }
            },
            "type": "scatterternary"
           }
          ],
          "surface": [
           {
            "colorbar": {
             "outlinewidth": 1,
             "tickcolor": "rgb(36,36,36)",
             "ticks": "outside"
            },
            "colorscale": [
             [
              0,
              "#440154"
             ],
             [
              0.1111111111111111,
              "#482878"
             ],
             [
              0.2222222222222222,
              "#3e4989"
             ],
             [
              0.3333333333333333,
              "#31688e"
             ],
             [
              0.4444444444444444,
              "#26828e"
             ],
             [
              0.5555555555555556,
              "#1f9e89"
             ],
             [
              0.6666666666666666,
              "#35b779"
             ],
             [
              0.7777777777777778,
              "#6ece58"
             ],
             [
              0.8888888888888888,
              "#b5de2b"
             ],
             [
              1,
              "#fde725"
             ]
            ],
            "type": "surface"
           }
          ],
          "table": [
           {
            "cells": {
             "fill": {
              "color": "rgb(237,237,237)"
             },
             "line": {
              "color": "white"
             }
            },
            "header": {
             "fill": {
              "color": "rgb(217,217,217)"
             },
             "line": {
              "color": "white"
             }
            },
            "type": "table"
           }
          ]
         },
         "layout": {
          "annotationdefaults": {
           "arrowhead": 0,
           "arrowwidth": 1
          },
          "autotypenumbers": "strict",
          "coloraxis": {
           "colorbar": {
            "outlinewidth": 1,
            "tickcolor": "rgb(36,36,36)",
            "ticks": "outside"
           }
          },
          "colorscale": {
           "diverging": [
            [
             0,
             "rgb(103,0,31)"
            ],
            [
             0.1,
             "rgb(178,24,43)"
            ],
            [
             0.2,
             "rgb(214,96,77)"
            ],
            [
             0.3,
             "rgb(244,165,130)"
            ],
            [
             0.4,
             "rgb(253,219,199)"
            ],
            [
             0.5,
             "rgb(247,247,247)"
            ],
            [
             0.6,
             "rgb(209,229,240)"
            ],
            [
             0.7,
             "rgb(146,197,222)"
            ],
            [
             0.8,
             "rgb(67,147,195)"
            ],
            [
             0.9,
             "rgb(33,102,172)"
            ],
            [
             1,
             "rgb(5,48,97)"
            ]
           ],
           "sequential": [
            [
             0,
             "#440154"
            ],
            [
             0.1111111111111111,
             "#482878"
            ],
            [
             0.2222222222222222,
             "#3e4989"
            ],
            [
             0.3333333333333333,
             "#31688e"
            ],
            [
             0.4444444444444444,
             "#26828e"
            ],
            [
             0.5555555555555556,
             "#1f9e89"
            ],
            [
             0.6666666666666666,
             "#35b779"
            ],
            [
             0.7777777777777778,
             "#6ece58"
            ],
            [
             0.8888888888888888,
             "#b5de2b"
            ],
            [
             1,
             "#fde725"
            ]
           ],
           "sequentialminus": [
            [
             0,
             "#440154"
            ],
            [
             0.1111111111111111,
             "#482878"
            ],
            [
             0.2222222222222222,
             "#3e4989"
            ],
            [
             0.3333333333333333,
             "#31688e"
            ],
            [
             0.4444444444444444,
             "#26828e"
            ],
            [
             0.5555555555555556,
             "#1f9e89"
            ],
            [
             0.6666666666666666,
             "#35b779"
            ],
            [
             0.7777777777777778,
             "#6ece58"
            ],
            [
             0.8888888888888888,
             "#b5de2b"
            ],
            [
             1,
             "#fde725"
            ]
           ]
          },
          "colorway": [
           "#1F77B4",
           "#FF7F0E",
           "#2CA02C",
           "#D62728",
           "#9467BD",
           "#8C564B",
           "#E377C2",
           "#7F7F7F",
           "#BCBD22",
           "#17BECF"
          ],
          "font": {
           "color": "rgb(36,36,36)"
          },
          "geo": {
           "bgcolor": "white",
           "lakecolor": "white",
           "landcolor": "white",
           "showlakes": true,
           "showland": true,
           "subunitcolor": "white"
          },
          "hoverlabel": {
           "align": "left"
          },
          "hovermode": "closest",
          "mapbox": {
           "style": "light"
          },
          "paper_bgcolor": "white",
          "plot_bgcolor": "white",
          "polar": {
           "angularaxis": {
            "gridcolor": "rgb(232,232,232)",
            "linecolor": "rgb(36,36,36)",
            "showgrid": false,
            "showline": true,
            "ticks": "outside"
           },
           "bgcolor": "white",
           "radialaxis": {
            "gridcolor": "rgb(232,232,232)",
            "linecolor": "rgb(36,36,36)",
            "showgrid": false,
            "showline": true,
            "ticks": "outside"
           }
          },
          "scene": {
           "xaxis": {
            "backgroundcolor": "white",
            "gridcolor": "rgb(232,232,232)",
            "gridwidth": 2,
            "linecolor": "rgb(36,36,36)",
            "showbackground": true,
            "showgrid": false,
            "showline": true,
            "ticks": "outside",
            "zeroline": false,
            "zerolinecolor": "rgb(36,36,36)"
           },
           "yaxis": {
            "backgroundcolor": "white",
            "gridcolor": "rgb(232,232,232)",
            "gridwidth": 2,
            "linecolor": "rgb(36,36,36)",
            "showbackground": true,
            "showgrid": false,
            "showline": true,
            "ticks": "outside",
            "zeroline": false,
            "zerolinecolor": "rgb(36,36,36)"
           },
           "zaxis": {
            "backgroundcolor": "white",
            "gridcolor": "rgb(232,232,232)",
            "gridwidth": 2,
            "linecolor": "rgb(36,36,36)",
            "showbackground": true,
            "showgrid": false,
            "showline": true,
            "ticks": "outside",
            "zeroline": false,
            "zerolinecolor": "rgb(36,36,36)"
           }
          },
          "shapedefaults": {
           "fillcolor": "black",
           "line": {
            "width": 0
           },
           "opacity": 0.3
          },
          "ternary": {
           "aaxis": {
            "gridcolor": "rgb(232,232,232)",
            "linecolor": "rgb(36,36,36)",
            "showgrid": false,
            "showline": true,
            "ticks": "outside"
           },
           "baxis": {
            "gridcolor": "rgb(232,232,232)",
            "linecolor": "rgb(36,36,36)",
            "showgrid": false,
            "showline": true,
            "ticks": "outside"
           },
           "bgcolor": "white",
           "caxis": {
            "gridcolor": "rgb(232,232,232)",
            "linecolor": "rgb(36,36,36)",
            "showgrid": false,
            "showline": true,
            "ticks": "outside"
           }
          },
          "title": {
           "x": 0.05
          },
          "xaxis": {
           "automargin": true,
           "gridcolor": "rgb(232,232,232)",
           "linecolor": "rgb(36,36,36)",
           "showgrid": false,
           "showline": true,
           "ticks": "outside",
           "title": {
            "standoff": 15
           },
           "zeroline": false,
           "zerolinecolor": "rgb(36,36,36)"
          },
          "yaxis": {
           "automargin": true,
           "gridcolor": "rgb(232,232,232)",
           "linecolor": "rgb(36,36,36)",
           "showgrid": false,
           "showline": true,
           "ticks": "outside",
           "title": {
            "standoff": 15
           },
           "zeroline": false,
           "zerolinecolor": "rgb(36,36,36)"
          }
         }
        },
        "title": {
         "font": {
          "color": "Black",
          "size": 22
         },
         "text": "<b>Topics over Time</b>",
         "x": 0.4,
         "xanchor": "center",
         "y": 0.95,
         "yanchor": "top"
        },
        "width": 1250,
        "xaxis": {
         "showgrid": true
        },
        "yaxis": {
         "showgrid": true,
         "title": {
          "text": "Frequency"
         }
        }
       }
      }
     },
     "metadata": {},
     "output_type": "display_data"
    }
   ],
   "source": [
    "from helper import *\n",
    "from bertopic import BERTopic\n",
    "from bertopic.representation import LangChain\n",
    "\n",
    "config = Config()\n",
    "config.setFromEnv()\n",
    "\n",
    "LangChainQABot = LangChainBot(config)\n",
    "chain = LangChainQABot.chain\n",
    "prompt = \"Give a single label that is only a few words long to summarizw what these documents are about\"\n",
    "representation_model = LangChain(chain, prompt=prompt)\n",
    "topic_model = BERTopic(representation_model=representation_model, nr_topics=4)\n",
    "\n",
    "videoNames = [\"New Quizzes Video\", \"Rearrange Playlist video\"]\n",
    "combinedTranscripts = getcombinedTranscripts()\n",
    "video = videoNames[0]\n",
    "\n",
    "docs = combinedTranscripts[video][\"Combined Lines\"].tolist()\n",
    "timestamps = combinedTranscripts[video][\"Start\"].tolist()\n",
    "\n",
    "topics, probs = topic_model.fit_transform(docs)\n",
    "# topics = topic_model.reduce_outliers(docs, topics)\n",
    "\n",
    "# hierarchical_topics = topic_model.hierarchical_topics(docs)\n",
    "# topic_model.visualize_hierarchy(hierarchical_topics=hierarchical_topics)\n",
    "\n",
    "binCount = getBinCount(combinedTranscripts[video], windowSize=120)\n",
    "\n",
    "topics_over_time = topic_model.topics_over_time(docs, timestamps, nr_bins=binCount)\n",
    "topic_model.visualize_topics_over_time(topics_over_time)"
   ]
  },
  {
   "cell_type": "markdown",
   "metadata": {},
   "source": [
    "# Rough code to start identifying peak times for given topic discussions"
   ]
  },
  {
   "cell_type": "code",
   "execution_count": 4,
   "metadata": {},
   "outputs": [],
   "source": [
    "def getMaxTopics(topicsOverTime):\n",
    "    timestampStack = []\n",
    "    for group in topicsOverTime.groupby(\"Timestamp\"):\n",
    "        timestampStack.append(\n",
    "            group[1].sort_values(\"Frequency\", ascending=False).head(1)\n",
    "        )\n",
    "\n",
    "    binnedTopics = pd.concat(timestampStack).sort_values(\"Timestamp\")\n",
    "    binnedTopics = binnedTopics[binnedTopics[\"Topic\"] != -1]\n",
    "\n",
    "    binnedTopics = (\n",
    "        binnedTopics.groupby(\n",
    "            (binnedTopics[\"Topic\"] != binnedTopics[\"Topic\"].shift()).cumsum()\n",
    "        )\n",
    "        .agg(\n",
    "            {\n",
    "                \"Topic\": \"first\",\n",
    "                \"Words\": \"first\",\n",
    "                \"Frequency\": \"sum\",\n",
    "                \"Timestamp\": \"first\",\n",
    "                \"Name\": \"first\",\n",
    "            }\n",
    "        )\n",
    "        .reset_index(drop=True)\n",
    "    )\n",
    "\n",
    "    binnedTopics[\"Start\"] = binnedTopics[\"Timestamp\"]\n",
    "    binnedTopics[\"End\"] = binnedTopics[\"Timestamp\"].shift(-1)\n",
    "\n",
    "    binnedTopics.at[binnedTopics.index[0], \"Start\"] = combinedTranscripts[video][\n",
    "        \"Start\"\n",
    "    ].iloc[0]\n",
    "    binnedTopics.at[binnedTopics.index[-1], \"End\"] = combinedTranscripts[video][\n",
    "        \"End\"\n",
    "    ].iloc[-1]\n",
    "\n",
    "    binnedTopics = binnedTopics.drop(\"Timestamp\", axis=1)\n",
    "\n",
    "    maxStack = []\n",
    "    for group in binnedTopics.groupby(\"Topic\"):\n",
    "        maxStack.append(group[1].sort_values(\"Frequency\", ascending=False).head(1))\n",
    "\n",
    "    maxTopics = pd.concat(maxStack).sort_values(\"Start\")\n",
    "    maxTopics[\"Cleaned Name\"] = maxTopics[\"Name\"].apply(\n",
    "        lambda name: name.lstrip(\"0123456789_. \").rstrip(\"0123456789_. \")\n",
    "    )\n",
    "    maxTopics = maxTopics.set_index(\"Cleaned Name\").to_dict(orient=\"index\")\n",
    "\n",
    "    return maxTopics\n",
    "\n",
    "\n",
    "def questionTaskBuilder(topic, relevantText):\n",
    "    questionTask = f\"\"\"For the topic: {topic}, generate a multiple choice type question based on the following text: {relevantText}\n",
    "There should be four possible answers, with one being the correct answers. Also Provide a short reason to why each answer is correct or incorrect.\n",
    "Return the data in the following JSON format as an example: {{\"question\": \"What is the capital of France?\", \"answers\": [\"Paris\", \"London\", \"Berlin\", \"Madrid\"], \"correct\": \"Paris\", \"reason\": \"Paris is the capital of France\"}}\"\"\"\n",
    "\n",
    "    return questionTask\n",
    "\n",
    "\n",
    "def getRelevantText(combinedTranscript, maxTopics):\n",
    "    for topic in maxTopics:\n",
    "        relevantSentences = combinedTranscript[\n",
    "            (combinedTranscript[\"Start\"] > maxTopics[topic][\"Start\"])\n",
    "            & (combinedTranscript[\"End\"] < maxTopics[topic][\"End\"])\n",
    "        ]\n",
    "        maxTopics[topic][\"Relevant Text\"] = \" \".join(\n",
    "            relevantSentences[\"Combined Lines\"].tolist()\n",
    "        )\n",
    "        maxTopics[topic][\"Question Text\"] = questionTaskBuilder(\n",
    "            topic, maxTopics[topic][\"Relevant Text\"]\n",
    "        )\n",
    "\n",
    "    return maxTopics\n",
    "\n",
    "\n",
    "def questionGenerator(topicTexts):\n",
    "    OpenAIChatBot = OpenAIBot(config)\n",
    "\n",
    "    for topic in topicTexts:\n",
    "        response = OpenAIChatBot.client.chat.completions.create(\n",
    "            model=OpenAIChatBot.model,\n",
    "            messages=[\n",
    "                {\n",
    "                    \"role\": \"system\",\n",
    "                    \"content\": \"You are a question-generating bot that generates questions for a given topic based on the provided relevant trancription text from a video.\",\n",
    "                },\n",
    "                {\"role\": \"user\", \"content\": topicTexts[topic][\"Question Text\"]},\n",
    "            ],\n",
    "            temperature=0,\n",
    "            stop=None,\n",
    "        )\n",
    "\n",
    "        responseText = response.choices[0].message.content\n",
    "\n",
    "        topicTexts[topic][\"JSON\"] = responseText\n",
    "\n",
    "    return topicTexts"
   ]
  },
  {
   "cell_type": "code",
   "execution_count": 5,
   "metadata": {},
   "outputs": [
    {
     "name": "stdout",
     "output_type": "stream",
     "text": [
      "Educational Assessment Tools\n",
      "Canvas New Quizzes Tutorial\n",
      "Educational Accommodations Management\n"
     ]
    }
   ],
   "source": [
    "maxTopics = getMaxTopics(topics_over_time)\n",
    "topicTexts = getRelevantText(combinedTranscripts[video], maxTopics)\n",
    "\n",
    "questionData = questionGenerator(topicTexts)"
   ]
  },
  {
   "cell_type": "code",
   "execution_count": 10,
   "metadata": {},
   "outputs": [
    {
     "name": "stdout",
     "output_type": "stream",
     "text": [
      "Question Topic: Educational Assessment Tools\n",
      "Question Insertion Point: 1900-01-01 00:12:15.722292682\n",
      "Question Data:\n",
      "```json\n",
      "{\n",
      "  \"question\": \"Which of the following is NOT a feature of the new quizzes as described in the transcript?\",\n",
      "  \"answers\": [\n",
      "    \"Ability to analyze quiz data with item analysis tables\",\n",
      "    \"Option to shuffle questions and answers for each quiz\",\n",
      "    \"On-screen calculators for students during the quiz\",\n",
      "    \"Assessable hotspot questions\"\n",
      "  ],\n",
      "  \"correct\": \"Assessable hotspot questions\",\n",
      "  \"reason\": \"The transcript mentions that hotspot questions are not assessable, which is the caveat for this question type. The other options are mentioned as features of the new quizzes.\"\n",
      "}\n",
      "```\n",
      "\n",
      "\n",
      "\n",
      "Question Topic: Canvas New Quizzes Tutorial\n",
      "Question Insertion Point: 1900-01-01 01:03:08.148512195\n",
      "Question Data:\n",
      "```json\n",
      "{\n",
      "  \"question\": \"Which of the following is NOT a new feature available in Canvas New Quizzes?\",\n",
      "  \"answers\": [\n",
      "    \"Setting accommodations for each student\",\n",
      "    \"Activity Logs to view time spent on questions\",\n",
      "    \"Ability to record audio and video within the Rich Content Editor\",\n",
      "    \"Automatic distribution of points across all questions\"\n",
      "  ],\n",
      "  \"correct\": \"Automatic distribution of points across all questions\",\n",
      "  \"reason\": \"Automatic distribution of points across all questions is not a feature mentioned in the text. Points must be manually assigned to each question.\"\n",
      "}\n",
      "```\n",
      "\n",
      "\n",
      "\n",
      "Question Topic: Educational Accommodations Management\n",
      "Question Insertion Point: 1900-01-01 01:19:24.924902439\n",
      "Question Data:\n",
      "```json\n",
      "{\n",
      "  \"question\": \"What can be set globally for all courses a student is enrolled in when managing accommodations in quizzes?\",\n",
      "  \"answers\": [\n",
      "    \"Time multiplier for a single quiz attempt\",\n",
      "    \"Additional attempts for a specific quiz\",\n",
      "    \"Extra time for all quiz attempts\",\n",
      "    \"Removal of time limits for all quizzes\"\n",
      "  ],\n",
      "  \"correct\": \"Extra time for all quiz attempts\",\n",
      "  \"reason\": \"Extra time for all quiz attempts can be set globally as an accommodation for a student, which applies to all courses they are enrolled in. Time multiplier for a single quiz attempt and additional attempts for a specific quiz are adjustments made on a per-quiz basis, not globally. Removal of time limits for all quizzes is not mentioned as a global setting for accommodations.\"\n",
      "}\n",
      "```\n",
      "\n",
      "\n",
      "\n"
     ]
    }
   ],
   "source": [
    "for topic in questionData:\n",
    "    print(f'Question Topic: {topic}')\n",
    "    print(f'Question Insertion Point: {maxTopics[topic][\"End\"]}')\n",
    "    print('Question Data:')\n",
    "    print(questionData[topic][\"JSON\"])\n",
    "    print(\"\\n\\n\")"
   ]
  },
  {
   "cell_type": "markdown",
   "metadata": {},
   "source": [
    "# Looking into a way to plot some of the charts myself a bit more easily."
   ]
  },
  {
   "cell_type": "code",
   "execution_count": 11,
   "metadata": {},
   "outputs": [
    {
     "name": "stdout",
     "output_type": "stream",
     "text": [
      "t \"Online Quiz...\n",
      "t \"Online Asse...\n",
      "t \"Online Test...\n"
     ]
    },
    {
     "data": {
      "application/vnd.plotly.v1+json": {
       "config": {
        "plotlyServerURL": "https://plot.ly"
       },
       "data": [
        {
         "hoverinfo": "text",
         "hovertext": [
          "<b>Topic 0</b><br>Words: These documents are about \"Online Quiz Creation and Migration Updates.\", , , , ",
          "<b>Topic 0</b><br>Words: These documents are about online quiz functionality and management., , , , ",
          "<b>Topic 0</b><br>Words: These documents are about \"Educational Assessment Tools.\", , , , ",
          "<b>Topic 0</b><br>Words: These documents are about \"Educational Technology Training.\", , , , ",
          "<b>Topic 0</b><br>Words: Educational Quiz Templates, , , , ",
          "<b>Topic 0</b><br>Words: These documents are about \"Canvas Quiz Formats Comparison.\", , , , ",
          "<b>Topic 0</b><br>Words: These documents are about \"Online Quiz Tools and Updates.\", , , , ",
          "<b>Topic 0</b><br>Words: The documents are about creating a quiz with different question types and options. A single label would be \"Quiz Creation Tutorial.\", , , , ",
          "<b>Topic 0</b><br>Words: These documents are about creating and managing quizzes in an educational platform or software., , , , ",
          "<b>Topic 0</b><br>Words: These documents are about \"Online Quiz Creation.\", , , , ",
          "<b>Topic 0</b><br>Words: These documents appear to be about creating and editing a quiz or test, likely in an educational or e-learning setting. A single label for this context could be \"Quiz Configuration Instructions.\", , , , ",
          "<b>Topic 0</b><br>Words: Based on the context provided, it is unclear what specific documents you are referring to. It appears to be instructions or guidelines on how to formulate a question, possibly for a game or educational activity, but without more specific information, I cannot accurately label the documents. If you can provide more details or clarify what documents you're referencing, I might be able to assist you better., , , , ",
          "<b>Topic 0</b><br>Words: These documents appear to be about an \"Online Quiz Creation\" tutorial or class session., , , , ",
          "<b>Topic 0</b><br>Words: These documents appear to be about educational quiz settings or quiz report features. A single label could be \"Quiz Management Tools.\", , , , ",
          "<b>Topic 0</b><br>Words: These documents are about \"Quiz Analysis\" in an educational context., , , , ",
          "<b>Topic 0</b><br>Words: These documents are about Canvas LMS training resources., , , , "
         ],
         "marker": {
          "color": "#E69F00"
         },
         "mode": "lines",
         "name": "0_These documents are about \"Online Quiz...",
         "type": "scatter",
         "x": [
          "1899-12-31T23:59:58.134021",
          "1900-01-01T00:04:13.438950",
          "1900-01-01T00:08:23.737900",
          "1900-01-01T00:12:34.036850",
          "1900-01-01T00:16:44.335800",
          "1900-01-01T00:20:54.634750",
          "1900-01-01T00:25:04.933700",
          "1900-01-01T00:29:15.232650",
          "1900-01-01T00:33:25.531600",
          "1900-01-01T00:37:35.830550",
          "1900-01-01T00:41:46.129500",
          "1900-01-01T00:54:17.026350",
          "1900-01-01T00:58:27.325300",
          "1900-01-01T01:06:47.923200",
          "1900-01-01T01:10:58.222150",
          "1900-01-01T01:19:18.820050"
         ],
         "y": [
          8,
          3,
          3,
          6,
          1,
          4,
          4,
          6,
          4,
          3,
          2,
          1,
          1,
          3,
          2,
          3
         ]
        },
        {
         "hoverinfo": "text",
         "hovertext": [
          "<b>Topic 1</b><br>Words: These documents are about educational assessment question types., , , , ",
          "<b>Topic 1</b><br>Words: These documents appear to be about creating or discussing a \"quiz,\" specifically focusing on a feature called \"hotspot.\" A suitable single label for the content described might be \"Quiz Creation Tutorial.\", , , , ",
          "<b>Topic 1</b><br>Words: Based on the context provided, these documents appear to be about a tutorial or guide for a digital platform or software with editing and previewing capabilities. The single label for these documents could be \"Software Editing Tutorial.\", , , , ",
          "<b>Topic 1</b><br>Words: The context provided suggests the documents are related to a tutorial or guide on how to use a software interface, specifically focusing on question layout and answer formatting options. A single label for these documents could be \"Software Interface Tutorial.\", , , , ",
          "<b>Topic 1</b><br>Words: The documents appear to be related to creating or setting up an educational assessment or assignment, likely within an online learning platform or educational software. A single label for these documents could be \"Educational Assessment Setup.\", , , , ",
          "<b>Topic 1</b><br>Words: It's not possible to provide a single label for the documents based on the given context, as there is insufficient information about the content or purpose of the documents mentioned., , , , ",
          "<b>Topic 1</b><br>Words: These documents are about creating accessible educational content with different question types., , , , "
         ],
         "marker": {
          "color": "#56B4E9"
         },
         "mode": "lines",
         "name": "1_These documents are about \"Online Asse...",
         "type": "scatter",
         "x": [
          "1900-01-01T00:04:13.438950",
          "1900-01-01T00:16:44.335800",
          "1900-01-01T00:33:25.531600",
          "1900-01-01T00:45:56.428450",
          "1900-01-01T00:50:06.727400",
          "1900-01-01T00:54:17.026350",
          "1900-01-01T00:58:27.325300"
         ],
         "y": [
          3,
          1,
          1,
          3,
          2,
          1,
          6
         ]
        },
        {
         "hoverinfo": "text",
         "hovertext": [
          "<b>Topic 2</b><br>Words: The documents appear to be discussing features of a digital quiz or testing platform. A suitable single label could be \"Online Assessment Tools.\", , , , ",
          "<b>Topic 2</b><br>Words: These documents appear to be about \"educational moderation features,\" particularly regarding accommodations for students with special needs., , , , ",
          "<b>Topic 2</b><br>Words: Based on the context provided, these documents appear to be related to \"educational assignment management\" or \"online learning platforms.\" Please provide additional context if you need a more specific label., , , , ",
          "<b>Topic 2</b><br>Words: These documents appear to be discussing the setup of an online quiz or test with security measures such as access codes, time limits, and IP filtering. A single label for these documents could be \"Online Exam Security Settings.\", , , , ",
          "<b>Topic 2</b><br>Words: These documents are about Quiz Attempt Settings., , , , ",
          "<b>Topic 2</b><br>Words: These documents are about \"Educational Accommodations.\", , , , ",
          "<b>Topic 2</b><br>Words: These documents are about providing test accommodations in an educational setting., , , , "
         ],
         "marker": {
          "color": "#009E73"
         },
         "mode": "lines",
         "name": "2_These documents are about \"Online Test...",
         "type": "scatter",
         "x": [
          "1900-01-01T00:08:23.737900",
          "1900-01-01T00:12:34.036850",
          "1900-01-01T00:25:04.933700",
          "1900-01-01T01:02:37.624250",
          "1900-01-01T01:06:47.923200",
          "1900-01-01T01:10:58.222150",
          "1900-01-01T01:15:08.521100"
         ],
         "y": [
          1,
          1,
          1,
          3,
          2,
          4,
          5
         ]
        }
       ],
       "layout": {
        "height": 450,
        "hoverlabel": {
         "bgcolor": "white",
         "font": {
          "family": "Rockwell",
          "size": 16
         }
        },
        "legend": {
         "title": {
          "text": "<b>Global Topic Representation"
         }
        },
        "template": {
         "data": {
          "bar": [
           {
            "error_x": {
             "color": "rgb(36,36,36)"
            },
            "error_y": {
             "color": "rgb(36,36,36)"
            },
            "marker": {
             "line": {
              "color": "white",
              "width": 0.5
             },
             "pattern": {
              "fillmode": "overlay",
              "size": 10,
              "solidity": 0.2
             }
            },
            "type": "bar"
           }
          ],
          "barpolar": [
           {
            "marker": {
             "line": {
              "color": "white",
              "width": 0.5
             },
             "pattern": {
              "fillmode": "overlay",
              "size": 10,
              "solidity": 0.2
             }
            },
            "type": "barpolar"
           }
          ],
          "carpet": [
           {
            "aaxis": {
             "endlinecolor": "rgb(36,36,36)",
             "gridcolor": "white",
             "linecolor": "white",
             "minorgridcolor": "white",
             "startlinecolor": "rgb(36,36,36)"
            },
            "baxis": {
             "endlinecolor": "rgb(36,36,36)",
             "gridcolor": "white",
             "linecolor": "white",
             "minorgridcolor": "white",
             "startlinecolor": "rgb(36,36,36)"
            },
            "type": "carpet"
           }
          ],
          "choropleth": [
           {
            "colorbar": {
             "outlinewidth": 1,
             "tickcolor": "rgb(36,36,36)",
             "ticks": "outside"
            },
            "type": "choropleth"
           }
          ],
          "contour": [
           {
            "colorbar": {
             "outlinewidth": 1,
             "tickcolor": "rgb(36,36,36)",
             "ticks": "outside"
            },
            "colorscale": [
             [
              0,
              "#440154"
             ],
             [
              0.1111111111111111,
              "#482878"
             ],
             [
              0.2222222222222222,
              "#3e4989"
             ],
             [
              0.3333333333333333,
              "#31688e"
             ],
             [
              0.4444444444444444,
              "#26828e"
             ],
             [
              0.5555555555555556,
              "#1f9e89"
             ],
             [
              0.6666666666666666,
              "#35b779"
             ],
             [
              0.7777777777777778,
              "#6ece58"
             ],
             [
              0.8888888888888888,
              "#b5de2b"
             ],
             [
              1,
              "#fde725"
             ]
            ],
            "type": "contour"
           }
          ],
          "contourcarpet": [
           {
            "colorbar": {
             "outlinewidth": 1,
             "tickcolor": "rgb(36,36,36)",
             "ticks": "outside"
            },
            "type": "contourcarpet"
           }
          ],
          "heatmap": [
           {
            "colorbar": {
             "outlinewidth": 1,
             "tickcolor": "rgb(36,36,36)",
             "ticks": "outside"
            },
            "colorscale": [
             [
              0,
              "#440154"
             ],
             [
              0.1111111111111111,
              "#482878"
             ],
             [
              0.2222222222222222,
              "#3e4989"
             ],
             [
              0.3333333333333333,
              "#31688e"
             ],
             [
              0.4444444444444444,
              "#26828e"
             ],
             [
              0.5555555555555556,
              "#1f9e89"
             ],
             [
              0.6666666666666666,
              "#35b779"
             ],
             [
              0.7777777777777778,
              "#6ece58"
             ],
             [
              0.8888888888888888,
              "#b5de2b"
             ],
             [
              1,
              "#fde725"
             ]
            ],
            "type": "heatmap"
           }
          ],
          "heatmapgl": [
           {
            "colorbar": {
             "outlinewidth": 1,
             "tickcolor": "rgb(36,36,36)",
             "ticks": "outside"
            },
            "colorscale": [
             [
              0,
              "#440154"
             ],
             [
              0.1111111111111111,
              "#482878"
             ],
             [
              0.2222222222222222,
              "#3e4989"
             ],
             [
              0.3333333333333333,
              "#31688e"
             ],
             [
              0.4444444444444444,
              "#26828e"
             ],
             [
              0.5555555555555556,
              "#1f9e89"
             ],
             [
              0.6666666666666666,
              "#35b779"
             ],
             [
              0.7777777777777778,
              "#6ece58"
             ],
             [
              0.8888888888888888,
              "#b5de2b"
             ],
             [
              1,
              "#fde725"
             ]
            ],
            "type": "heatmapgl"
           }
          ],
          "histogram": [
           {
            "marker": {
             "line": {
              "color": "white",
              "width": 0.6
             }
            },
            "type": "histogram"
           }
          ],
          "histogram2d": [
           {
            "colorbar": {
             "outlinewidth": 1,
             "tickcolor": "rgb(36,36,36)",
             "ticks": "outside"
            },
            "colorscale": [
             [
              0,
              "#440154"
             ],
             [
              0.1111111111111111,
              "#482878"
             ],
             [
              0.2222222222222222,
              "#3e4989"
             ],
             [
              0.3333333333333333,
              "#31688e"
             ],
             [
              0.4444444444444444,
              "#26828e"
             ],
             [
              0.5555555555555556,
              "#1f9e89"
             ],
             [
              0.6666666666666666,
              "#35b779"
             ],
             [
              0.7777777777777778,
              "#6ece58"
             ],
             [
              0.8888888888888888,
              "#b5de2b"
             ],
             [
              1,
              "#fde725"
             ]
            ],
            "type": "histogram2d"
           }
          ],
          "histogram2dcontour": [
           {
            "colorbar": {
             "outlinewidth": 1,
             "tickcolor": "rgb(36,36,36)",
             "ticks": "outside"
            },
            "colorscale": [
             [
              0,
              "#440154"
             ],
             [
              0.1111111111111111,
              "#482878"
             ],
             [
              0.2222222222222222,
              "#3e4989"
             ],
             [
              0.3333333333333333,
              "#31688e"
             ],
             [
              0.4444444444444444,
              "#26828e"
             ],
             [
              0.5555555555555556,
              "#1f9e89"
             ],
             [
              0.6666666666666666,
              "#35b779"
             ],
             [
              0.7777777777777778,
              "#6ece58"
             ],
             [
              0.8888888888888888,
              "#b5de2b"
             ],
             [
              1,
              "#fde725"
             ]
            ],
            "type": "histogram2dcontour"
           }
          ],
          "mesh3d": [
           {
            "colorbar": {
             "outlinewidth": 1,
             "tickcolor": "rgb(36,36,36)",
             "ticks": "outside"
            },
            "type": "mesh3d"
           }
          ],
          "parcoords": [
           {
            "line": {
             "colorbar": {
              "outlinewidth": 1,
              "tickcolor": "rgb(36,36,36)",
              "ticks": "outside"
             }
            },
            "type": "parcoords"
           }
          ],
          "pie": [
           {
            "automargin": true,
            "type": "pie"
           }
          ],
          "scatter": [
           {
            "fillpattern": {
             "fillmode": "overlay",
             "size": 10,
             "solidity": 0.2
            },
            "type": "scatter"
           }
          ],
          "scatter3d": [
           {
            "line": {
             "colorbar": {
              "outlinewidth": 1,
              "tickcolor": "rgb(36,36,36)",
              "ticks": "outside"
             }
            },
            "marker": {
             "colorbar": {
              "outlinewidth": 1,
              "tickcolor": "rgb(36,36,36)",
              "ticks": "outside"
             }
            },
            "type": "scatter3d"
           }
          ],
          "scattercarpet": [
           {
            "marker": {
             "colorbar": {
              "outlinewidth": 1,
              "tickcolor": "rgb(36,36,36)",
              "ticks": "outside"
             }
            },
            "type": "scattercarpet"
           }
          ],
          "scattergeo": [
           {
            "marker": {
             "colorbar": {
              "outlinewidth": 1,
              "tickcolor": "rgb(36,36,36)",
              "ticks": "outside"
             }
            },
            "type": "scattergeo"
           }
          ],
          "scattergl": [
           {
            "marker": {
             "colorbar": {
              "outlinewidth": 1,
              "tickcolor": "rgb(36,36,36)",
              "ticks": "outside"
             }
            },
            "type": "scattergl"
           }
          ],
          "scattermapbox": [
           {
            "marker": {
             "colorbar": {
              "outlinewidth": 1,
              "tickcolor": "rgb(36,36,36)",
              "ticks": "outside"
             }
            },
            "type": "scattermapbox"
           }
          ],
          "scatterpolar": [
           {
            "marker": {
             "colorbar": {
              "outlinewidth": 1,
              "tickcolor": "rgb(36,36,36)",
              "ticks": "outside"
             }
            },
            "type": "scatterpolar"
           }
          ],
          "scatterpolargl": [
           {
            "marker": {
             "colorbar": {
              "outlinewidth": 1,
              "tickcolor": "rgb(36,36,36)",
              "ticks": "outside"
             }
            },
            "type": "scatterpolargl"
           }
          ],
          "scatterternary": [
           {
            "marker": {
             "colorbar": {
              "outlinewidth": 1,
              "tickcolor": "rgb(36,36,36)",
              "ticks": "outside"
             }
            },
            "type": "scatterternary"
           }
          ],
          "surface": [
           {
            "colorbar": {
             "outlinewidth": 1,
             "tickcolor": "rgb(36,36,36)",
             "ticks": "outside"
            },
            "colorscale": [
             [
              0,
              "#440154"
             ],
             [
              0.1111111111111111,
              "#482878"
             ],
             [
              0.2222222222222222,
              "#3e4989"
             ],
             [
              0.3333333333333333,
              "#31688e"
             ],
             [
              0.4444444444444444,
              "#26828e"
             ],
             [
              0.5555555555555556,
              "#1f9e89"
             ],
             [
              0.6666666666666666,
              "#35b779"
             ],
             [
              0.7777777777777778,
              "#6ece58"
             ],
             [
              0.8888888888888888,
              "#b5de2b"
             ],
             [
              1,
              "#fde725"
             ]
            ],
            "type": "surface"
           }
          ],
          "table": [
           {
            "cells": {
             "fill": {
              "color": "rgb(237,237,237)"
             },
             "line": {
              "color": "white"
             }
            },
            "header": {
             "fill": {
              "color": "rgb(217,217,217)"
             },
             "line": {
              "color": "white"
             }
            },
            "type": "table"
           }
          ]
         },
         "layout": {
          "annotationdefaults": {
           "arrowhead": 0,
           "arrowwidth": 1
          },
          "autotypenumbers": "strict",
          "coloraxis": {
           "colorbar": {
            "outlinewidth": 1,
            "tickcolor": "rgb(36,36,36)",
            "ticks": "outside"
           }
          },
          "colorscale": {
           "diverging": [
            [
             0,
             "rgb(103,0,31)"
            ],
            [
             0.1,
             "rgb(178,24,43)"
            ],
            [
             0.2,
             "rgb(214,96,77)"
            ],
            [
             0.3,
             "rgb(244,165,130)"
            ],
            [
             0.4,
             "rgb(253,219,199)"
            ],
            [
             0.5,
             "rgb(247,247,247)"
            ],
            [
             0.6,
             "rgb(209,229,240)"
            ],
            [
             0.7,
             "rgb(146,197,222)"
            ],
            [
             0.8,
             "rgb(67,147,195)"
            ],
            [
             0.9,
             "rgb(33,102,172)"
            ],
            [
             1,
             "rgb(5,48,97)"
            ]
           ],
           "sequential": [
            [
             0,
             "#440154"
            ],
            [
             0.1111111111111111,
             "#482878"
            ],
            [
             0.2222222222222222,
             "#3e4989"
            ],
            [
             0.3333333333333333,
             "#31688e"
            ],
            [
             0.4444444444444444,
             "#26828e"
            ],
            [
             0.5555555555555556,
             "#1f9e89"
            ],
            [
             0.6666666666666666,
             "#35b779"
            ],
            [
             0.7777777777777778,
             "#6ece58"
            ],
            [
             0.8888888888888888,
             "#b5de2b"
            ],
            [
             1,
             "#fde725"
            ]
           ],
           "sequentialminus": [
            [
             0,
             "#440154"
            ],
            [
             0.1111111111111111,
             "#482878"
            ],
            [
             0.2222222222222222,
             "#3e4989"
            ],
            [
             0.3333333333333333,
             "#31688e"
            ],
            [
             0.4444444444444444,
             "#26828e"
            ],
            [
             0.5555555555555556,
             "#1f9e89"
            ],
            [
             0.6666666666666666,
             "#35b779"
            ],
            [
             0.7777777777777778,
             "#6ece58"
            ],
            [
             0.8888888888888888,
             "#b5de2b"
            ],
            [
             1,
             "#fde725"
            ]
           ]
          },
          "colorway": [
           "#1F77B4",
           "#FF7F0E",
           "#2CA02C",
           "#D62728",
           "#9467BD",
           "#8C564B",
           "#E377C2",
           "#7F7F7F",
           "#BCBD22",
           "#17BECF"
          ],
          "font": {
           "color": "rgb(36,36,36)"
          },
          "geo": {
           "bgcolor": "white",
           "lakecolor": "white",
           "landcolor": "white",
           "showlakes": true,
           "showland": true,
           "subunitcolor": "white"
          },
          "hoverlabel": {
           "align": "left"
          },
          "hovermode": "closest",
          "mapbox": {
           "style": "light"
          },
          "paper_bgcolor": "white",
          "plot_bgcolor": "white",
          "polar": {
           "angularaxis": {
            "gridcolor": "rgb(232,232,232)",
            "linecolor": "rgb(36,36,36)",
            "showgrid": false,
            "showline": true,
            "ticks": "outside"
           },
           "bgcolor": "white",
           "radialaxis": {
            "gridcolor": "rgb(232,232,232)",
            "linecolor": "rgb(36,36,36)",
            "showgrid": false,
            "showline": true,
            "ticks": "outside"
           }
          },
          "scene": {
           "xaxis": {
            "backgroundcolor": "white",
            "gridcolor": "rgb(232,232,232)",
            "gridwidth": 2,
            "linecolor": "rgb(36,36,36)",
            "showbackground": true,
            "showgrid": false,
            "showline": true,
            "ticks": "outside",
            "zeroline": false,
            "zerolinecolor": "rgb(36,36,36)"
           },
           "yaxis": {
            "backgroundcolor": "white",
            "gridcolor": "rgb(232,232,232)",
            "gridwidth": 2,
            "linecolor": "rgb(36,36,36)",
            "showbackground": true,
            "showgrid": false,
            "showline": true,
            "ticks": "outside",
            "zeroline": false,
            "zerolinecolor": "rgb(36,36,36)"
           },
           "zaxis": {
            "backgroundcolor": "white",
            "gridcolor": "rgb(232,232,232)",
            "gridwidth": 2,
            "linecolor": "rgb(36,36,36)",
            "showbackground": true,
            "showgrid": false,
            "showline": true,
            "ticks": "outside",
            "zeroline": false,
            "zerolinecolor": "rgb(36,36,36)"
           }
          },
          "shapedefaults": {
           "fillcolor": "black",
           "line": {
            "width": 0
           },
           "opacity": 0.3
          },
          "ternary": {
           "aaxis": {
            "gridcolor": "rgb(232,232,232)",
            "linecolor": "rgb(36,36,36)",
            "showgrid": false,
            "showline": true,
            "ticks": "outside"
           },
           "baxis": {
            "gridcolor": "rgb(232,232,232)",
            "linecolor": "rgb(36,36,36)",
            "showgrid": false,
            "showline": true,
            "ticks": "outside"
           },
           "bgcolor": "white",
           "caxis": {
            "gridcolor": "rgb(232,232,232)",
            "linecolor": "rgb(36,36,36)",
            "showgrid": false,
            "showline": true,
            "ticks": "outside"
           }
          },
          "title": {
           "x": 0.05
          },
          "xaxis": {
           "automargin": true,
           "gridcolor": "rgb(232,232,232)",
           "linecolor": "rgb(36,36,36)",
           "showgrid": false,
           "showline": true,
           "ticks": "outside",
           "title": {
            "standoff": 15
           },
           "zeroline": false,
           "zerolinecolor": "rgb(36,36,36)"
          },
          "yaxis": {
           "automargin": true,
           "gridcolor": "rgb(232,232,232)",
           "linecolor": "rgb(36,36,36)",
           "showgrid": false,
           "showline": true,
           "ticks": "outside",
           "title": {
            "standoff": 15
           },
           "zeroline": false,
           "zerolinecolor": "rgb(36,36,36)"
          }
         }
        },
        "title": {
         "font": {
          "color": "Black",
          "size": 22
         },
         "text": "<b>Topics over Time</b>",
         "x": 0.4,
         "xanchor": "center",
         "y": 0.95,
         "yanchor": "top"
        },
        "width": 1250,
        "xaxis": {
         "showgrid": true
        },
        "yaxis": {
         "showgrid": true,
         "title": {
          "text": "Frequency"
         }
        }
       }
      }
     },
     "metadata": {},
     "output_type": "display_data"
    }
   ],
   "source": [
    "import pandas as pd\n",
    "from typing import List, Union\n",
    "import plotly.graph_objects as go\n",
    "from sklearn.preprocessing import normalize\n",
    "\n",
    "\n",
    "def visualize_topics_over_time(\n",
    "    topic_model,\n",
    "    topics_over_time: pd.DataFrame,\n",
    "    top_n_topics: int = None,\n",
    "    topics: List[int] = None,\n",
    "    normalize_frequency: bool = False,\n",
    "    custom_labels: Union[bool, str] = False,\n",
    "    title: str = \"<b>Topics over Time</b>\",\n",
    "    width: int = 1250,\n",
    "    height: int = 450,\n",
    ") -> go.Figure:\n",
    "    \"\"\"Visualize topics over time\n",
    "\n",
    "    Arguments:\n",
    "        topic_model: A fitted BERTopic instance.\n",
    "        topics_over_time: The topics you would like to be visualized with the\n",
    "                          corresponding topic representation\n",
    "        top_n_topics: To visualize the most frequent topics instead of all\n",
    "        topics: Select which topics you would like to be visualized\n",
    "        normalize_frequency: Whether to normalize each topic's frequency individually\n",
    "        custom_labels: If bool, whether to use custom topic labels that were defined using\n",
    "                       `topic_model.set_topic_labels`.\n",
    "                       If `str`, it uses labels from other aspects, e.g., \"Aspect1\".\n",
    "        title: Title of the plot.\n",
    "        width: The width of the figure.\n",
    "        height: The height of the figure.\n",
    "\n",
    "    Returns:\n",
    "        A plotly.graph_objects.Figure including all traces\n",
    "\n",
    "    Examples:\n",
    "\n",
    "    To visualize the topics over time, simply run:\n",
    "\n",
    "    ```python\n",
    "    topics_over_time = topic_model.topics_over_time(docs, timestamps)\n",
    "    topic_model.visualize_topics_over_time(topics_over_time)\n",
    "    ```\n",
    "\n",
    "    Or if you want to save the resulting figure:\n",
    "\n",
    "    ```python\n",
    "    fig = topic_model.visualize_topics_over_time(topics_over_time)\n",
    "    fig.write_html(\"path/to/file.html\")\n",
    "    ```\n",
    "    <iframe src=\"../../getting_started/visualization/trump.html\"\n",
    "    style=\"width:1000px; height: 680px; border: 0px;\"\"></iframe>\n",
    "    \"\"\"\n",
    "    colors = [\n",
    "        \"#E69F00\",\n",
    "        \"#56B4E9\",\n",
    "        \"#009E73\",\n",
    "        \"#F0E442\",\n",
    "        \"#D55E00\",\n",
    "        \"#0072B2\",\n",
    "        \"#CC79A7\",\n",
    "    ]\n",
    "\n",
    "    # Select topics based on top_n and topics args\n",
    "    freq_df = topic_model.get_topic_freq()\n",
    "    freq_df = freq_df.loc[freq_df.Topic != -1, :]\n",
    "    if topics is not None:\n",
    "        selected_topics = list(topics)\n",
    "    elif top_n_topics is not None:\n",
    "        selected_topics = sorted(freq_df.Topic.to_list()[:top_n_topics])\n",
    "    else:\n",
    "        selected_topics = sorted(freq_df.Topic.to_list())\n",
    "\n",
    "    # Prepare data\n",
    "    if isinstance(custom_labels, str):\n",
    "        topic_names = [\n",
    "            [[str(topic), None]] + topic_model.topic_aspects_[custom_labels][topic]\n",
    "            for topic in topics\n",
    "        ]\n",
    "        topic_names = [\n",
    "            \"_\".join([label[0] for label in labels[:4]]) for labels in topic_names\n",
    "        ]\n",
    "        topic_names = [\n",
    "            label if len(label) < 30 else label[:27] + \"...\" for label in topic_names\n",
    "        ]\n",
    "        topic_names = {\n",
    "            key: topic_names[index]\n",
    "            for index, key in enumerate(topic_model.topic_labels_.keys())\n",
    "        }\n",
    "    elif topic_model.custom_labels_ is not None and custom_labels:\n",
    "        topic_names = {\n",
    "            key: topic_model.custom_labels_[key + topic_model._outliers]\n",
    "            for key, _ in topic_model.topic_labels_.items()\n",
    "        }\n",
    "    else:\n",
    "        topic_names = {\n",
    "            key: value[:40] + \"...\" if len(value) > 40 else value\n",
    "            for key, value in topic_model.topic_labels_.items()\n",
    "        }\n",
    "    topics_over_time[\"Name\"] = topics_over_time.Topic.map(topic_names)\n",
    "    data = topics_over_time.loc[\n",
    "        topics_over_time.Topic.isin(selected_topics), :\n",
    "    ].sort_values([\"Topic\", \"Timestamp\"])\n",
    "\n",
    "    # Add traces\n",
    "    fig = go.Figure()\n",
    "    for index, topic in enumerate(data.Topic.unique()):\n",
    "        trace_data = data.loc[data.Topic == topic, :]\n",
    "        topic_name = trace_data.Name.values[0]\n",
    "        words = trace_data.Words.values\n",
    "        if normalize_frequency:\n",
    "            y = normalize(trace_data.Frequency.values.reshape(1, -1))[0]\n",
    "        else:\n",
    "            y = trace_data.Frequency\n",
    "        fig.add_trace(\n",
    "            go.Scatter(\n",
    "                x=trace_data.Timestamp,\n",
    "                y=y,\n",
    "                mode=\"lines\",\n",
    "                marker_color=colors[index % 7],\n",
    "                hoverinfo=\"text\",\n",
    "                name=topic_name,\n",
    "                hovertext=[f\"<b>Topic {topic}</b><br>Words: {word}\" for word in words],\n",
    "            )\n",
    "        )\n",
    "\n",
    "    # Styling of the visualization\n",
    "    fig.update_xaxes(showgrid=True)\n",
    "    fig.update_yaxes(showgrid=True)\n",
    "    fig.update_layout(\n",
    "        yaxis_title=\"Normalized Frequency\" if normalize_frequency else \"Frequency\",\n",
    "        title={\n",
    "            \"text\": f\"{title}\",\n",
    "            \"y\": 0.95,\n",
    "            \"x\": 0.40,\n",
    "            \"xanchor\": \"center\",\n",
    "            \"yanchor\": \"top\",\n",
    "            \"font\": dict(size=22, color=\"Black\"),\n",
    "        },\n",
    "        template=\"simple_white\",\n",
    "        width=width,\n",
    "        height=height,\n",
    "        hoverlabel=dict(bgcolor=\"white\", font_size=16, font_family=\"Rockwell\"),\n",
    "        legend=dict(\n",
    "            title=\"<b>Global Topic Representation\",\n",
    "        ),\n",
    "    )\n",
    "    return fig\n",
    "\n",
    "\n",
    "visualize_topics_over_time(topic_model, topics_over_time)"
   ]
  }
 ],
 "metadata": {
  "kernelspec": {
   "display_name": "base",
   "language": "python",
   "name": "python3"
  },
  "language_info": {
   "codemirror_mode": {
    "name": "ipython",
    "version": 3
   },
   "file_extension": ".py",
   "mimetype": "text/x-python",
   "name": "python",
   "nbconvert_exporter": "python",
   "pygments_lexer": "ipython3",
   "version": "3.12.3"
  }
 },
 "nbformat": 4,
 "nbformat_minor": 2
}
